{
 "cells": [
  {
   "cell_type": "markdown",
   "metadata": {},
   "source": [
    "## Integrity Group Analysis\n",
    "Formatting this data into something I can work with is going to be very difficult.. here we go."
   ]
  },
  {
   "cell_type": "markdown",
   "metadata": {},
   "source": [
    "Note to self: remove data from 4/3 (piloting)"
   ]
  },
  {
   "cell_type": "code",
   "execution_count": 12,
   "metadata": {},
   "outputs": [],
   "source": [
    "library(tidyverse)\n",
    "library(data.table)\n",
    "library(ez)"
   ]
  },
  {
   "cell_type": "code",
   "execution_count": 22,
   "metadata": {},
   "outputs": [],
   "source": [
    "current_data <- fread('../data/integrity_raw.csv')"
   ]
  },
  {
   "cell_type": "code",
   "execution_count": 23,
   "metadata": {},
   "outputs": [
    {
     "data": {
      "text/html": [
       "63"
      ],
      "text/latex": [
       "63"
      ],
      "text/markdown": [
       "63"
      ],
      "text/plain": [
       "[1] 63"
      ]
     },
     "metadata": {},
     "output_type": "display_data"
    }
   ],
   "source": [
    "nrow(current_data)"
   ]
  },
  {
   "cell_type": "code",
   "execution_count": 24,
   "metadata": {},
   "outputs": [
    {
     "name": "stderr",
     "output_type": "stream",
     "text": [
      "Warning message in lapply(X = X, FUN = FUN, ...):\n",
      "\"NAs introduced by coercion\"Warning message in lapply(X = X, FUN = FUN, ...):\n",
      "\"NAs introduced by coercion\"Warning message in lapply(X = X, FUN = FUN, ...):\n",
      "\"NAs introduced by coercion\""
     ]
    }
   ],
   "source": [
    "colnames(current_data) <- tolower(make.names(colnames(current_data), unique = TRUE))\n",
    "current_data <- current_data[3:(nrow(current_data))] %>% \n",
    "select(frustrate.diff.com_1:action.easy.non_4) %>% \n",
    "mutate(subject = 1:(nrow(.)))\n",
    "current_data <- data.frame(sapply(current_data, as.numeric))"
   ]
  },
  {
   "cell_type": "code",
   "execution_count": 25,
   "metadata": {},
   "outputs": [
    {
     "data": {
      "text/html": [
       "<table>\n",
       "<thead><tr><th scope=col>subject</th><th scope=col>condition</th><th scope=col>outcome</th></tr></thead>\n",
       "<tbody>\n",
       "\t<tr><td>1                   </td><td>frustrate.diff.com_1</td><td>3                   </td></tr>\n",
       "\t<tr><td>1                   </td><td>action.diff.com_1   </td><td>2                   </td></tr>\n",
       "\t<tr><td>1                   </td><td>action.diff.com_2   </td><td>3                   </td></tr>\n",
       "\t<tr><td>1                   </td><td>action.diff.com_3   </td><td>3                   </td></tr>\n",
       "\t<tr><td>1                   </td><td>action.diff.com_4   </td><td>3                   </td></tr>\n",
       "\t<tr><td>1                   </td><td>frustrate.diff.non_1</td><td>2                   </td></tr>\n",
       "</tbody>\n",
       "</table>\n"
      ],
      "text/latex": [
       "\\begin{tabular}{r|lll}\n",
       " subject & condition & outcome\\\\\n",
       "\\hline\n",
       "\t 1                      & frustrate.diff.com\\_1 & 3                     \\\\\n",
       "\t 1                      & action.diff.com\\_1    & 2                     \\\\\n",
       "\t 1                      & action.diff.com\\_2    & 3                     \\\\\n",
       "\t 1                      & action.diff.com\\_3    & 3                     \\\\\n",
       "\t 1                      & action.diff.com\\_4    & 3                     \\\\\n",
       "\t 1                      & frustrate.diff.non\\_1 & 2                     \\\\\n",
       "\\end{tabular}\n"
      ],
      "text/markdown": [
       "\n",
       "subject | condition | outcome | \n",
       "|---|---|---|---|---|---|\n",
       "| 1                    | frustrate.diff.com_1 | 3                    | \n",
       "| 1                    | action.diff.com_1    | 2                    | \n",
       "| 1                    | action.diff.com_2    | 3                    | \n",
       "| 1                    | action.diff.com_3    | 3                    | \n",
       "| 1                    | action.diff.com_4    | 3                    | \n",
       "| 1                    | frustrate.diff.non_1 | 2                    | \n",
       "\n",
       "\n"
      ],
      "text/plain": [
       "  subject condition            outcome\n",
       "1 1       frustrate.diff.com_1 3      \n",
       "2 1       action.diff.com_1    2      \n",
       "3 1       action.diff.com_2    3      \n",
       "4 1       action.diff.com_3    3      \n",
       "5 1       action.diff.com_4    3      \n",
       "6 1       frustrate.diff.non_1 2      "
      ]
     },
     "metadata": {},
     "output_type": "display_data"
    }
   ],
   "source": [
    "current_data <- current_data %>% \n",
    "select(-contains('box')) %>% \n",
    "gather(condition, outcome, frustrate.diff.com_1:action.easy.non_4) %>% \n",
    "arrange(subject) \n",
    "head(current_data)"
   ]
  },
  {
   "cell_type": "code",
   "execution_count": 26,
   "metadata": {},
   "outputs": [
    {
     "data": {
      "text/html": [
       "<table>\n",
       "<thead><tr><th scope=col>subject</th><th scope=col>difficulty</th><th scope=col>curve</th><th scope=col>question_number</th><th scope=col>action</th><th scope=col>frustrate</th></tr></thead>\n",
       "<tbody>\n",
       "\t<tr><td>1   </td><td>diff</td><td>com </td><td>1   </td><td>2   </td><td> 3  </td></tr>\n",
       "\t<tr><td>1   </td><td>diff</td><td>com </td><td>2   </td><td>3   </td><td>NA  </td></tr>\n",
       "\t<tr><td>1   </td><td>diff</td><td>com </td><td>3   </td><td>3   </td><td>NA  </td></tr>\n",
       "\t<tr><td>1   </td><td>diff</td><td>com </td><td>4   </td><td>3   </td><td>NA  </td></tr>\n",
       "\t<tr><td>1   </td><td>diff</td><td>non </td><td>1   </td><td>3   </td><td> 2  </td></tr>\n",
       "\t<tr><td>1   </td><td>diff</td><td>non </td><td>2   </td><td>3   </td><td>NA  </td></tr>\n",
       "</tbody>\n",
       "</table>\n"
      ],
      "text/latex": [
       "\\begin{tabular}{r|llllll}\n",
       " subject & difficulty & curve & question\\_number & action & frustrate\\\\\n",
       "\\hline\n",
       "\t 1    & diff & com  & 1    & 2    &  3  \\\\\n",
       "\t 1    & diff & com  & 2    & 3    & NA  \\\\\n",
       "\t 1    & diff & com  & 3    & 3    & NA  \\\\\n",
       "\t 1    & diff & com  & 4    & 3    & NA  \\\\\n",
       "\t 1    & diff & non  & 1    & 3    &  2  \\\\\n",
       "\t 1    & diff & non  & 2    & 3    & NA  \\\\\n",
       "\\end{tabular}\n"
      ],
      "text/markdown": [
       "\n",
       "subject | difficulty | curve | question_number | action | frustrate | \n",
       "|---|---|---|---|---|---|\n",
       "| 1    | diff | com  | 1    | 2    |  3   | \n",
       "| 1    | diff | com  | 2    | 3    | NA   | \n",
       "| 1    | diff | com  | 3    | 3    | NA   | \n",
       "| 1    | diff | com  | 4    | 3    | NA   | \n",
       "| 1    | diff | non  | 1    | 3    |  2   | \n",
       "| 1    | diff | non  | 2    | 3    | NA   | \n",
       "\n",
       "\n"
      ],
      "text/plain": [
       "  subject difficulty curve question_number action frustrate\n",
       "1 1       diff       com   1               2       3       \n",
       "2 1       diff       com   2               3      NA       \n",
       "3 1       diff       com   3               3      NA       \n",
       "4 1       diff       com   4               3      NA       \n",
       "5 1       diff       non   1               3       2       \n",
       "6 1       diff       non   2               3      NA       "
      ]
     },
     "metadata": {},
     "output_type": "display_data"
    }
   ],
   "source": [
    "current_data <- current_data  %>% \n",
    "extract(condition, into = c('outcome_type', 'difficulty', 'curve', 'question_number'),\n",
    "       '^([^.]+)\\\\.([^.]*)\\\\.([^.]*)_(.*)')  %>% \n",
    "spread(outcome_type, outcome) \n",
    "head(current_data)"
   ]
  },
  {
   "cell_type": "code",
   "execution_count": 27,
   "metadata": {},
   "outputs": [
    {
     "data": {},
     "metadata": {},
     "output_type": "display_data"
    },
    {
     "data": {
      "image/png": "[encoded data removed]",
      "text/plain": [
       "plot without title"
      ]
     },
     "metadata": {},
     "output_type": "display_data"
    }
   ],
   "source": [
    "options(repr.plot.width = 5, repr.plot.height = 4)\n",
    "current_data %>% \n",
    "group_by(difficulty, curve, question_number) %>% \n",
    "summarize(action_mean = mean(action, na.rm = TRUE), action_sd = sd(action, na.rm = TRUE))  %>% \n",
    "ggplot(aes(x = difficulty, y = action_mean, group = curve)) + \n",
    "geom_bar(stat = 'identity', aes(fill = curve), position = 'dodge') + \n",
    "geom_errorbar(stat = 'identity', aes(ymin = action_mean - action_sd, ymax = action_mean + action_sd), \n",
    "            position = position_dodge(width = .9), width = .5) + facet_wrap(~question_number)"
   ]
  },
  {
   "cell_type": "code",
   "execution_count": 17,
   "metadata": {},
   "outputs": [],
   "source": [
    "current_data <- current_data %>% \n",
    "group_by(subject, difficulty, curve) %>% \n",
    "summarize(action = mean(action), frustrate = mean(frustrate, na.rm = TRUE))\n",
    "current_data <- current_data[complete.cases(current_data),]"
   ]
  },
  {
   "cell_type": "code",
   "execution_count": 18,
   "metadata": {},
   "outputs": [
    {
     "data": {
      "text/html": [
       "<table>\n",
       "<thead><tr><th scope=col>subject</th><th scope=col>difficulty</th><th scope=col>curve</th><th scope=col>action</th><th scope=col>frustrate</th></tr></thead>\n",
       "<tbody>\n",
       "\t<tr><td>1   </td><td>diff</td><td>com </td><td>2.75</td><td>3   </td></tr>\n",
       "\t<tr><td>1   </td><td>diff</td><td>non </td><td>3.00</td><td>2   </td></tr>\n",
       "\t<tr><td>1   </td><td>easy</td><td>com </td><td>2.75</td><td>6   </td></tr>\n",
       "\t<tr><td>1   </td><td>easy</td><td>non </td><td>2.75</td><td>5   </td></tr>\n",
       "\t<tr><td>2   </td><td>diff</td><td>com </td><td>1.00</td><td>1   </td></tr>\n",
       "\t<tr><td>2   </td><td>diff</td><td>non </td><td>1.00</td><td>1   </td></tr>\n",
       "</tbody>\n",
       "</table>\n"
      ],
      "text/latex": [
       "\\begin{tabular}{r|lllll}\n",
       " subject & difficulty & curve & action & frustrate\\\\\n",
       "\\hline\n",
       "\t 1    & diff & com  & 2.75 & 3   \\\\\n",
       "\t 1    & diff & non  & 3.00 & 2   \\\\\n",
       "\t 1    & easy & com  & 2.75 & 6   \\\\\n",
       "\t 1    & easy & non  & 2.75 & 5   \\\\\n",
       "\t 2    & diff & com  & 1.00 & 1   \\\\\n",
       "\t 2    & diff & non  & 1.00 & 1   \\\\\n",
       "\\end{tabular}\n"
      ],
      "text/markdown": [
       "\n",
       "subject | difficulty | curve | action | frustrate | \n",
       "|---|---|---|---|---|---|\n",
       "| 1    | diff | com  | 2.75 | 3    | \n",
       "| 1    | diff | non  | 3.00 | 2    | \n",
       "| 1    | easy | com  | 2.75 | 6    | \n",
       "| 1    | easy | non  | 2.75 | 5    | \n",
       "| 2    | diff | com  | 1.00 | 1    | \n",
       "| 2    | diff | non  | 1.00 | 1    | \n",
       "\n",
       "\n"
      ],
      "text/plain": [
       "  subject difficulty curve action frustrate\n",
       "1 1       diff       com   2.75   3        \n",
       "2 1       diff       non   3.00   2        \n",
       "3 1       easy       com   2.75   6        \n",
       "4 1       easy       non   2.75   5        \n",
       "5 2       diff       com   1.00   1        \n",
       "6 2       diff       non   1.00   1        "
      ]
     },
     "metadata": {},
     "output_type": "display_data"
    }
   ],
   "source": [
    "head(current_data)\n",
    "write.csv(current_data, '../data/integrity_tidy.csv', row.names = FALSE)"
   ]
  },
  {
   "cell_type": "code",
   "execution_count": 14,
   "metadata": {},
   "outputs": [],
   "source": [
    "current_data <- as.data.table(current_data)"
   ]
  },
  {
   "cell_type": "code",
   "execution_count": 29,
   "metadata": {},
   "outputs": [
    {
     "data": {
      "text/html": [
       "<table>\n",
       "<thead><tr><th></th><th scope=col>subject</th><th scope=col>difficulty</th><th scope=col>curve</th><th scope=col>question_number</th><th scope=col>action</th><th scope=col>frustrate</th></tr></thead>\n",
       "<tbody>\n",
       "\t<tr><th scope=row>561</th><td>36  </td><td>diff</td><td>com </td><td>1   </td><td>NA  </td><td>NA  </td></tr>\n",
       "\t<tr><th scope=row>562</th><td>36  </td><td>diff</td><td>com </td><td>2   </td><td>NA  </td><td>NA  </td></tr>\n",
       "\t<tr><th scope=row>563</th><td>36  </td><td>diff</td><td>com </td><td>3   </td><td>NA  </td><td>NA  </td></tr>\n",
       "\t<tr><th scope=row>564</th><td>36  </td><td>diff</td><td>com </td><td>4   </td><td>NA  </td><td>NA  </td></tr>\n",
       "\t<tr><th scope=row>565</th><td>36  </td><td>diff</td><td>non </td><td>1   </td><td>NA  </td><td>NA  </td></tr>\n",
       "\t<tr><th scope=row>566</th><td>36  </td><td>diff</td><td>non </td><td>2   </td><td>NA  </td><td>NA  </td></tr>\n",
       "\t<tr><th scope=row>567</th><td>36  </td><td>diff</td><td>non </td><td>3   </td><td>NA  </td><td>NA  </td></tr>\n",
       "\t<tr><th scope=row>568</th><td>36  </td><td>diff</td><td>non </td><td>4   </td><td>NA  </td><td>NA  </td></tr>\n",
       "\t<tr><th scope=row>569</th><td>36  </td><td>easy</td><td>com </td><td>1   </td><td>NA  </td><td>NA  </td></tr>\n",
       "\t<tr><th scope=row>570</th><td>36  </td><td>easy</td><td>com </td><td>2   </td><td>NA  </td><td>NA  </td></tr>\n",
       "\t<tr><th scope=row>571</th><td>36  </td><td>easy</td><td>com </td><td>3   </td><td>NA  </td><td>NA  </td></tr>\n",
       "\t<tr><th scope=row>572</th><td>36  </td><td>easy</td><td>com </td><td>4   </td><td>NA  </td><td>NA  </td></tr>\n",
       "\t<tr><th scope=row>573</th><td>36  </td><td>easy</td><td>non </td><td>1   </td><td>NA  </td><td>NA  </td></tr>\n",
       "\t<tr><th scope=row>574</th><td>36  </td><td>easy</td><td>non </td><td>2   </td><td>NA  </td><td>NA  </td></tr>\n",
       "\t<tr><th scope=row>575</th><td>36  </td><td>easy</td><td>non </td><td>3   </td><td>NA  </td><td>NA  </td></tr>\n",
       "\t<tr><th scope=row>576</th><td>36  </td><td>easy</td><td>non </td><td>4   </td><td>NA  </td><td>NA  </td></tr>\n",
       "\t<tr><th scope=row>593</th><td>38  </td><td>diff</td><td>com </td><td>1   </td><td>NA  </td><td>NA  </td></tr>\n",
       "\t<tr><th scope=row>594</th><td>38  </td><td>diff</td><td>com </td><td>2   </td><td>NA  </td><td>NA  </td></tr>\n",
       "\t<tr><th scope=row>595</th><td>38  </td><td>diff</td><td>com </td><td>3   </td><td>NA  </td><td>NA  </td></tr>\n",
       "\t<tr><th scope=row>596</th><td>38  </td><td>diff</td><td>com </td><td>4   </td><td>NA  </td><td>NA  </td></tr>\n",
       "\t<tr><th scope=row>597</th><td>38  </td><td>diff</td><td>non </td><td>1   </td><td>NA  </td><td>NA  </td></tr>\n",
       "\t<tr><th scope=row>598</th><td>38  </td><td>diff</td><td>non </td><td>2   </td><td>NA  </td><td>NA  </td></tr>\n",
       "\t<tr><th scope=row>599</th><td>38  </td><td>diff</td><td>non </td><td>3   </td><td>NA  </td><td>NA  </td></tr>\n",
       "\t<tr><th scope=row>600</th><td>38  </td><td>diff</td><td>non </td><td>4   </td><td>NA  </td><td>NA  </td></tr>\n",
       "\t<tr><th scope=row>601</th><td>38  </td><td>easy</td><td>com </td><td>1   </td><td>NA  </td><td>NA  </td></tr>\n",
       "\t<tr><th scope=row>602</th><td>38  </td><td>easy</td><td>com </td><td>2   </td><td>NA  </td><td>NA  </td></tr>\n",
       "\t<tr><th scope=row>603</th><td>38  </td><td>easy</td><td>com </td><td>3   </td><td>NA  </td><td>NA  </td></tr>\n",
       "\t<tr><th scope=row>604</th><td>38  </td><td>easy</td><td>com </td><td>4   </td><td>NA  </td><td>NA  </td></tr>\n",
       "\t<tr><th scope=row>605</th><td>38  </td><td>easy</td><td>non </td><td>1   </td><td>NA  </td><td>NA  </td></tr>\n",
       "\t<tr><th scope=row>606</th><td>38  </td><td>easy</td><td>non </td><td>2   </td><td>NA  </td><td>NA  </td></tr>\n",
       "\t<tr><th scope=row>607</th><td>38  </td><td>easy</td><td>non </td><td>3   </td><td>NA  </td><td>NA  </td></tr>\n",
       "\t<tr><th scope=row>608</th><td>38  </td><td>easy</td><td>non </td><td>4   </td><td>NA  </td><td>NA  </td></tr>\n",
       "</tbody>\n",
       "</table>\n"
      ],
      "text/latex": [
       "\\begin{tabular}{r|llllll}\n",
       "  & subject & difficulty & curve & question\\_number & action & frustrate\\\\\n",
       "\\hline\n",
       "\t561 & 36   & diff & com  & 1    & NA   & NA  \\\\\n",
       "\t562 & 36   & diff & com  & 2    & NA   & NA  \\\\\n",
       "\t563 & 36   & diff & com  & 3    & NA   & NA  \\\\\n",
       "\t564 & 36   & diff & com  & 4    & NA   & NA  \\\\\n",
       "\t565 & 36   & diff & non  & 1    & NA   & NA  \\\\\n",
       "\t566 & 36   & diff & non  & 2    & NA   & NA  \\\\\n",
       "\t567 & 36   & diff & non  & 3    & NA   & NA  \\\\\n",
       "\t568 & 36   & diff & non  & 4    & NA   & NA  \\\\\n",
       "\t569 & 36   & easy & com  & 1    & NA   & NA  \\\\\n",
       "\t570 & 36   & easy & com  & 2    & NA   & NA  \\\\\n",
       "\t571 & 36   & easy & com  & 3    & NA   & NA  \\\\\n",
       "\t572 & 36   & easy & com  & 4    & NA   & NA  \\\\\n",
       "\t573 & 36   & easy & non  & 1    & NA   & NA  \\\\\n",
       "\t574 & 36   & easy & non  & 2    & NA   & NA  \\\\\n",
       "\t575 & 36   & easy & non  & 3    & NA   & NA  \\\\\n",
       "\t576 & 36   & easy & non  & 4    & NA   & NA  \\\\\n",
       "\t593 & 38   & diff & com  & 1    & NA   & NA  \\\\\n",
       "\t594 & 38   & diff & com  & 2    & NA   & NA  \\\\\n",
       "\t595 & 38   & diff & com  & 3    & NA   & NA  \\\\\n",
       "\t596 & 38   & diff & com  & 4    & NA   & NA  \\\\\n",
       "\t597 & 38   & diff & non  & 1    & NA   & NA  \\\\\n",
       "\t598 & 38   & diff & non  & 2    & NA   & NA  \\\\\n",
       "\t599 & 38   & diff & non  & 3    & NA   & NA  \\\\\n",
       "\t600 & 38   & diff & non  & 4    & NA   & NA  \\\\\n",
       "\t601 & 38   & easy & com  & 1    & NA   & NA  \\\\\n",
       "\t602 & 38   & easy & com  & 2    & NA   & NA  \\\\\n",
       "\t603 & 38   & easy & com  & 3    & NA   & NA  \\\\\n",
       "\t604 & 38   & easy & com  & 4    & NA   & NA  \\\\\n",
       "\t605 & 38   & easy & non  & 1    & NA   & NA  \\\\\n",
       "\t606 & 38   & easy & non  & 2    & NA   & NA  \\\\\n",
       "\t607 & 38   & easy & non  & 3    & NA   & NA  \\\\\n",
       "\t608 & 38   & easy & non  & 4    & NA   & NA  \\\\\n",
       "\\end{tabular}\n"
      ],
      "text/markdown": [
       "\n",
       "| <!--/--> | subject | difficulty | curve | question_number | action | frustrate | \n",
       "|---|---|---|---|---|---|---|---|---|---|---|---|---|---|---|---|---|---|---|---|---|---|---|---|---|---|---|---|---|---|---|---|\n",
       "| 561 | 36   | diff | com  | 1    | NA   | NA   | \n",
       "| 562 | 36   | diff | com  | 2    | NA   | NA   | \n",
       "| 563 | 36   | diff | com  | 3    | NA   | NA   | \n",
       "| 564 | 36   | diff | com  | 4    | NA   | NA   | \n",
       "| 565 | 36   | diff | non  | 1    | NA   | NA   | \n",
       "| 566 | 36   | diff | non  | 2    | NA   | NA   | \n",
       "| 567 | 36   | diff | non  | 3    | NA   | NA   | \n",
       "| 568 | 36   | diff | non  | 4    | NA   | NA   | \n",
       "| 569 | 36   | easy | com  | 1    | NA   | NA   | \n",
       "| 570 | 36   | easy | com  | 2    | NA   | NA   | \n",
       "| 571 | 36   | easy | com  | 3    | NA   | NA   | \n",
       "| 572 | 36   | easy | com  | 4    | NA   | NA   | \n",
       "| 573 | 36   | easy | non  | 1    | NA   | NA   | \n",
       "| 574 | 36   | easy | non  | 2    | NA   | NA   | \n",
       "| 575 | 36   | easy | non  | 3    | NA   | NA   | \n",
       "| 576 | 36   | easy | non  | 4    | NA   | NA   | \n",
       "| 593 | 38   | diff | com  | 1    | NA   | NA   | \n",
       "| 594 | 38   | diff | com  | 2    | NA   | NA   | \n",
       "| 595 | 38   | diff | com  | 3    | NA   | NA   | \n",
       "| 596 | 38   | diff | com  | 4    | NA   | NA   | \n",
       "| 597 | 38   | diff | non  | 1    | NA   | NA   | \n",
       "| 598 | 38   | diff | non  | 2    | NA   | NA   | \n",
       "| 599 | 38   | diff | non  | 3    | NA   | NA   | \n",
       "| 600 | 38   | diff | non  | 4    | NA   | NA   | \n",
       "| 601 | 38   | easy | com  | 1    | NA   | NA   | \n",
       "| 602 | 38   | easy | com  | 2    | NA   | NA   | \n",
       "| 603 | 38   | easy | com  | 3    | NA   | NA   | \n",
       "| 604 | 38   | easy | com  | 4    | NA   | NA   | \n",
       "| 605 | 38   | easy | non  | 1    | NA   | NA   | \n",
       "| 606 | 38   | easy | non  | 2    | NA   | NA   | \n",
       "| 607 | 38   | easy | non  | 3    | NA   | NA   | \n",
       "| 608 | 38   | easy | non  | 4    | NA   | NA   | \n",
       "\n",
       "\n"
      ],
      "text/plain": [
       "    subject difficulty curve question_number action frustrate\n",
       "561 36      diff       com   1               NA     NA       \n",
       "562 36      diff       com   2               NA     NA       \n",
       "563 36      diff       com   3               NA     NA       \n",
       "564 36      diff       com   4               NA     NA       \n",
       "565 36      diff       non   1               NA     NA       \n",
       "566 36      diff       non   2               NA     NA       \n",
       "567 36      diff       non   3               NA     NA       \n",
       "568 36      diff       non   4               NA     NA       \n",
       "569 36      easy       com   1               NA     NA       \n",
       "570 36      easy       com   2               NA     NA       \n",
       "571 36      easy       com   3               NA     NA       \n",
       "572 36      easy       com   4               NA     NA       \n",
       "573 36      easy       non   1               NA     NA       \n",
       "574 36      easy       non   2               NA     NA       \n",
       "575 36      easy       non   3               NA     NA       \n",
       "576 36      easy       non   4               NA     NA       \n",
       "593 38      diff       com   1               NA     NA       \n",
       "594 38      diff       com   2               NA     NA       \n",
       "595 38      diff       com   3               NA     NA       \n",
       "596 38      diff       com   4               NA     NA       \n",
       "597 38      diff       non   1               NA     NA       \n",
       "598 38      diff       non   2               NA     NA       \n",
       "599 38      diff       non   3               NA     NA       \n",
       "600 38      diff       non   4               NA     NA       \n",
       "601 38      easy       com   1               NA     NA       \n",
       "602 38      easy       com   2               NA     NA       \n",
       "603 38      easy       com   3               NA     NA       \n",
       "604 38      easy       com   4               NA     NA       \n",
       "605 38      easy       non   1               NA     NA       \n",
       "606 38      easy       non   2               NA     NA       \n",
       "607 38      easy       non   3               NA     NA       \n",
       "608 38      easy       non   4               NA     NA       "
      ]
     },
     "metadata": {},
     "output_type": "display_data"
    }
   ],
   "source": [
    "current_data[is.na(current_data$action),]"
   ]
  },
  {
   "cell_type": "code",
   "execution_count": 32,
   "metadata": {},
   "outputs": [
    {
     "name": "stderr",
     "output_type": "stream",
     "text": [
      "Warning message:\n",
      "\"Converting \"subject\" to factor for ANOVA.\"Warning message:\n",
      "\"Converting \"curve\" to factor for ANOVA.\"Warning message:\n",
      "\"Converting \"difficulty\" to factor for ANOVA.\""
     ]
    }
   ],
   "source": [
    "current_data <- current_data %>% \n",
    "filter(subject != 36 & subject != 38) %>% \n",
    "data.table()\n",
    "\n",
    "m1 <- ezANOVA(data = current_data[question_number ==2],\n",
    "             wid = subject, within = .(curve, difficulty), dv = action)"
   ]
  },
  {
   "cell_type": "code",
   "execution_count": 35,
   "metadata": {},
   "outputs": [
    {
     "data": {
      "text/html": [
       "<strong>$ANOVA</strong> = <table>\n",
       "<thead><tr><th></th><th scope=col>Effect</th><th scope=col>DFn</th><th scope=col>DFd</th><th scope=col>F</th><th scope=col>p</th><th scope=col>p&lt;.05</th><th scope=col>ges</th></tr></thead>\n",
       "<tbody>\n",
       "\t<tr><th scope=row>2</th><td>curve           </td><td>1               </td><td>58              </td><td>21.337708       </td><td>2.188468e-05    </td><td>*               </td><td>0.034599087     </td></tr>\n",
       "\t<tr><th scope=row>3</th><td>difficulty      </td><td>1               </td><td>58              </td><td>24.182789       </td><td>7.565187e-06    </td><td>*               </td><td>0.025943298     </td></tr>\n",
       "\t<tr><th scope=row>4</th><td>curve:difficulty</td><td>1               </td><td>58              </td><td> 4.517308       </td><td>3.782394e-02    </td><td>*               </td><td>0.003439929     </td></tr>\n",
       "</tbody>\n",
       "</table>\n"
      ],
      "text/latex": [
       "\\textbf{\\$ANOVA} = \\begin{tabular}{r|lllllll}\n",
       "  & Effect & DFn & DFd & F & p & p<.05 & ges\\\\\n",
       "\\hline\n",
       "\t2 & curve            & 1                & 58               & 21.337708        & 2.188468e-05     & *                & 0.034599087     \\\\\n",
       "\t3 & difficulty       & 1                & 58               & 24.182789        & 7.565187e-06     & *                & 0.025943298     \\\\\n",
       "\t4 & curve:difficulty & 1                & 58               &  4.517308        & 3.782394e-02     & *                & 0.003439929     \\\\\n",
       "\\end{tabular}\n"
      ],
      "text/markdown": [
       "**$ANOVA** = \n",
       "| <!--/--> | Effect | DFn | DFd | F | p | p<.05 | ges | \n",
       "|---|---|---|\n",
       "| 2 | curve            | 1                | 58               | 21.337708        | 2.188468e-05     | *                | 0.034599087      | \n",
       "| 3 | difficulty       | 1                | 58               | 24.182789        | 7.565187e-06     | *                | 0.025943298      | \n",
       "| 4 | curve:difficulty | 1                | 58               |  4.517308        | 3.782394e-02     | *                | 0.003439929      | \n",
       "\n",
       "\n"
      ],
      "text/plain": [
       "$ANOVA\n",
       "            Effect DFn DFd         F            p p<.05         ges\n",
       "2            curve   1  58 21.337708 2.188468e-05     * 0.034599087\n",
       "3       difficulty   1  58 24.182789 7.565187e-06     * 0.025943298\n",
       "4 curve:difficulty   1  58  4.517308 3.782394e-02     * 0.003439929\n"
      ]
     },
     "metadata": {},
     "output_type": "display_data"
    }
   ],
   "source": [
    "m1"
   ]
  },
  {
   "cell_type": "code",
   "execution_count": 38,
   "metadata": {},
   "outputs": [
    {
     "name": "stderr",
     "output_type": "stream",
     "text": [
      "Warning message:\n",
      "\"Converting \"subject\" to factor for ANOVA.\"Warning message:\n",
      "\"Converting \"curve\" to factor for ANOVA.\"Warning message:\n",
      "\"Converting \"difficulty\" to factor for ANOVA.\""
     ]
    },
    {
     "name": "stdout",
     "output_type": "stream",
     "text": [
      "[1] \"1 0.266781723148476\"\n"
     ]
    },
    {
     "name": "stderr",
     "output_type": "stream",
     "text": [
      "Warning message:\n",
      "\"Converting \"subject\" to factor for ANOVA.\"Warning message:\n",
      "\"Converting \"curve\" to factor for ANOVA.\"Warning message:\n",
      "\"Converting \"difficulty\" to factor for ANOVA.\""
     ]
    },
    {
     "name": "stdout",
     "output_type": "stream",
     "text": [
      "[1] \"2 0.037823937721759\"\n"
     ]
    },
    {
     "name": "stderr",
     "output_type": "stream",
     "text": [
      "Warning message:\n",
      "\"Converting \"subject\" to factor for ANOVA.\"Warning message:\n",
      "\"Converting \"curve\" to factor for ANOVA.\"Warning message:\n",
      "\"Converting \"difficulty\" to factor for ANOVA.\""
     ]
    },
    {
     "name": "stdout",
     "output_type": "stream",
     "text": [
      "[1] \"3 0.591911605260768\"\n"
     ]
    },
    {
     "name": "stderr",
     "output_type": "stream",
     "text": [
      "Warning message:\n",
      "\"Converting \"subject\" to factor for ANOVA.\"Warning message:\n",
      "\"Converting \"curve\" to factor for ANOVA.\"Warning message:\n",
      "\"Converting \"difficulty\" to factor for ANOVA.\""
     ]
    },
    {
     "name": "stdout",
     "output_type": "stream",
     "text": [
      "[1] \"4 0.27311667202456\"\n"
     ]
    }
   ],
   "source": [
    "for (i in 1:4){\n",
    "    m1 <- ezANOVA(data = current_data[question_number == i],\n",
    "             wid = subject, within = .(curve, difficulty), dv = action)\n",
    "    print(paste(i, m1$ANOVA$p[3]))\n",
    "}"
   ]
  }
 ],
 "metadata": {
  "kernelspec": {
   "display_name": "R",
   "language": "R",
   "name": "ir"
  },
  "language_info": {
   "codemirror_mode": "r",
   "file_extension": ".r",
   "mimetype": "text/x-r-source",
   "name": "R",
   "pygments_lexer": "r",
   "version": "3.4.3"
  }
 },
 "nbformat": 4,
 "nbformat_minor": 2
}
