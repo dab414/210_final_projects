{
 "cells": [
  {
   "cell_type": "markdown",
   "metadata": {},
   "source": [
    "# The Impact of Context on Integrity\n",
    "\n",
    "The main goal here is to assess whether or not the difficulty of an exam and whether or not the context is competitive will influence the extent to which people will (a) feel frustrated and (b) take action. We will be running 2 (difficulty) X 2 (competitiveness) ANOVAs for each item within the questionnaire. There were four items for action, and only one for frustration.\n",
    "\n",
    "### General Outline\n",
    "As per our general analysis philosophy, descriptive statistics will come before inferential analyses.\n",
    "\n",
    "* General discussion about how many subjects we have\n",
    "* Descriptive statistics for frustration and action items\n",
    "* ANOVAs for frustration and action items"
   ]
  },
  {
   "cell_type": "code",
   "execution_count": 2,
   "metadata": {},
   "outputs": [
    {
     "name": "stderr",
     "output_type": "stream",
     "text": [
      "-- Attaching packages --------------------------------------- tidyverse 1.2.1 --\n",
      "v ggplot2 2.2.1     v purrr   0.2.4\n",
      "v tibble  1.4.1     v dplyr   0.7.4\n",
      "v tidyr   0.7.2     v stringr 1.2.0\n",
      "v readr   1.1.1     v forcats 0.2.0\n",
      "-- Conflicts ------------------------------------------ tidyverse_conflicts() --\n",
      "x dplyr::filter() masks stats::filter()\n",
      "x dplyr::lag()    masks stats::lag()\n",
      "\n",
      "Attaching package: 'data.table'\n",
      "\n",
      "The following objects are masked from 'package:dplyr':\n",
      "\n",
      "    between, first, last\n",
      "\n",
      "The following object is masked from 'package:purrr':\n",
      "\n",
      "    transpose\n",
      "\n",
      "Loading required package: rJava\n",
      "Loading required package: xlsxjars\n"
     ]
    }
   ],
   "source": [
    "options(scipen = 999)\n",
    "library(tidyverse)\n",
    "library(data.table)\n",
    "library(ez)\n",
    "library(xlsx)"
   ]
  },
  {
   "cell_type": "code",
   "execution_count": 3,
   "metadata": {
    "scrolled": false
   },
   "outputs": [
    {
     "data": {
      "text/html": [
       "<table>\n",
       "<thead><tr><th scope=col>subject</th><th scope=col>difficulty</th><th scope=col>curve</th><th scope=col>question_number</th><th scope=col>action</th><th scope=col>frustrate</th></tr></thead>\n",
       "<tbody>\n",
       "\t<tr><td>4       </td><td>diff    </td><td>curve   </td><td>1       </td><td>6       </td><td> 6      </td></tr>\n",
       "\t<tr><td>4       </td><td>diff    </td><td>curve   </td><td>2       </td><td>6       </td><td>NA      </td></tr>\n",
       "\t<tr><td>4       </td><td>diff    </td><td>curve   </td><td>3       </td><td>6       </td><td>NA      </td></tr>\n",
       "\t<tr><td>4       </td><td>diff    </td><td>curve   </td><td>4       </td><td>4       </td><td>NA      </td></tr>\n",
       "\t<tr><td>4       </td><td>diff    </td><td>no_curve</td><td>1       </td><td>5       </td><td> 4      </td></tr>\n",
       "\t<tr><td>4       </td><td>diff    </td><td>no_curve</td><td>2       </td><td>3       </td><td>NA      </td></tr>\n",
       "</tbody>\n",
       "</table>\n"
      ],
      "text/latex": [
       "\\begin{tabular}{r|llllll}\n",
       " subject & difficulty & curve & question\\_number & action & frustrate\\\\\n",
       "\\hline\n",
       "\t 4        & diff     & curve    & 1        & 6        &  6      \\\\\n",
       "\t 4        & diff     & curve    & 2        & 6        & NA      \\\\\n",
       "\t 4        & diff     & curve    & 3        & 6        & NA      \\\\\n",
       "\t 4        & diff     & curve    & 4        & 4        & NA      \\\\\n",
       "\t 4          & diff       & no\\_curve & 1          & 5          &  4        \\\\\n",
       "\t 4          & diff       & no\\_curve & 2          & 3          & NA        \\\\\n",
       "\\end{tabular}\n"
      ],
      "text/markdown": [
       "\n",
       "subject | difficulty | curve | question_number | action | frustrate | \n",
       "|---|---|---|---|---|---|\n",
       "| 4        | diff     | curve    | 1        | 6        |  6       | \n",
       "| 4        | diff     | curve    | 2        | 6        | NA       | \n",
       "| 4        | diff     | curve    | 3        | 6        | NA       | \n",
       "| 4        | diff     | curve    | 4        | 4        | NA       | \n",
       "| 4        | diff     | no_curve | 1        | 5        |  4       | \n",
       "| 4        | diff     | no_curve | 2        | 3        | NA       | \n",
       "\n",
       "\n"
      ],
      "text/plain": [
       "  subject difficulty curve    question_number action frustrate\n",
       "1 4       diff       curve    1               6       6       \n",
       "2 4       diff       curve    2               6      NA       \n",
       "3 4       diff       curve    3               6      NA       \n",
       "4 4       diff       curve    4               4      NA       \n",
       "5 4       diff       no_curve 1               5       4       \n",
       "6 4       diff       no_curve 2               3      NA       "
      ]
     },
     "metadata": {},
     "output_type": "display_data"
    },
    {
     "name": "stdout",
     "output_type": "stream",
     "text": [
      "'data.frame':\t896 obs. of  6 variables:\n",
      " $ subject        : int  4 4 4 4 4 4 4 4 4 4 ...\n",
      " $ difficulty     : Factor w/ 2 levels \"diff\",\"easy\": 1 1 1 1 1 1 1 1 2 2 ...\n",
      " $ curve          : Factor w/ 2 levels \"curve\",\"no_curve\": 1 1 1 1 2 2 2 2 1 1 ...\n",
      " $ question_number: Factor w/ 4 levels \"1\",\"2\",\"3\",\"4\": 1 2 3 4 1 2 3 4 1 2 ...\n",
      " $ action         : int  6 6 6 4 5 3 5 2 4 4 ...\n",
      " $ frustrate      : int  6 NA NA NA 4 NA NA NA 5 NA ...\n"
     ]
    }
   ],
   "source": [
    "current_data <- fread('../data/integrity_tidy.csv', stringsAsFactors = TRUE)\n",
    "current_data <- current_data %>% \n",
    "mutate(curve = recode(curve, 'com' = 'curve', 'non' = 'no_curve'))\n",
    "head(current_data)\n",
    "str(current_data)"
   ]
  },
  {
   "cell_type": "markdown",
   "metadata": {},
   "source": [
    "** Discussion of Subjects**"
   ]
  },
  {
   "cell_type": "code",
   "execution_count": 4,
   "metadata": {},
   "outputs": [
    {
     "data": {
      "text/html": [
       "56"
      ],
      "text/latex": [
       "56"
      ],
      "text/markdown": [
       "56"
      ],
      "text/plain": [
       "[1] 56"
      ]
     },
     "metadata": {},
     "output_type": "display_data"
    }
   ],
   "source": [
    "N <- current_data %>% \n",
    "group_by(subject) %>% \n",
    "summarize(n()) %>% \n",
    "nrow\n",
    "N"
   ]
  },
  {
   "cell_type": "markdown",
   "metadata": {},
   "source": [
    "We have data for 56 total subjects. Yu indicated to me that the first three subjects were pilot subjects, and so they have been dropped from the analysis. Let's make sure we have data in all cells for all subjects."
   ]
  },
  {
   "cell_type": "code",
   "execution_count": 5,
   "metadata": {},
   "outputs": [
    {
     "data": {
      "text/html": [
       "<table>\n",
       "<thead><tr><th scope=col>subject</th><th scope=col>difficulty</th><th scope=col>curve</th><th scope=col>obs</th></tr></thead>\n",
       "<tbody>\n",
       "</tbody>\n",
       "</table>\n"
      ],
      "text/latex": [
       "\\begin{tabular}{r|llll}\n",
       " subject & difficulty & curve & obs\\\\\n",
       "\\hline\n",
       "\\end{tabular}\n"
      ],
      "text/markdown": [
       "\n",
       "subject | difficulty | curve | obs | \n",
       "||\n",
       "\n",
       "\n"
      ],
      "text/plain": [
       "     subject difficulty curve obs"
      ]
     },
     "metadata": {},
     "output_type": "display_data"
    }
   ],
   "source": [
    "current_data %>% \n",
    "gather(question_type, rating, c(action, frustrate)) %>% \n",
    "filter(complete.cases(rating)) %>% \n",
    "group_by(subject, difficulty, curve) %>% \n",
    "summarize(obs = n()) %>% \n",
    "filter(obs != 5)"
   ]
  },
  {
   "cell_type": "markdown",
   "metadata": {},
   "source": [
    "All 56 subjects have data in all cells of the design."
   ]
  },
  {
   "cell_type": "markdown",
   "metadata": {},
   "source": [
    "## Descriptive Statistics"
   ]
  },
  {
   "cell_type": "markdown",
   "metadata": {},
   "source": [
    "### Frustration items\n",
    "We'll look at the mean response for frustration broken down by difficulty and curve"
   ]
  },
  {
   "cell_type": "code",
   "execution_count": 6,
   "metadata": {
    "scrolled": false
   },
   "outputs": [
    {
     "data": {
      "text/html": [
       "<table>\n",
       "<thead><tr><th scope=col>difficulty</th><th scope=col>curve</th><th scope=col>Frustrate (Mean)</th><th scope=col>Frustrate (SE)</th></tr></thead>\n",
       "<tbody>\n",
       "\t<tr><td>diff     </td><td>curve    </td><td>5.732143 </td><td>0.1898240</td></tr>\n",
       "\t<tr><td>diff     </td><td>no_curve </td><td>4.785714 </td><td>0.2187840</td></tr>\n",
       "\t<tr><td>easy     </td><td>curve    </td><td>4.821429 </td><td>0.1821715</td></tr>\n",
       "\t<tr><td>easy     </td><td>no_curve </td><td>3.660714 </td><td>0.2181337</td></tr>\n",
       "</tbody>\n",
       "</table>\n"
      ],
      "text/latex": [
       "\\begin{tabular}{r|llll}\n",
       " difficulty & curve & Frustrate (Mean) & Frustrate (SE)\\\\\n",
       "\\hline\n",
       "\t diff      & curve     & 5.732143  & 0.1898240\\\\\n",
       "\t diff       & no\\_curve & 4.785714   & 0.2187840 \\\\\n",
       "\t easy      & curve     & 4.821429  & 0.1821715\\\\\n",
       "\t easy       & no\\_curve & 3.660714   & 0.2181337 \\\\\n",
       "\\end{tabular}\n"
      ],
      "text/markdown": [
       "\n",
       "difficulty | curve | Frustrate (Mean) | Frustrate (SE) | \n",
       "|---|---|---|---|\n",
       "| diff      | curve     | 5.732143  | 0.1898240 | \n",
       "| diff      | no_curve  | 4.785714  | 0.2187840 | \n",
       "| easy      | curve     | 4.821429  | 0.1821715 | \n",
       "| easy      | no_curve  | 3.660714  | 0.2181337 | \n",
       "\n",
       "\n"
      ],
      "text/plain": [
       "  difficulty curve    Frustrate (Mean) Frustrate (SE)\n",
       "1 diff       curve    5.732143         0.1898240     \n",
       "2 diff       no_curve 4.785714         0.2187840     \n",
       "3 easy       curve    4.821429         0.1821715     \n",
       "4 easy       no_curve 3.660714         0.2181337     "
      ]
     },
     "metadata": {},
     "output_type": "display_data"
    },
    {
     "data": {},
     "metadata": {},
     "output_type": "display_data"
    },
    {
     "data": {
      "image/png": "[encoded data removed]",
      "text/plain": [
       "plot without title"
      ]
     },
     "metadata": {},
     "output_type": "display_data"
    }
   ],
   "source": [
    "options(repr.plot.width = 5, repr.plot.height = 4)\n",
    "cell_means <- current_data %>% \n",
    "group_by(subject, difficulty, curve) %>% \n",
    "summarize(frustrate = mean(frustrate, na.rm = TRUE)) %>% \n",
    "group_by(difficulty, curve) %>% \n",
    "summarize('Frustrate (Mean)' = mean(frustrate, na.rm = TRUE), 'Frustrate (SE)' = sd(frustrate, na.rm = TRUE) / sqrt(N))\n",
    "\n",
    "cell_means\n",
    "\n",
    "cell_means %>% \n",
    "rename(frustrate = 'Frustrate (Mean)', se = 'Frustrate (SE)') %>% \n",
    "ggplot(aes(x = difficulty, y = frustrate, group = curve)) + \n",
    "geom_bar(stat = 'identity', aes(fill = curve), position = 'dodge') + \n",
    "geom_errorbar(aes(ymin = frustrate - se, ymax = frustrate + se), position = position_dodge(width = .9), width = .5) + \n",
    "xlab('Difficulty of Exam') + ylab('Likelihood of Being Frustrated')"
   ]
  },
  {
   "cell_type": "markdown",
   "metadata": {},
   "source": [
    "Based off the descriptives, it looks like two main effects and no interaction."
   ]
  },
  {
   "cell_type": "markdown",
   "metadata": {},
   "source": [
    "### Action Items"
   ]
  },
  {
   "cell_type": "markdown",
   "metadata": {},
   "source": [
    "**Just for reference:**  \n",
    "Question 1:  \n",
    "How likely would you do something in the scenario above?\n",
    "\n",
    "Question 2:  \n",
    "How likely would you report to the professor that this student cheated after class?\n",
    "\n",
    "Question 3:  \n",
    "How likely would you anonymously report that this student cheated after class?\n",
    "\n",
    "Question 4:  \n",
    "How likely would you confront the cheating student at the end of the exam to suggest they confess?"
   ]
  },
  {
   "cell_type": "code",
   "execution_count": 7,
   "metadata": {
    "scrolled": false
   },
   "outputs": [
    {
     "data": {
      "text/html": [
       "<table>\n",
       "<thead><tr><th scope=col>difficulty</th><th scope=col>curve</th><th scope=col>Question 1_mean</th><th scope=col>Question 1_se</th><th scope=col>Question 2_mean</th><th scope=col>Question 2_se</th><th scope=col>Question 3_mean</th><th scope=col>Question 3_se</th><th scope=col>Question 4_mean</th><th scope=col>Question 4_se</th></tr></thead>\n",
       "<tbody>\n",
       "\t<tr><td>diff     </td><td>curve    </td><td>2.875000 </td><td>0.2086794</td><td>2.625000 </td><td>0.2185586</td><td>3.714286 </td><td>0.2752971</td><td>2.107143 </td><td>0.1866982</td></tr>\n",
       "\t<tr><td>diff     </td><td>no_curve </td><td>2.125000 </td><td>0.1748144</td><td>1.928571 </td><td>0.1547036</td><td>2.910714 </td><td>0.2487329</td><td>1.821429 </td><td>0.1552274</td></tr>\n",
       "\t<tr><td>easy     </td><td>curve    </td><td>2.232143 </td><td>0.1728130</td><td>2.000000 </td><td>0.1631667</td><td>3.053571 </td><td>0.2382562</td><td>1.892857 </td><td>0.1645114</td></tr>\n",
       "\t<tr><td>easy     </td><td>no_curve </td><td>1.696429 </td><td>0.1505825</td><td>1.642857 </td><td>0.1334570</td><td>2.339286 </td><td>0.1961923</td><td>1.500000 </td><td>0.1167748</td></tr>\n",
       "</tbody>\n",
       "</table>\n"
      ],
      "text/latex": [
       "\\begin{tabular}{r|llllllllll}\n",
       " difficulty & curve & Question 1\\_mean & Question 1\\_se & Question 2\\_mean & Question 2\\_se & Question 3\\_mean & Question 3\\_se & Question 4\\_mean & Question 4\\_se\\\\\n",
       "\\hline\n",
       "\t diff      & curve     & 2.875000  & 0.2086794 & 2.625000  & 0.2185586 & 3.714286  & 0.2752971 & 2.107143  & 0.1866982\\\\\n",
       "\t diff       & no\\_curve & 2.125000   & 0.1748144  & 1.928571   & 0.1547036  & 2.910714   & 0.2487329  & 1.821429   & 0.1552274 \\\\\n",
       "\t easy      & curve     & 2.232143  & 0.1728130 & 2.000000  & 0.1631667 & 3.053571  & 0.2382562 & 1.892857  & 0.1645114\\\\\n",
       "\t easy       & no\\_curve & 1.696429   & 0.1505825  & 1.642857   & 0.1334570  & 2.339286   & 0.1961923  & 1.500000   & 0.1167748 \\\\\n",
       "\\end{tabular}\n"
      ],
      "text/markdown": [
       "\n",
       "difficulty | curve | Question 1_mean | Question 1_se | Question 2_mean | Question 2_se | Question 3_mean | Question 3_se | Question 4_mean | Question 4_se | \n",
       "|---|---|---|---|\n",
       "| diff      | curve     | 2.875000  | 0.2086794 | 2.625000  | 0.2185586 | 3.714286  | 0.2752971 | 2.107143  | 0.1866982 | \n",
       "| diff      | no_curve  | 2.125000  | 0.1748144 | 1.928571  | 0.1547036 | 2.910714  | 0.2487329 | 1.821429  | 0.1552274 | \n",
       "| easy      | curve     | 2.232143  | 0.1728130 | 2.000000  | 0.1631667 | 3.053571  | 0.2382562 | 1.892857  | 0.1645114 | \n",
       "| easy      | no_curve  | 1.696429  | 0.1505825 | 1.642857  | 0.1334570 | 2.339286  | 0.1961923 | 1.500000  | 0.1167748 | \n",
       "\n",
       "\n"
      ],
      "text/plain": [
       "  difficulty curve    Question 1_mean Question 1_se Question 2_mean\n",
       "1 diff       curve    2.875000        0.2086794     2.625000       \n",
       "2 diff       no_curve 2.125000        0.1748144     1.928571       \n",
       "3 easy       curve    2.232143        0.1728130     2.000000       \n",
       "4 easy       no_curve 1.696429        0.1505825     1.642857       \n",
       "  Question 2_se Question 3_mean Question 3_se Question 4_mean Question 4_se\n",
       "1 0.2185586     3.714286        0.2752971     2.107143        0.1866982    \n",
       "2 0.1547036     2.910714        0.2487329     1.821429        0.1552274    \n",
       "3 0.1631667     3.053571        0.2382562     1.892857        0.1645114    \n",
       "4 0.1334570     2.339286        0.1961923     1.500000        0.1167748    "
      ]
     },
     "metadata": {},
     "output_type": "display_data"
    },
    {
     "data": {},
     "metadata": {},
     "output_type": "display_data"
    },
    {
     "data": {
      "image/png": "[encoded data removed]",
      "text/plain": [
       "plot without title"
      ]
     },
     "metadata": {},
     "output_type": "display_data"
    }
   ],
   "source": [
    "cell_means <- current_data %>% \n",
    "group_by(difficulty, curve, question_number) %>% \n",
    "summarize(action_mean = mean(action, na.rm = TRUE), action_se = sd(action, na.rm = TRUE) / sqrt(N)) \n",
    "\n",
    "cell_means %>% \n",
    "rename(mean = action_mean, se = action_se) %>% \n",
    "gather(stat, value, mean:se) %>% \n",
    "mutate(question_number = recode(question_number, `1` = 'Question 1', `2` = 'Question 2', \n",
    "                               `3` = 'Question 3', `4` = 'Question 4')) %>% \n",
    "unite(variable, question_number, stat) %>% \n",
    "spread(variable, value) \n",
    "\n",
    "\n",
    "\n",
    "cell_means %>% \n",
    "mutate(question_number = recode(question_number, `1` = 'Question 1', `2` = 'Question 2', \n",
    "                               `3` = 'Question 3', `4` = 'Question 4')) %>% \n",
    "ggplot(aes(x = difficulty, y = action_mean, group = curve)) + \n",
    "geom_bar(stat = 'identity', aes(fill = curve), position = 'dodge') + \n",
    "geom_errorbar(stat = 'identity', aes(ymin = action_mean - action_se, ymax = action_mean + action_se), \n",
    "            position = position_dodge(width = .9), width = .5) + facet_wrap(~question_number) + ylim(0,6) + \n",
    "xlab('Difficulty') + ylab('Likelihood of Taking Action')"
   ]
  },
  {
   "cell_type": "markdown",
   "metadata": {},
   "source": [
    "## The ANOVAs"
   ]
  },
  {
   "cell_type": "markdown",
   "metadata": {},
   "source": [
    "### \"Frustrate\" ANOVA"
   ]
  },
  {
   "cell_type": "code",
   "execution_count": 8,
   "metadata": {},
   "outputs": [
    {
     "data": {
      "text/html": [
       "<table>\n",
       "<thead><tr><th scope=col>subject</th><th scope=col>difficulty</th><th scope=col>curve</th><th scope=col>question_number</th><th scope=col>action</th><th scope=col>frustrate</th></tr></thead>\n",
       "<tbody>\n",
       "\t<tr><td>4       </td><td>diff    </td><td>curve   </td><td>1       </td><td>6       </td><td> 6      </td></tr>\n",
       "\t<tr><td>4       </td><td>diff    </td><td>curve   </td><td>2       </td><td>6       </td><td>NA      </td></tr>\n",
       "\t<tr><td>4       </td><td>diff    </td><td>curve   </td><td>3       </td><td>6       </td><td>NA      </td></tr>\n",
       "\t<tr><td>4       </td><td>diff    </td><td>curve   </td><td>4       </td><td>4       </td><td>NA      </td></tr>\n",
       "\t<tr><td>4       </td><td>diff    </td><td>no_curve</td><td>1       </td><td>5       </td><td> 4      </td></tr>\n",
       "\t<tr><td>4       </td><td>diff    </td><td>no_curve</td><td>2       </td><td>3       </td><td>NA      </td></tr>\n",
       "</tbody>\n",
       "</table>\n"
      ],
      "text/latex": [
       "\\begin{tabular}{r|llllll}\n",
       " subject & difficulty & curve & question\\_number & action & frustrate\\\\\n",
       "\\hline\n",
       "\t 4        & diff     & curve    & 1        & 6        &  6      \\\\\n",
       "\t 4        & diff     & curve    & 2        & 6        & NA      \\\\\n",
       "\t 4        & diff     & curve    & 3        & 6        & NA      \\\\\n",
       "\t 4        & diff     & curve    & 4        & 4        & NA      \\\\\n",
       "\t 4          & diff       & no\\_curve & 1          & 5          &  4        \\\\\n",
       "\t 4          & diff       & no\\_curve & 2          & 3          & NA        \\\\\n",
       "\\end{tabular}\n"
      ],
      "text/markdown": [
       "\n",
       "subject | difficulty | curve | question_number | action | frustrate | \n",
       "|---|---|---|---|---|---|\n",
       "| 4        | diff     | curve    | 1        | 6        |  6       | \n",
       "| 4        | diff     | curve    | 2        | 6        | NA       | \n",
       "| 4        | diff     | curve    | 3        | 6        | NA       | \n",
       "| 4        | diff     | curve    | 4        | 4        | NA       | \n",
       "| 4        | diff     | no_curve | 1        | 5        |  4       | \n",
       "| 4        | diff     | no_curve | 2        | 3        | NA       | \n",
       "\n",
       "\n"
      ],
      "text/plain": [
       "  subject difficulty curve    question_number action frustrate\n",
       "1 4       diff       curve    1               6       6       \n",
       "2 4       diff       curve    2               6      NA       \n",
       "3 4       diff       curve    3               6      NA       \n",
       "4 4       diff       curve    4               4      NA       \n",
       "5 4       diff       no_curve 1               5       4       \n",
       "6 4       diff       no_curve 2               3      NA       "
      ]
     },
     "metadata": {},
     "output_type": "display_data"
    }
   ],
   "source": [
    "head(current_data)"
   ]
  },
  {
   "cell_type": "code",
   "execution_count": 9,
   "metadata": {},
   "outputs": [
    {
     "name": "stderr",
     "output_type": "stream",
     "text": [
      "Warning message:\n",
      "\"Converting \"subject\" to factor for ANOVA.\""
     ]
    },
    {
     "data": {
      "text/html": [
       "<table>\n",
       "<thead><tr><th scope=col>Effect</th><th scope=col>DFn</th><th scope=col>DFd</th><th scope=col>SSn</th><th scope=col>SSd</th><th scope=col>F</th><th scope=col>p</th><th scope=col>p&lt;.05</th><th scope=col>ges</th><th scope=col>n2p</th></tr></thead>\n",
       "<tbody>\n",
       "\t<tr><td>(Intercept)     </td><td>1               </td><td>55              </td><td>5054.0000000    </td><td>370.00000       </td><td>751.270270      </td><td>0.0000          </td><td>*               </td><td>0.908800164     </td><td>0.93178466      </td></tr>\n",
       "\t<tr><td>difficulty      </td><td>1               </td><td>55              </td><td>  58.0178571    </td><td> 58.98214       </td><td> 54.100817      </td><td>0.0000          </td><td>*               </td><td>0.102650785     </td><td>0.49587912      </td></tr>\n",
       "\t<tr><td>curve           </td><td>1               </td><td>55              </td><td>  62.1607143    </td><td> 47.83929       </td><td> 71.465099      </td><td>0.0000          </td><td>*               </td><td>0.109180441     </td><td>0.56509740      </td></tr>\n",
       "\t<tr><td>difficulty:curve</td><td>1               </td><td>55              </td><td>   0.6428571    </td><td> 30.35714       </td><td>  1.164706      </td><td>0.2852          </td><td>                </td><td>0.001265912     </td><td>0.02073733      </td></tr>\n",
       "</tbody>\n",
       "</table>\n"
      ],
      "text/latex": [
       "\\begin{tabular}{r|llllllllll}\n",
       " Effect & DFn & DFd & SSn & SSd & F & p & p<.05 & ges & n2p\\\\\n",
       "\\hline\n",
       "\t (Intercept)      & 1                & 55               & 5054.0000000     & 370.00000        & 751.270270       & 0.0000           & *                & 0.908800164      & 0.93178466      \\\\\n",
       "\t difficulty       & 1                & 55               &   58.0178571     &  58.98214        &  54.100817       & 0.0000           & *                & 0.102650785      & 0.49587912      \\\\\n",
       "\t curve            & 1                & 55               &   62.1607143     &  47.83929        &  71.465099       & 0.0000           & *                & 0.109180441      & 0.56509740      \\\\\n",
       "\t difficulty:curve & 1                & 55               &    0.6428571     &  30.35714        &   1.164706       & 0.2852           &                  & 0.001265912      & 0.02073733      \\\\\n",
       "\\end{tabular}\n"
      ],
      "text/markdown": [
       "\n",
       "Effect | DFn | DFd | SSn | SSd | F | p | p<.05 | ges | n2p | \n",
       "|---|---|---|---|\n",
       "| (Intercept)      | 1                | 55               | 5054.0000000     | 370.00000        | 751.270270       | 0.0000           | *                | 0.908800164      | 0.93178466       | \n",
       "| difficulty       | 1                | 55               |   58.0178571     |  58.98214        |  54.100817       | 0.0000           | *                | 0.102650785      | 0.49587912       | \n",
       "| curve            | 1                | 55               |   62.1607143     |  47.83929        |  71.465099       | 0.0000           | *                | 0.109180441      | 0.56509740       | \n",
       "| difficulty:curve | 1                | 55               |    0.6428571     |  30.35714        |   1.164706       | 0.2852           |                  | 0.001265912      | 0.02073733       | \n",
       "\n",
       "\n"
      ],
      "text/plain": [
       "  Effect           DFn DFd SSn          SSd       F          p      p<.05\n",
       "1 (Intercept)      1   55  5054.0000000 370.00000 751.270270 0.0000 *    \n",
       "2 difficulty       1   55    58.0178571  58.98214  54.100817 0.0000 *    \n",
       "3 curve            1   55    62.1607143  47.83929  71.465099 0.0000 *    \n",
       "4 difficulty:curve 1   55     0.6428571  30.35714   1.164706 0.2852      \n",
       "  ges         n2p       \n",
       "1 0.908800164 0.93178466\n",
       "2 0.102650785 0.49587912\n",
       "3 0.109180441 0.56509740\n",
       "4 0.001265912 0.02073733"
      ]
     },
     "metadata": {},
     "output_type": "display_data"
    }
   ],
   "source": [
    "frustrate_model <- ezANOVA(data = current_data[complete.cases(current_data$frustrate),], \n",
    "                                                              wid = subject, within = .(difficulty, curve), \n",
    "                                                              dv = frustrate, detailed = TRUE)\n",
    "cbind(frustrate_model$ANOVA, n2p = frustrate_model$ANOVA$SSn / (frustrate_model$ANOVA$SSn + frustrate_model$ANOVA$SSd)) %>% \n",
    "mutate(p = round(p,4))"
   ]
  },
  {
   "cell_type": "markdown",
   "metadata": {},
   "source": [
    "Just two main effects and no interaction."
   ]
  },
  {
   "cell_type": "markdown",
   "metadata": {},
   "source": [
    "### \"Action\" ANOVAs"
   ]
  },
  {
   "cell_type": "markdown",
   "metadata": {},
   "source": [
    "Remember, we're running one ANOVA per question, so four total ANOVAs."
   ]
  },
  {
   "cell_type": "code",
   "execution_count": 10,
   "metadata": {},
   "outputs": [
    {
     "data": {
      "text/html": [
       "<table>\n",
       "<thead><tr><th scope=col>subject</th><th scope=col>difficulty</th><th scope=col>curve</th><th scope=col>question_number</th><th scope=col>action</th><th scope=col>frustrate</th></tr></thead>\n",
       "<tbody>\n",
       "\t<tr><td>4       </td><td>diff    </td><td>curve   </td><td>1       </td><td>6       </td><td> 6      </td></tr>\n",
       "\t<tr><td>4       </td><td>diff    </td><td>curve   </td><td>2       </td><td>6       </td><td>NA      </td></tr>\n",
       "\t<tr><td>4       </td><td>diff    </td><td>curve   </td><td>3       </td><td>6       </td><td>NA      </td></tr>\n",
       "\t<tr><td>4       </td><td>diff    </td><td>curve   </td><td>4       </td><td>4       </td><td>NA      </td></tr>\n",
       "\t<tr><td>4       </td><td>diff    </td><td>no_curve</td><td>1       </td><td>5       </td><td> 4      </td></tr>\n",
       "\t<tr><td>4       </td><td>diff    </td><td>no_curve</td><td>2       </td><td>3       </td><td>NA      </td></tr>\n",
       "</tbody>\n",
       "</table>\n"
      ],
      "text/latex": [
       "\\begin{tabular}{r|llllll}\n",
       " subject & difficulty & curve & question\\_number & action & frustrate\\\\\n",
       "\\hline\n",
       "\t 4        & diff     & curve    & 1        & 6        &  6      \\\\\n",
       "\t 4        & diff     & curve    & 2        & 6        & NA      \\\\\n",
       "\t 4        & diff     & curve    & 3        & 6        & NA      \\\\\n",
       "\t 4        & diff     & curve    & 4        & 4        & NA      \\\\\n",
       "\t 4          & diff       & no\\_curve & 1          & 5          &  4        \\\\\n",
       "\t 4          & diff       & no\\_curve & 2          & 3          & NA        \\\\\n",
       "\\end{tabular}\n"
      ],
      "text/markdown": [
       "\n",
       "subject | difficulty | curve | question_number | action | frustrate | \n",
       "|---|---|---|---|---|---|\n",
       "| 4        | diff     | curve    | 1        | 6        |  6       | \n",
       "| 4        | diff     | curve    | 2        | 6        | NA       | \n",
       "| 4        | diff     | curve    | 3        | 6        | NA       | \n",
       "| 4        | diff     | curve    | 4        | 4        | NA       | \n",
       "| 4        | diff     | no_curve | 1        | 5        |  4       | \n",
       "| 4        | diff     | no_curve | 2        | 3        | NA       | \n",
       "\n",
       "\n"
      ],
      "text/plain": [
       "  subject difficulty curve    question_number action frustrate\n",
       "1 4       diff       curve    1               6       6       \n",
       "2 4       diff       curve    2               6      NA       \n",
       "3 4       diff       curve    3               6      NA       \n",
       "4 4       diff       curve    4               4      NA       \n",
       "5 4       diff       no_curve 1               5       4       \n",
       "6 4       diff       no_curve 2               3      NA       "
      ]
     },
     "metadata": {},
     "output_type": "display_data"
    }
   ],
   "source": [
    "head(current_data)"
   ]
  },
  {
   "cell_type": "code",
   "execution_count": 17,
   "metadata": {},
   "outputs": [
    {
     "name": "stderr",
     "output_type": "stream",
     "text": [
      "Warning message:\n",
      "\"Converting \"subject\" to factor for ANOVA.\"Warning message:\n",
      "\"Converting \"subject\" to factor for ANOVA.\"Warning message:\n",
      "\"Converting \"subject\" to factor for ANOVA.\"Warning message:\n",
      "\"Converting \"subject\" to factor for ANOVA.\""
     ]
    },
    {
     "data": {
      "text/html": [
       "<table>\n",
       "<thead><tr><th scope=col>Question Number</th><th scope=col>Effect</th><th scope=col>DFn</th><th scope=col>DFd</th><th scope=col>SSn</th><th scope=col>SSd</th><th scope=col>F</th><th scope=col>p</th><th scope=col>p&lt;.05</th><th scope=col>ges</th><th scope=col>n2p</th></tr></thead>\n",
       "<tbody>\n",
       "\t<tr><td>1               </td><td>(Intercept)     </td><td>1               </td><td>55              </td><td>1116.0714286    </td><td>287.42857       </td><td>213.5623757     </td><td>0.0000          </td><td>*               </td><td>0.7410129944    </td><td>0.795205863     </td></tr>\n",
       "\t<tr><td>1               </td><td>difficulty      </td><td>1               </td><td>55              </td><td>  16.0714286    </td><td> 32.42857       </td><td> 27.2577093     </td><td>0.0000          </td><td>*               </td><td>0.0395708758    </td><td>0.331369661     </td></tr>\n",
       "\t<tr><td>1               </td><td>curve           </td><td>1               </td><td>55              </td><td>  23.1428571    </td><td> 37.35714       </td><td> 34.0726577     </td><td>0.0000          </td><td>*               </td><td>0.0560069144    </td><td>0.382526564     </td></tr>\n",
       "\t<tr><td>1               </td><td>difficulty:curve</td><td>1               </td><td>55              </td><td>   0.6428571    </td><td> 32.85714       </td><td>  1.0760870     </td><td>0.3041          </td><td>                </td><td>0.0016453382    </td><td>0.019189765     </td></tr>\n",
       "\t<tr><td>2               </td><td>(Intercept)     </td><td>1               </td><td>55              </td><td> 940.5401786    </td><td>279.20982       </td><td>185.2718130     </td><td>0.0000          </td><td>*               </td><td>0.7244751638    </td><td>0.771092583     </td></tr>\n",
       "\t<tr><td>2               </td><td>difficulty      </td><td>1               </td><td>55              </td><td>  11.6116071    </td><td> 24.13839       </td><td> 26.4573701     </td><td>0.0000          </td><td>*               </td><td>0.0314415231    </td><td>0.324800200     </td></tr>\n",
       "\t<tr><td>2               </td><td>curve           </td><td>1               </td><td>55              </td><td>  15.5401786    </td><td> 37.20982       </td><td> 22.9700060     </td><td>0.0000          </td><td>*               </td><td>0.0416362658    </td><td>0.294600542     </td></tr>\n",
       "\t<tr><td>2               </td><td>difficulty:curve</td><td>1               </td><td>55              </td><td>   1.6116071    </td><td> 17.13839       </td><td>  5.1719198     </td><td>0.0269          </td><td>*               </td><td>0.0044853078    </td><td>0.085952381     </td></tr>\n",
       "\t<tr><td>3               </td><td>(Intercept)     </td><td>1               </td><td>55              </td><td>2022.0044643    </td><td>621.24554       </td><td>179.0117420     </td><td>0.0000          </td><td>*               </td><td>0.7381249990    </td><td>0.764969059     </td></tr>\n",
       "\t<tr><td>3               </td><td>difficulty      </td><td>1               </td><td>55              </td><td>  21.2544643    </td><td> 35.99554       </td><td> 32.4761255     </td><td>0.0000          </td><td>*               </td><td>0.0287755435    </td><td>0.371257018     </td></tr>\n",
       "\t<tr><td>3               </td><td>curve           </td><td>1               </td><td>55              </td><td>  32.2544643    </td><td> 38.99554       </td><td> 45.4922725     </td><td>0.0000          </td><td>*               </td><td>0.0430272099    </td><td>0.452694236     </td></tr>\n",
       "\t<tr><td>3               </td><td>difficulty:curve</td><td>1               </td><td>55              </td><td>   0.1116071    </td><td> 21.13839       </td><td>  0.2903907     </td><td>0.5921          </td><td>                </td><td>0.0001555529    </td><td>0.005252101     </td></tr>\n",
       "\t<tr><td>4               </td><td>(Intercept)     </td><td>1               </td><td>55              </td><td> 750.4464286    </td><td>221.55357       </td><td>186.2960426     </td><td>0.0000          </td><td>*               </td><td>0.7097259048    </td><td>0.772064227     </td></tr>\n",
       "\t<tr><td>4               </td><td>difficulty      </td><td>1               </td><td>55              </td><td>   4.0178571    </td><td> 34.98214       </td><td>  6.3169985     </td><td>0.0149          </td><td>*               </td><td>0.0129213806    </td><td>0.103021978     </td></tr>\n",
       "\t<tr><td>4               </td><td>curve           </td><td>1               </td><td>55              </td><td>   6.4464286    </td><td> 32.55357       </td><td> 10.8913878     </td><td>0.0017          </td><td>*               </td><td>0.0205709727    </td><td>0.165293040     </td></tr>\n",
       "\t<tr><td>4               </td><td>difficulty:curve</td><td>1               </td><td>55              </td><td>   0.1607143    </td><td> 17.83929       </td><td>  0.4954955     </td><td>0.4845          </td><td>                </td><td>0.0005233471    </td><td>0.008928571     </td></tr>\n",
       "</tbody>\n",
       "</table>\n"
      ],
      "text/latex": [
       "\\begin{tabular}{r|lllllllllll}\n",
       " Question Number & Effect & DFn & DFd & SSn & SSd & F & p & p<.05 & ges & n2p\\\\\n",
       "\\hline\n",
       "\t 1                & (Intercept)      & 1                & 55               & 1116.0714286     & 287.42857        & 213.5623757      & 0.0000           & *                & 0.7410129944     & 0.795205863     \\\\\n",
       "\t 1                & difficulty       & 1                & 55               &   16.0714286     &  32.42857        &  27.2577093      & 0.0000           & *                & 0.0395708758     & 0.331369661     \\\\\n",
       "\t 1                & curve            & 1                & 55               &   23.1428571     &  37.35714        &  34.0726577      & 0.0000           & *                & 0.0560069144     & 0.382526564     \\\\\n",
       "\t 1                & difficulty:curve & 1                & 55               &    0.6428571     &  32.85714        &   1.0760870      & 0.3041           &                  & 0.0016453382     & 0.019189765     \\\\\n",
       "\t 2                & (Intercept)      & 1                & 55               &  940.5401786     & 279.20982        & 185.2718130      & 0.0000           & *                & 0.7244751638     & 0.771092583     \\\\\n",
       "\t 2                & difficulty       & 1                & 55               &   11.6116071     &  24.13839        &  26.4573701      & 0.0000           & *                & 0.0314415231     & 0.324800200     \\\\\n",
       "\t 2                & curve            & 1                & 55               &   15.5401786     &  37.20982        &  22.9700060      & 0.0000           & *                & 0.0416362658     & 0.294600542     \\\\\n",
       "\t 2                & difficulty:curve & 1                & 55               &    1.6116071     &  17.13839        &   5.1719198      & 0.0269           & *                & 0.0044853078     & 0.085952381     \\\\\n",
       "\t 3                & (Intercept)      & 1                & 55               & 2022.0044643     & 621.24554        & 179.0117420      & 0.0000           & *                & 0.7381249990     & 0.764969059     \\\\\n",
       "\t 3                & difficulty       & 1                & 55               &   21.2544643     &  35.99554        &  32.4761255      & 0.0000           & *                & 0.0287755435     & 0.371257018     \\\\\n",
       "\t 3                & curve            & 1                & 55               &   32.2544643     &  38.99554        &  45.4922725      & 0.0000           & *                & 0.0430272099     & 0.452694236     \\\\\n",
       "\t 3                & difficulty:curve & 1                & 55               &    0.1116071     &  21.13839        &   0.2903907      & 0.5921           &                  & 0.0001555529     & 0.005252101     \\\\\n",
       "\t 4                & (Intercept)      & 1                & 55               &  750.4464286     & 221.55357        & 186.2960426      & 0.0000           & *                & 0.7097259048     & 0.772064227     \\\\\n",
       "\t 4                & difficulty       & 1                & 55               &    4.0178571     &  34.98214        &   6.3169985      & 0.0149           & *                & 0.0129213806     & 0.103021978     \\\\\n",
       "\t 4                & curve            & 1                & 55               &    6.4464286     &  32.55357        &  10.8913878      & 0.0017           & *                & 0.0205709727     & 0.165293040     \\\\\n",
       "\t 4                & difficulty:curve & 1                & 55               &    0.1607143     &  17.83929        &   0.4954955      & 0.4845           &                  & 0.0005233471     & 0.008928571     \\\\\n",
       "\\end{tabular}\n"
      ],
      "text/markdown": [
       "\n",
       "Question Number | Effect | DFn | DFd | SSn | SSd | F | p | p<.05 | ges | n2p | \n",
       "|---|---|---|---|---|---|---|---|---|---|---|---|---|---|---|---|\n",
       "| 1                | (Intercept)      | 1                | 55               | 1116.0714286     | 287.42857        | 213.5623757      | 0.0000           | *                | 0.7410129944     | 0.795205863      | \n",
       "| 1                | difficulty       | 1                | 55               |   16.0714286     |  32.42857        |  27.2577093      | 0.0000           | *                | 0.0395708758     | 0.331369661      | \n",
       "| 1                | curve            | 1                | 55               |   23.1428571     |  37.35714        |  34.0726577      | 0.0000           | *                | 0.0560069144     | 0.382526564      | \n",
       "| 1                | difficulty:curve | 1                | 55               |    0.6428571     |  32.85714        |   1.0760870      | 0.3041           |                  | 0.0016453382     | 0.019189765      | \n",
       "| 2                | (Intercept)      | 1                | 55               |  940.5401786     | 279.20982        | 185.2718130      | 0.0000           | *                | 0.7244751638     | 0.771092583      | \n",
       "| 2                | difficulty       | 1                | 55               |   11.6116071     |  24.13839        |  26.4573701      | 0.0000           | *                | 0.0314415231     | 0.324800200      | \n",
       "| 2                | curve            | 1                | 55               |   15.5401786     |  37.20982        |  22.9700060      | 0.0000           | *                | 0.0416362658     | 0.294600542      | \n",
       "| 2                | difficulty:curve | 1                | 55               |    1.6116071     |  17.13839        |   5.1719198      | 0.0269           | *                | 0.0044853078     | 0.085952381      | \n",
       "| 3                | (Intercept)      | 1                | 55               | 2022.0044643     | 621.24554        | 179.0117420      | 0.0000           | *                | 0.7381249990     | 0.764969059      | \n",
       "| 3                | difficulty       | 1                | 55               |   21.2544643     |  35.99554        |  32.4761255      | 0.0000           | *                | 0.0287755435     | 0.371257018      | \n",
       "| 3                | curve            | 1                | 55               |   32.2544643     |  38.99554        |  45.4922725      | 0.0000           | *                | 0.0430272099     | 0.452694236      | \n",
       "| 3                | difficulty:curve | 1                | 55               |    0.1116071     |  21.13839        |   0.2903907      | 0.5921           |                  | 0.0001555529     | 0.005252101      | \n",
       "| 4                | (Intercept)      | 1                | 55               |  750.4464286     | 221.55357        | 186.2960426      | 0.0000           | *                | 0.7097259048     | 0.772064227      | \n",
       "| 4                | difficulty       | 1                | 55               |    4.0178571     |  34.98214        |   6.3169985      | 0.0149           | *                | 0.0129213806     | 0.103021978      | \n",
       "| 4                | curve            | 1                | 55               |    6.4464286     |  32.55357        |  10.8913878      | 0.0017           | *                | 0.0205709727     | 0.165293040      | \n",
       "| 4                | difficulty:curve | 1                | 55               |    0.1607143     |  17.83929        |   0.4954955      | 0.4845           |                  | 0.0005233471     | 0.008928571      | \n",
       "\n",
       "\n"
      ],
      "text/plain": [
       "   Question Number Effect           DFn DFd SSn          SSd       F          \n",
       "1  1               (Intercept)      1   55  1116.0714286 287.42857 213.5623757\n",
       "2  1               difficulty       1   55    16.0714286  32.42857  27.2577093\n",
       "3  1               curve            1   55    23.1428571  37.35714  34.0726577\n",
       "4  1               difficulty:curve 1   55     0.6428571  32.85714   1.0760870\n",
       "5  2               (Intercept)      1   55   940.5401786 279.20982 185.2718130\n",
       "6  2               difficulty       1   55    11.6116071  24.13839  26.4573701\n",
       "7  2               curve            1   55    15.5401786  37.20982  22.9700060\n",
       "8  2               difficulty:curve 1   55     1.6116071  17.13839   5.1719198\n",
       "9  3               (Intercept)      1   55  2022.0044643 621.24554 179.0117420\n",
       "10 3               difficulty       1   55    21.2544643  35.99554  32.4761255\n",
       "11 3               curve            1   55    32.2544643  38.99554  45.4922725\n",
       "12 3               difficulty:curve 1   55     0.1116071  21.13839   0.2903907\n",
       "13 4               (Intercept)      1   55   750.4464286 221.55357 186.2960426\n",
       "14 4               difficulty       1   55     4.0178571  34.98214   6.3169985\n",
       "15 4               curve            1   55     6.4464286  32.55357  10.8913878\n",
       "16 4               difficulty:curve 1   55     0.1607143  17.83929   0.4954955\n",
       "   p      p<.05 ges          n2p        \n",
       "1  0.0000 *     0.7410129944 0.795205863\n",
       "2  0.0000 *     0.0395708758 0.331369661\n",
       "3  0.0000 *     0.0560069144 0.382526564\n",
       "4  0.3041       0.0016453382 0.019189765\n",
       "5  0.0000 *     0.7244751638 0.771092583\n",
       "6  0.0000 *     0.0314415231 0.324800200\n",
       "7  0.0000 *     0.0416362658 0.294600542\n",
       "8  0.0269 *     0.0044853078 0.085952381\n",
       "9  0.0000 *     0.7381249990 0.764969059\n",
       "10 0.0000 *     0.0287755435 0.371257018\n",
       "11 0.0000 *     0.0430272099 0.452694236\n",
       "12 0.5921       0.0001555529 0.005252101\n",
       "13 0.0000 *     0.7097259048 0.772064227\n",
       "14 0.0149 *     0.0129213806 0.103021978\n",
       "15 0.0017 *     0.0205709727 0.165293040\n",
       "16 0.4845       0.0005233471 0.008928571"
      ]
     },
     "metadata": {},
     "output_type": "display_data"
    }
   ],
   "source": [
    "current_data %>% \n",
    "group_by('Question Number' = question_number) %>% \n",
    "do(ezANOVA(data = ., wid = subject, within = .(difficulty, curve), dv = action, detailed = TRUE)$ANOVA) %>% \n",
    "mutate(n2p = SSn / (SSn + SSd),\n",
    "      p = round(p, 4))"
   ]
  },
  {
   "cell_type": "markdown",
   "metadata": {},
   "source": [
    "Just to orient you a little to what's going on here:\n",
    "* Don't worry about `(Intercept)`\n",
    "* Note all main effects significant across all question numbers\n",
    "* Note that the interaction is only significant for Question 2  \n",
    "\n",
    "I'll give you the descriptives for the 2x2 interaction in question 2 below."
   ]
  },
  {
   "cell_type": "code",
   "execution_count": 12,
   "metadata": {
    "scrolled": false
   },
   "outputs": [
    {
     "data": {
      "text/html": [
       "<table>\n",
       "<thead><tr><th scope=col>difficulty</th><th scope=col>curve</th><th scope=col>Action (Mean)</th><th scope=col>Action (SE)</th></tr></thead>\n",
       "<tbody>\n",
       "\t<tr><td>diff     </td><td>curve    </td><td>2.625000 </td><td>0.2185586</td></tr>\n",
       "\t<tr><td>diff     </td><td>no_curve </td><td>1.928571 </td><td>0.1547036</td></tr>\n",
       "\t<tr><td>easy     </td><td>curve    </td><td>2.000000 </td><td>0.1631667</td></tr>\n",
       "\t<tr><td>easy     </td><td>no_curve </td><td>1.642857 </td><td>0.1334570</td></tr>\n",
       "</tbody>\n",
       "</table>\n"
      ],
      "text/latex": [
       "\\begin{tabular}{r|llll}\n",
       " difficulty & curve & Action (Mean) & Action (SE)\\\\\n",
       "\\hline\n",
       "\t diff      & curve     & 2.625000  & 0.2185586\\\\\n",
       "\t diff       & no\\_curve & 1.928571   & 0.1547036 \\\\\n",
       "\t easy      & curve     & 2.000000  & 0.1631667\\\\\n",
       "\t easy       & no\\_curve & 1.642857   & 0.1334570 \\\\\n",
       "\\end{tabular}\n"
      ],
      "text/markdown": [
       "\n",
       "difficulty | curve | Action (Mean) | Action (SE) | \n",
       "|---|---|---|---|\n",
       "| diff      | curve     | 2.625000  | 0.2185586 | \n",
       "| diff      | no_curve  | 1.928571  | 0.1547036 | \n",
       "| easy      | curve     | 2.000000  | 0.1631667 | \n",
       "| easy      | no_curve  | 1.642857  | 0.1334570 | \n",
       "\n",
       "\n"
      ],
      "text/plain": [
       "  difficulty curve    Action (Mean) Action (SE)\n",
       "1 diff       curve    2.625000      0.2185586  \n",
       "2 diff       no_curve 1.928571      0.1547036  \n",
       "3 easy       curve    2.000000      0.1631667  \n",
       "4 easy       no_curve 1.642857      0.1334570  "
      ]
     },
     "metadata": {},
     "output_type": "display_data"
    },
    {
     "data": {},
     "metadata": {},
     "output_type": "display_data"
    },
    {
     "data": {
      "image/png": "[encoded data removed]",
      "text/plain": [
       "plot without title"
      ]
     },
     "metadata": {},
     "output_type": "display_data"
    }
   ],
   "source": [
    "means <- current_data %>% \n",
    "filter(question_number == 2) %>% \n",
    "group_by(subject, difficulty, curve) %>% \n",
    "summarize(action = mean(action)) %>% \n",
    "group_by(difficulty, curve) %>% \n",
    "summarize('Action (Mean)' = mean(action), 'Action (SE)' = sd(action) / sqrt(N)) \n",
    "\n",
    "means\n",
    "\n",
    "means %>% \n",
    "rename(action = 'Action (Mean)', se = 'Action (SE)') %>% \n",
    "ggplot(aes(x = difficulty, y = action, group = curve)) + \n",
    "geom_bar(aes(fill = curve), stat = 'identity', position = 'dodge') + \n",
    "geom_errorbar(aes(ymin = action - se, ymax = action + se), position = position_dodge(width = .9), width = .5) + \n",
    "labs(x = 'Difficulty of Exam', y = 'Likelihood of Taking Action', title = 'Question 2', \n",
    "     subtitle = 'Would you report cheating to the professor?') + ylim(0,6)"
   ]
  },
  {
   "cell_type": "markdown",
   "metadata": {},
   "source": [
    "## Data Access\n",
    "I'm going to save data to the \"data\" folder in your guys' file in the OSF so that you can access it if you want; more specifically: `./Integrity Group/data`\n",
    "\n",
    "`subject_action.xlsx` -- The means for the full design (including question type) for action broken down by subject  \n",
    "`subject_frustrate.xlsx` -- The means for the full design for frustration broken down by subject"
   ]
  },
  {
   "cell_type": "code",
   "execution_count": 13,
   "metadata": {},
   "outputs": [
    {
     "name": "stderr",
     "output_type": "stream",
     "text": [
      "\n",
      "Attaching package: 'reshape2'\n",
      "\n",
      "The following objects are masked from 'package:data.table':\n",
      "\n",
      "    dcast, melt\n",
      "\n",
      "The following object is masked from 'package:tidyr':\n",
      "\n",
      "    smiths\n",
      "\n",
      "Using action as value column: use value.var to override.\n",
      "Using frustrate as value column: use value.var to override.\n"
     ]
    }
   ],
   "source": [
    "library(reshape2)\n",
    "current_data %>% \n",
    "group_by(subject, difficulty, curve, question_number) %>% \n",
    "summarize(action = mean(action)) %>% \n",
    "dcast(subject ~ difficulty + curve + question_number) %>% \n",
    "mutate(subject = as.numeric(subject)) %>% \n",
    "arrange(subject) %>% \n",
    "write.xlsx('../data/subject_action.xlsx', row.names = FALSE)\n",
    "\n",
    "current_data %>% \n",
    "group_by(subject, difficulty, curve)  %>% \n",
    "summarize(frustrate = mean(frustrate, na.rm = TRUE)) %>% \n",
    "dcast(subject ~ difficulty + curve) %>% \n",
    "mutate(subject = as.numeric(subject)) %>% \n",
    "arrange(subject) %>% \n",
    "write.xlsx('../data/subject_frustrate.xlsx', row.names = FALSE)\n"
   ]
  }
 ],
 "metadata": {
  "kernelspec": {
   "display_name": "R",
   "language": "R",
   "name": "ir"
  },
  "language_info": {
   "codemirror_mode": "r",
   "file_extension": ".r",
   "mimetype": "text/x-r-source",
   "name": "R",
   "pygments_lexer": "r",
   "version": "3.4.3"
  }
 },
 "nbformat": 4,
 "nbformat_minor": 2
}
