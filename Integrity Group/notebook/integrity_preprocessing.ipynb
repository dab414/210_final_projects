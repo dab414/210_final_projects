{
 "cells": [
  {
   "cell_type": "markdown",
   "metadata": {},
   "source": [
    "## Integrity Preprocessing\n",
    "Formatting this data into something I can work with is going to be very difficult.. here we go."
   ]
  },
  {
   "cell_type": "markdown",
   "metadata": {},
   "source": [
    "Note to self: remove data from 4/3 (piloting)"
   ]
  },
  {
   "cell_type": "code",
   "execution_count": 191,
   "metadata": {},
   "outputs": [],
   "source": [
    "library(tidyverse)\n",
    "library(data.table)\n",
    "library(ez)"
   ]
  },
  {
   "cell_type": "code",
   "execution_count": 192,
   "metadata": {},
   "outputs": [],
   "source": [
    "current_data <- fread('../data/integrity_raw.csv')"
   ]
  },
  {
   "cell_type": "code",
   "execution_count": 193,
   "metadata": {},
   "outputs": [
    {
     "data": {
      "text/html": [
       "63"
      ],
      "text/latex": [
       "63"
      ],
      "text/markdown": [
       "63"
      ],
      "text/plain": [
       "[1] 63"
      ]
     },
     "metadata": {},
     "output_type": "display_data"
    }
   ],
   "source": [
    "nrow(current_data)"
   ]
  },
  {
   "cell_type": "code",
   "execution_count": 194,
   "metadata": {},
   "outputs": [
    {
     "data": {
      "text/html": [
       "<ol class=list-inline>\n",
       "\t<li>'StartDate'</li>\n",
       "\t<li>'EndDate'</li>\n",
       "\t<li>'Status'</li>\n",
       "\t<li>'IPAddress'</li>\n",
       "\t<li>'Progress'</li>\n",
       "\t<li>'Duration (in seconds)'</li>\n",
       "\t<li>'Finished'</li>\n",
       "\t<li>'RecordedDate'</li>\n",
       "\t<li>'ResponseId'</li>\n",
       "\t<li>'RecipientLastName'</li>\n",
       "\t<li>'RecipientFirstName'</li>\n",
       "\t<li>'RecipientEmail'</li>\n",
       "\t<li>'ExternalReference'</li>\n",
       "\t<li>'LocationLatitude'</li>\n",
       "\t<li>'LocationLongitude'</li>\n",
       "\t<li>'DistributionChannel'</li>\n",
       "\t<li>'UserLanguage'</li>\n",
       "\t<li>'frustrate diff-com_1'</li>\n",
       "\t<li>'action diff-com_1'</li>\n",
       "\t<li>'action diff-com_2'</li>\n",
       "\t<li>'action diff-com_3'</li>\n",
       "\t<li>'action diff-com_4'</li>\n",
       "\t<li>'box diff-com'</li>\n",
       "\t<li>'frustrate diff-non_1'</li>\n",
       "\t<li>'action diff-non_1'</li>\n",
       "\t<li>'action diff-non_2'</li>\n",
       "\t<li>'action diff-non_3'</li>\n",
       "\t<li>'action diff-non_4'</li>\n",
       "\t<li>'box diff-non'</li>\n",
       "\t<li>'Frustrate easy-com_1'</li>\n",
       "\t<li>'Action easy-com_1'</li>\n",
       "\t<li>'Action easy-com_2'</li>\n",
       "\t<li>'Action easy-com_3'</li>\n",
       "\t<li>'Action easy-com_4'</li>\n",
       "\t<li>'box easy-com'</li>\n",
       "\t<li>'frustrate easy-non_1'</li>\n",
       "\t<li>'action easy-non_1'</li>\n",
       "\t<li>'action easy-non_2'</li>\n",
       "\t<li>'action easy-non_3'</li>\n",
       "\t<li>'action easy-non_4'</li>\n",
       "\t<li>'box easy-non'</li>\n",
       "</ol>\n"
      ],
      "text/latex": [
       "\\begin{enumerate*}\n",
       "\\item 'StartDate'\n",
       "\\item 'EndDate'\n",
       "\\item 'Status'\n",
       "\\item 'IPAddress'\n",
       "\\item 'Progress'\n",
       "\\item 'Duration (in seconds)'\n",
       "\\item 'Finished'\n",
       "\\item 'RecordedDate'\n",
       "\\item 'ResponseId'\n",
       "\\item 'RecipientLastName'\n",
       "\\item 'RecipientFirstName'\n",
       "\\item 'RecipientEmail'\n",
       "\\item 'ExternalReference'\n",
       "\\item 'LocationLatitude'\n",
       "\\item 'LocationLongitude'\n",
       "\\item 'DistributionChannel'\n",
       "\\item 'UserLanguage'\n",
       "\\item 'frustrate diff-com\\_1'\n",
       "\\item 'action diff-com\\_1'\n",
       "\\item 'action diff-com\\_2'\n",
       "\\item 'action diff-com\\_3'\n",
       "\\item 'action diff-com\\_4'\n",
       "\\item 'box diff-com'\n",
       "\\item 'frustrate diff-non\\_1'\n",
       "\\item 'action diff-non\\_1'\n",
       "\\item 'action diff-non\\_2'\n",
       "\\item 'action diff-non\\_3'\n",
       "\\item 'action diff-non\\_4'\n",
       "\\item 'box diff-non'\n",
       "\\item 'Frustrate easy-com\\_1'\n",
       "\\item 'Action easy-com\\_1'\n",
       "\\item 'Action easy-com\\_2'\n",
       "\\item 'Action easy-com\\_3'\n",
       "\\item 'Action easy-com\\_4'\n",
       "\\item 'box easy-com'\n",
       "\\item 'frustrate easy-non\\_1'\n",
       "\\item 'action easy-non\\_1'\n",
       "\\item 'action easy-non\\_2'\n",
       "\\item 'action easy-non\\_3'\n",
       "\\item 'action easy-non\\_4'\n",
       "\\item 'box easy-non'\n",
       "\\end{enumerate*}\n"
      ],
      "text/markdown": [
       "1. 'StartDate'\n",
       "2. 'EndDate'\n",
       "3. 'Status'\n",
       "4. 'IPAddress'\n",
       "5. 'Progress'\n",
       "6. 'Duration (in seconds)'\n",
       "7. 'Finished'\n",
       "8. 'RecordedDate'\n",
       "9. 'ResponseId'\n",
       "10. 'RecipientLastName'\n",
       "11. 'RecipientFirstName'\n",
       "12. 'RecipientEmail'\n",
       "13. 'ExternalReference'\n",
       "14. 'LocationLatitude'\n",
       "15. 'LocationLongitude'\n",
       "16. 'DistributionChannel'\n",
       "17. 'UserLanguage'\n",
       "18. 'frustrate diff-com_1'\n",
       "19. 'action diff-com_1'\n",
       "20. 'action diff-com_2'\n",
       "21. 'action diff-com_3'\n",
       "22. 'action diff-com_4'\n",
       "23. 'box diff-com'\n",
       "24. 'frustrate diff-non_1'\n",
       "25. 'action diff-non_1'\n",
       "26. 'action diff-non_2'\n",
       "27. 'action diff-non_3'\n",
       "28. 'action diff-non_4'\n",
       "29. 'box diff-non'\n",
       "30. 'Frustrate easy-com_1'\n",
       "31. 'Action easy-com_1'\n",
       "32. 'Action easy-com_2'\n",
       "33. 'Action easy-com_3'\n",
       "34. 'Action easy-com_4'\n",
       "35. 'box easy-com'\n",
       "36. 'frustrate easy-non_1'\n",
       "37. 'action easy-non_1'\n",
       "38. 'action easy-non_2'\n",
       "39. 'action easy-non_3'\n",
       "40. 'action easy-non_4'\n",
       "41. 'box easy-non'\n",
       "\n",
       "\n"
      ],
      "text/plain": [
       " [1] \"StartDate\"             \"EndDate\"               \"Status\"               \n",
       " [4] \"IPAddress\"             \"Progress\"              \"Duration (in seconds)\"\n",
       " [7] \"Finished\"              \"RecordedDate\"          \"ResponseId\"           \n",
       "[10] \"RecipientLastName\"     \"RecipientFirstName\"    \"RecipientEmail\"       \n",
       "[13] \"ExternalReference\"     \"LocationLatitude\"      \"LocationLongitude\"    \n",
       "[16] \"DistributionChannel\"   \"UserLanguage\"          \"frustrate diff-com_1\" \n",
       "[19] \"action diff-com_1\"     \"action diff-com_2\"     \"action diff-com_3\"    \n",
       "[22] \"action diff-com_4\"     \"box diff-com\"          \"frustrate diff-non_1\" \n",
       "[25] \"action diff-non_1\"     \"action diff-non_2\"     \"action diff-non_3\"    \n",
       "[28] \"action diff-non_4\"     \"box diff-non\"          \"Frustrate easy-com_1\" \n",
       "[31] \"Action easy-com_1\"     \"Action easy-com_2\"     \"Action easy-com_3\"    \n",
       "[34] \"Action easy-com_4\"     \"box easy-com\"          \"frustrate easy-non_1\" \n",
       "[37] \"action easy-non_1\"     \"action easy-non_2\"     \"action easy-non_3\"    \n",
       "[40] \"action easy-non_4\"     \"box easy-non\"         "
      ]
     },
     "metadata": {},
     "output_type": "display_data"
    },
    {
     "data": {
      "text/html": [
       "<table>\n",
       "<thead><tr><th scope=col>StartDate</th><th scope=col>EndDate</th><th scope=col>Status</th><th scope=col>IPAddress</th><th scope=col>Progress</th><th scope=col>Duration (in seconds)</th><th scope=col>Finished</th><th scope=col>RecordedDate</th><th scope=col>ResponseId</th><th scope=col>RecipientLastName</th><th scope=col>...</th><th scope=col>Action easy-com_2</th><th scope=col>Action easy-com_3</th><th scope=col>Action easy-com_4</th><th scope=col>box easy-com</th><th scope=col>frustrate easy-non_1</th><th scope=col>action easy-non_1</th><th scope=col>action easy-non_2</th><th scope=col>action easy-non_3</th><th scope=col>action easy-non_4</th><th scope=col>box easy-non</th></tr></thead>\n",
       "<tbody>\n",
       "\t<tr><td>Start Date                                                                                                          </td><td>End Date                                                                                                            </td><td>Response Type                                                                                                       </td><td>IP Address                                                                                                          </td><td>Progress                                                                                                            </td><td>Duration (in seconds)                                                                                               </td><td>Finished                                                                                                            </td><td>Recorded Date                                                                                                       </td><td>Response ID                                                                                                         </td><td>Recipient Last Name                                                                                                 </td><td>...                                                                                                                 </td><td>Action easy-com - How likely would you report to the professor that this student cheated after class?               </td><td>Action easy-com - How likely would you anonymously report that this student cheated after class?                    </td><td>Action easy-com - How likely would you confront the cheating student at the end of the exam to suggest they confess?</td><td>Are there other actions that you might take and are not listed above? If so, please elaborate in the box below.     </td><td>frustrate easy-non - How frustrated do you feel about the cheating in the scenario above?                           </td><td>action easy-non - How likely would you do something in the scenario above?                                          </td><td>action easy-non - How likely would you report to the professor that this student cheated after class?               </td><td>action easy-non - How likely would you anonymously report that this student cheated after class?                    </td><td>action easy-non - How likely would you confront the cheating student at the end of the exam to suggest they confess?</td><td>Are there other actions that you might take and are not listed above? If so, please elaborate in the box below.     </td></tr>\n",
       "\t<tr><td>{\"\"ImportId\"\":\"\"startDate\"\",\"\"timeZone\"\":\"\"America/Denver\"\"}                                                        </td><td>{\"\"ImportId\"\":\"\"endDate\"\",\"\"timeZone\"\":\"\"America/Denver\"\"}                                                          </td><td>{\"\"ImportId\"\":\"\"status\"\"}                                                                                           </td><td>{\"\"ImportId\"\":\"\"ipAddress\"\"}                                                                                        </td><td>{\"\"ImportId\"\":\"\"progress\"\"}                                                                                         </td><td>{\"\"ImportId\"\":\"\"duration\"\"}                                                                                         </td><td>{\"\"ImportId\"\":\"\"finished\"\"}                                                                                         </td><td>{\"\"ImportId\"\":\"\"recordedDate\"\",\"\"timeZone\"\":\"\"America/Denver\"\"}                                                     </td><td>{\"\"ImportId\"\":\"\"_recordId\"\"}                                                                                        </td><td>{\"\"ImportId\"\":\"\"recipientLastName\"\"}                                                                                </td><td>...                                                                                                                 </td><td>{\"\"ImportId\"\":\"\"QID18_2\"\"}                                                                                          </td><td>{\"\"ImportId\"\":\"\"QID18_3\"\"}                                                                                          </td><td>{\"\"ImportId\"\":\"\"QID18_4\"\"}                                                                                          </td><td>{\"\"ImportId\"\":\"\"QID22_TEXT\"\"}                                                                                       </td><td>{\"\"ImportId\"\":\"\"QID19_1\"\"}                                                                                          </td><td>{\"\"ImportId\"\":\"\"QID20_1\"\"}                                                                                          </td><td>{\"\"ImportId\"\":\"\"QID20_2\"\"}                                                                                          </td><td>{\"\"ImportId\"\":\"\"QID20_3\"\"}                                                                                          </td><td>{\"\"ImportId\"\":\"\"QID20_4\"\"}                                                                                          </td><td>{\"\"ImportId\"\":\"\"QID23_TEXT\"\"}                                                                                       </td></tr>\n",
       "\t<tr><td>2018-04-03 11:59:45                                                                                                 </td><td>2018-04-03 12:00:25                                                                                                 </td><td>0                                                                                                                   </td><td>128.180.158.193                                                                                                     </td><td>100                                                                                                                 </td><td>40                                                                                                                  </td><td>1                                                                                                                   </td><td>2018-04-03 12:00:25                                                                                                 </td><td>R_4SLnR2VMVWcknkd                                                                                                   </td><td>                                                                                                                    </td><td>...                                                                                                                 </td><td>3                                                                                                                   </td><td>3                                                                                                                   </td><td>3                                                                                                                   </td><td>K                                                                                                                   </td><td>5                                                                                                                   </td><td>3                                                                                                                   </td><td>3                                                                                                                   </td><td>3                                                                                                                   </td><td>2                                                                                                                   </td><td>nO                                                                                                                  </td></tr>\n",
       "\t<tr><td>2018-04-03 12:02:48                                                                                                 </td><td>2018-04-03 12:03:43                                                                                                 </td><td>0                                                                                                                   </td><td>128.180.27.117                                                                                                      </td><td>100                                                                                                                 </td><td>54                                                                                                                  </td><td>1                                                                                                                   </td><td>2018-04-03 12:03:43                                                                                                 </td><td>R_1EbvBYxQwgmmunK                                                                                                   </td><td>                                                                                                                    </td><td>...                                                                                                                 </td><td>1                                                                                                                   </td><td>1                                                                                                                   </td><td>1                                                                                                                   </td><td>n                                                                                                                   </td><td>1                                                                                                                   </td><td>1                                                                                                                   </td><td>1                                                                                                                   </td><td>1                                                                                                                   </td><td>1                                                                                                                   </td><td>n                                                                                                                   </td></tr>\n",
       "\t<tr><td>2018-04-03 12:09:51                                                                                                 </td><td>2018-04-03 12:17:04                                                                                                 </td><td>0                                                                                                                   </td><td>128.180.27.90                                                                                                       </td><td>100                                                                                                                 </td><td>433                                                                                                                 </td><td>1                                                                                                                   </td><td>2018-04-03 12:17:05                                                                                                 </td><td>R_sBzy5GiZ14MBNXX                                                                                                   </td><td>                                                                                                                    </td><td>...                                                                                                                 </td><td>5                                                                                                                   </td><td>5                                                                                                                   </td><td>5                                                                                                                   </td><td>                                                                                                                    </td><td>4                                                                                                                   </td><td>5                                                                                                                   </td><td>5                                                                                                                   </td><td>5                                                                                                                   </td><td>5                                                                                                                   </td><td>                                                                                                                    </td></tr>\n",
       "\t<tr><td>2018-04-05 10:58:24                                                                                                 </td><td>2018-04-05 11:05:37                                                                                                 </td><td>0                                                                                                                   </td><td>128.180.27.117                                                                                                      </td><td>100                                                                                                                 </td><td>432                                                                                                                 </td><td>1                                                                                                                   </td><td>2018-04-05 11:05:37                                                                                                 </td><td>R_3hziZa9ILMyUskS                                                                                                   </td><td>                                                                                                                    </td><td>...                                                                                                                 </td><td>4                                                                                                                   </td><td>5                                                                                                                   </td><td>4                                                                                                                   </td><td>                                                                                                                    </td><td>4                                                                                                                   </td><td>5                                                                                                                   </td><td>3                                                                                                                   </td><td>5                                                                                                                   </td><td>2                                                                                                                   </td><td>                                                                                                                    </td></tr>\n",
       "</tbody>\n",
       "</table>\n"
      ],
      "text/latex": [
       "\\begin{tabular}{r|lllllllllllllllllllllllllllllllllllllllll}\n",
       " StartDate & EndDate & Status & IPAddress & Progress & Duration (in seconds) & Finished & RecordedDate & ResponseId & RecipientLastName & ... & Action easy-com\\_2 & Action easy-com\\_3 & Action easy-com\\_4 & box easy-com & frustrate easy-non\\_1 & action easy-non\\_1 & action easy-non\\_2 & action easy-non\\_3 & action easy-non\\_4 & box easy-non\\\\\n",
       "\\hline\n",
       "\t Start Date                                                                                                           & End Date                                                                                                             & Response Type                                                                                                        & IP Address                                                                                                           & Progress                                                                                                             & Duration (in seconds)                                                                                                & Finished                                                                                                             & Recorded Date                                                                                                        & Response ID                                                                                                          & Recipient Last Name                                                                                                  & ...                                                                                                                  & Action easy-com - How likely would you report to the professor that this student cheated after class?                & Action easy-com - How likely would you anonymously report that this student cheated after class?                     & Action easy-com - How likely would you confront the cheating student at the end of the exam to suggest they confess? & Are there other actions that you might take and are not listed above? If so, please elaborate in the box below.      & frustrate easy-non - How frustrated do you feel about the cheating in the scenario above?                            & action easy-non - How likely would you do something in the scenario above?                                           & action easy-non - How likely would you report to the professor that this student cheated after class?                & action easy-non - How likely would you anonymously report that this student cheated after class?                     & action easy-non - How likely would you confront the cheating student at the end of the exam to suggest they confess? & Are there other actions that you might take and are not listed above? If so, please elaborate in the box below.     \\\\\n",
       "\t \\{\"\"ImportId\"\":\"\"startDate\"\",\"\"timeZone\"\":\"\"America/Denver\"\"\\}                                                           & \\{\"\"ImportId\"\":\"\"endDate\"\",\"\"timeZone\"\":\"\"America/Denver\"\"\\}                                                             & \\{\"\"ImportId\"\":\"\"status\"\"\\}                                                                                              & \\{\"\"ImportId\"\":\"\"ipAddress\"\"\\}                                                                                           & \\{\"\"ImportId\"\":\"\"progress\"\"\\}                                                                                            & \\{\"\"ImportId\"\":\"\"duration\"\"\\}                                                                                            & \\{\"\"ImportId\"\":\"\"finished\"\"\\}                                                                                            & \\{\"\"ImportId\"\":\"\"recordedDate\"\",\"\"timeZone\"\":\"\"America/Denver\"\"\\}                                                        & \\{\"\"ImportId\"\":\"\"\\_recordId\"\"\\}                                                                                         & \\{\"\"ImportId\"\":\"\"recipientLastName\"\"\\}                                                                                   & ...                                                                                                                        & \\{\"\"ImportId\"\":\"\"QID18\\_2\"\"\\}                                                                                           & \\{\"\"ImportId\"\":\"\"QID18\\_3\"\"\\}                                                                                           & \\{\"\"ImportId\"\":\"\"QID18\\_4\"\"\\}                                                                                           & \\{\"\"ImportId\"\":\"\"QID22\\_TEXT\"\"\\}                                                                                        & \\{\"\"ImportId\"\":\"\"QID19\\_1\"\"\\}                                                                                           & \\{\"\"ImportId\"\":\"\"QID20\\_1\"\"\\}                                                                                           & \\{\"\"ImportId\"\":\"\"QID20\\_2\"\"\\}                                                                                           & \\{\"\"ImportId\"\":\"\"QID20\\_3\"\"\\}                                                                                           & \\{\"\"ImportId\"\":\"\"QID20\\_4\"\"\\}                                                                                           & \\{\"\"ImportId\"\":\"\"QID23\\_TEXT\"\"\\}                                                                                       \\\\\n",
       "\t 2018-04-03 11:59:45                                                                                                  & 2018-04-03 12:00:25                                                                                                  & 0                                                                                                                    & 128.180.158.193                                                                                                      & 100                                                                                                                  & 40                                                                                                                   & 1                                                                                                                    & 2018-04-03 12:00:25                                                                                                  & R\\_4SLnR2VMVWcknkd                                                                                                  &                                                                                                                      & ...                                                                                                                  & 3                                                                                                                    & 3                                                                                                                    & 3                                                                                                                    & K                                                                                                                    & 5                                                                                                                    & 3                                                                                                                    & 3                                                                                                                    & 3                                                                                                                    & 2                                                                                                                    & nO                                                                                                                  \\\\\n",
       "\t 2018-04-03 12:02:48                                                                                                  & 2018-04-03 12:03:43                                                                                                  & 0                                                                                                                    & 128.180.27.117                                                                                                       & 100                                                                                                                  & 54                                                                                                                   & 1                                                                                                                    & 2018-04-03 12:03:43                                                                                                  & R\\_1EbvBYxQwgmmunK                                                                                                  &                                                                                                                      & ...                                                                                                                  & 1                                                                                                                    & 1                                                                                                                    & 1                                                                                                                    & n                                                                                                                    & 1                                                                                                                    & 1                                                                                                                    & 1                                                                                                                    & 1                                                                                                                    & 1                                                                                                                    & n                                                                                                                   \\\\\n",
       "\t 2018-04-03 12:09:51                                                                                                  & 2018-04-03 12:17:04                                                                                                  & 0                                                                                                                    & 128.180.27.90                                                                                                        & 100                                                                                                                  & 433                                                                                                                  & 1                                                                                                                    & 2018-04-03 12:17:05                                                                                                  & R\\_sBzy5GiZ14MBNXX                                                                                                  &                                                                                                                      & ...                                                                                                                  & 5                                                                                                                    & 5                                                                                                                    & 5                                                                                                                    &                                                                                                                      & 4                                                                                                                    & 5                                                                                                                    & 5                                                                                                                    & 5                                                                                                                    & 5                                                                                                                    &                                                                                                                     \\\\\n",
       "\t 2018-04-05 10:58:24                                                                                                  & 2018-04-05 11:05:37                                                                                                  & 0                                                                                                                    & 128.180.27.117                                                                                                       & 100                                                                                                                  & 432                                                                                                                  & 1                                                                                                                    & 2018-04-05 11:05:37                                                                                                  & R\\_3hziZa9ILMyUskS                                                                                                  &                                                                                                                      & ...                                                                                                                  & 4                                                                                                                    & 5                                                                                                                    & 4                                                                                                                    &                                                                                                                      & 4                                                                                                                    & 5                                                                                                                    & 3                                                                                                                    & 5                                                                                                                    & 2                                                                                                                    &                                                                                                                     \\\\\n",
       "\\end{tabular}\n"
      ],
      "text/markdown": [
       "\n",
       "StartDate | EndDate | Status | IPAddress | Progress | Duration (in seconds) | Finished | RecordedDate | ResponseId | RecipientLastName | ... | Action easy-com_2 | Action easy-com_3 | Action easy-com_4 | box easy-com | frustrate easy-non_1 | action easy-non_1 | action easy-non_2 | action easy-non_3 | action easy-non_4 | box easy-non | \n",
       "|---|---|---|---|---|---|\n",
       "| Start Date                                                                                                           | End Date                                                                                                             | Response Type                                                                                                        | IP Address                                                                                                           | Progress                                                                                                             | Duration (in seconds)                                                                                                | Finished                                                                                                             | Recorded Date                                                                                                        | Response ID                                                                                                          | Recipient Last Name                                                                                                  | ...                                                                                                                  | Action easy-com - How likely would you report to the professor that this student cheated after class?                | Action easy-com - How likely would you anonymously report that this student cheated after class?                     | Action easy-com - How likely would you confront the cheating student at the end of the exam to suggest they confess? | Are there other actions that you might take and are not listed above? If so, please elaborate in the box below.      | frustrate easy-non - How frustrated do you feel about the cheating in the scenario above?                            | action easy-non - How likely would you do something in the scenario above?                                           | action easy-non - How likely would you report to the professor that this student cheated after class?                | action easy-non - How likely would you anonymously report that this student cheated after class?                     | action easy-non - How likely would you confront the cheating student at the end of the exam to suggest they confess? | Are there other actions that you might take and are not listed above? If so, please elaborate in the box below.      | \n",
       "| {\"\"ImportId\"\":\"\"startDate\"\",\"\"timeZone\"\":\"\"America/Denver\"\"}                                                         | {\"\"ImportId\"\":\"\"endDate\"\",\"\"timeZone\"\":\"\"America/Denver\"\"}                                                           | {\"\"ImportId\"\":\"\"status\"\"}                                                                                            | {\"\"ImportId\"\":\"\"ipAddress\"\"}                                                                                         | {\"\"ImportId\"\":\"\"progress\"\"}                                                                                          | {\"\"ImportId\"\":\"\"duration\"\"}                                                                                          | {\"\"ImportId\"\":\"\"finished\"\"}                                                                                          | {\"\"ImportId\"\":\"\"recordedDate\"\",\"\"timeZone\"\":\"\"America/Denver\"\"}                                                      | {\"\"ImportId\"\":\"\"_recordId\"\"}                                                                                         | {\"\"ImportId\"\":\"\"recipientLastName\"\"}                                                                                 | ...                                                                                                                  | {\"\"ImportId\"\":\"\"QID18_2\"\"}                                                                                           | {\"\"ImportId\"\":\"\"QID18_3\"\"}                                                                                           | {\"\"ImportId\"\":\"\"QID18_4\"\"}                                                                                           | {\"\"ImportId\"\":\"\"QID22_TEXT\"\"}                                                                                        | {\"\"ImportId\"\":\"\"QID19_1\"\"}                                                                                           | {\"\"ImportId\"\":\"\"QID20_1\"\"}                                                                                           | {\"\"ImportId\"\":\"\"QID20_2\"\"}                                                                                           | {\"\"ImportId\"\":\"\"QID20_3\"\"}                                                                                           | {\"\"ImportId\"\":\"\"QID20_4\"\"}                                                                                           | {\"\"ImportId\"\":\"\"QID23_TEXT\"\"}                                                                                        | \n",
       "| 2018-04-03 11:59:45                                                                                                  | 2018-04-03 12:00:25                                                                                                  | 0                                                                                                                    | 128.180.158.193                                                                                                      | 100                                                                                                                  | 40                                                                                                                   | 1                                                                                                                    | 2018-04-03 12:00:25                                                                                                  | R_4SLnR2VMVWcknkd                                                                                                    |                                                                                                                      | ...                                                                                                                  | 3                                                                                                                    | 3                                                                                                                    | 3                                                                                                                    | K                                                                                                                    | 5                                                                                                                    | 3                                                                                                                    | 3                                                                                                                    | 3                                                                                                                    | 2                                                                                                                    | nO                                                                                                                   | \n",
       "| 2018-04-03 12:02:48                                                                                                  | 2018-04-03 12:03:43                                                                                                  | 0                                                                                                                    | 128.180.27.117                                                                                                       | 100                                                                                                                  | 54                                                                                                                   | 1                                                                                                                    | 2018-04-03 12:03:43                                                                                                  | R_1EbvBYxQwgmmunK                                                                                                    |                                                                                                                      | ...                                                                                                                  | 1                                                                                                                    | 1                                                                                                                    | 1                                                                                                                    | n                                                                                                                    | 1                                                                                                                    | 1                                                                                                                    | 1                                                                                                                    | 1                                                                                                                    | 1                                                                                                                    | n                                                                                                                    | \n",
       "| 2018-04-03 12:09:51                                                                                                  | 2018-04-03 12:17:04                                                                                                  | 0                                                                                                                    | 128.180.27.90                                                                                                        | 100                                                                                                                  | 433                                                                                                                  | 1                                                                                                                    | 2018-04-03 12:17:05                                                                                                  | R_sBzy5GiZ14MBNXX                                                                                                    |                                                                                                                      | ...                                                                                                                  | 5                                                                                                                    | 5                                                                                                                    | 5                                                                                                                    |                                                                                                                      | 4                                                                                                                    | 5                                                                                                                    | 5                                                                                                                    | 5                                                                                                                    | 5                                                                                                                    |                                                                                                                      | \n",
       "| 2018-04-05 10:58:24                                                                                                  | 2018-04-05 11:05:37                                                                                                  | 0                                                                                                                    | 128.180.27.117                                                                                                       | 100                                                                                                                  | 432                                                                                                                  | 1                                                                                                                    | 2018-04-05 11:05:37                                                                                                  | R_3hziZa9ILMyUskS                                                                                                    |                                                                                                                      | ...                                                                                                                  | 4                                                                                                                    | 5                                                                                                                    | 4                                                                                                                    |                                                                                                                      | 4                                                                                                                    | 5                                                                                                                    | 3                                                                                                                    | 5                                                                                                                    | 2                                                                                                                    |                                                                                                                      | \n",
       "\n",
       "\n"
      ],
      "text/plain": [
       "  StartDate                                                   \n",
       "1 Start Date                                                  \n",
       "2 {\"\"ImportId\"\":\"\"startDate\"\",\"\"timeZone\"\":\"\"America/Denver\"\"}\n",
       "3 2018-04-03 11:59:45                                         \n",
       "4 2018-04-03 12:02:48                                         \n",
       "5 2018-04-03 12:09:51                                         \n",
       "6 2018-04-05 10:58:24                                         \n",
       "  EndDate                                                   \n",
       "1 End Date                                                  \n",
       "2 {\"\"ImportId\"\":\"\"endDate\"\",\"\"timeZone\"\":\"\"America/Denver\"\"}\n",
       "3 2018-04-03 12:00:25                                       \n",
       "4 2018-04-03 12:03:43                                       \n",
       "5 2018-04-03 12:17:04                                       \n",
       "6 2018-04-05 11:05:37                                       \n",
       "  Status                    IPAddress                   \n",
       "1 Response Type             IP Address                  \n",
       "2 {\"\"ImportId\"\":\"\"status\"\"} {\"\"ImportId\"\":\"\"ipAddress\"\"}\n",
       "3 0                         128.180.158.193             \n",
       "4 0                         128.180.27.117              \n",
       "5 0                         128.180.27.90               \n",
       "6 0                         128.180.27.117              \n",
       "  Progress                    Duration (in seconds)      \n",
       "1 Progress                    Duration (in seconds)      \n",
       "2 {\"\"ImportId\"\":\"\"progress\"\"} {\"\"ImportId\"\":\"\"duration\"\"}\n",
       "3 100                         40                         \n",
       "4 100                         54                         \n",
       "5 100                         433                        \n",
       "6 100                         432                        \n",
       "  Finished                   \n",
       "1 Finished                   \n",
       "2 {\"\"ImportId\"\":\"\"finished\"\"}\n",
       "3 1                          \n",
       "4 1                          \n",
       "5 1                          \n",
       "6 1                          \n",
       "  RecordedDate                                                   \n",
       "1 Recorded Date                                                  \n",
       "2 {\"\"ImportId\"\":\"\"recordedDate\"\",\"\"timeZone\"\":\"\"America/Denver\"\"}\n",
       "3 2018-04-03 12:00:25                                            \n",
       "4 2018-04-03 12:03:43                                            \n",
       "5 2018-04-03 12:17:05                                            \n",
       "6 2018-04-05 11:05:37                                            \n",
       "  ResponseId                   RecipientLastName                    ...\n",
       "1 Response ID                  Recipient Last Name                  ...\n",
       "2 {\"\"ImportId\"\":\"\"_recordId\"\"} {\"\"ImportId\"\":\"\"recipientLastName\"\"} ...\n",
       "3 R_4SLnR2VMVWcknkd                                                 ...\n",
       "4 R_1EbvBYxQwgmmunK                                                 ...\n",
       "5 R_sBzy5GiZ14MBNXX                                                 ...\n",
       "6 R_3hziZa9ILMyUskS                                                 ...\n",
       "  Action easy-com_2                                                                                    \n",
       "1 Action easy-com - How likely would you report to the professor that this student cheated after class?\n",
       "2 {\"\"ImportId\"\":\"\"QID18_2\"\"}                                                                           \n",
       "3 3                                                                                                    \n",
       "4 1                                                                                                    \n",
       "5 5                                                                                                    \n",
       "6 4                                                                                                    \n",
       "  Action easy-com_3                                                                               \n",
       "1 Action easy-com - How likely would you anonymously report that this student cheated after class?\n",
       "2 {\"\"ImportId\"\":\"\"QID18_3\"\"}                                                                      \n",
       "3 3                                                                                               \n",
       "4 1                                                                                               \n",
       "5 5                                                                                               \n",
       "6 5                                                                                               \n",
       "  Action easy-com_4                                                                                                   \n",
       "1 Action easy-com - How likely would you confront the cheating student at the end of the exam to suggest they confess?\n",
       "2 {\"\"ImportId\"\":\"\"QID18_4\"\"}                                                                                          \n",
       "3 3                                                                                                                   \n",
       "4 1                                                                                                                   \n",
       "5 5                                                                                                                   \n",
       "6 4                                                                                                                   \n",
       "  box easy-com                                                                                                   \n",
       "1 Are there other actions that you might take and are not listed above? If so, please elaborate in the box below.\n",
       "2 {\"\"ImportId\"\":\"\"QID22_TEXT\"\"}                                                                                  \n",
       "3 K                                                                                                              \n",
       "4 n                                                                                                              \n",
       "5                                                                                                                \n",
       "6                                                                                                                \n",
       "  frustrate easy-non_1                                                                     \n",
       "1 frustrate easy-non - How frustrated do you feel about the cheating in the scenario above?\n",
       "2 {\"\"ImportId\"\":\"\"QID19_1\"\"}                                                               \n",
       "3 5                                                                                        \n",
       "4 1                                                                                        \n",
       "5 4                                                                                        \n",
       "6 4                                                                                        \n",
       "  action easy-non_1                                                         \n",
       "1 action easy-non - How likely would you do something in the scenario above?\n",
       "2 {\"\"ImportId\"\":\"\"QID20_1\"\"}                                                \n",
       "3 3                                                                         \n",
       "4 1                                                                         \n",
       "5 5                                                                         \n",
       "6 5                                                                         \n",
       "  action easy-non_2                                                                                    \n",
       "1 action easy-non - How likely would you report to the professor that this student cheated after class?\n",
       "2 {\"\"ImportId\"\":\"\"QID20_2\"\"}                                                                           \n",
       "3 3                                                                                                    \n",
       "4 1                                                                                                    \n",
       "5 5                                                                                                    \n",
       "6 3                                                                                                    \n",
       "  action easy-non_3                                                                               \n",
       "1 action easy-non - How likely would you anonymously report that this student cheated after class?\n",
       "2 {\"\"ImportId\"\":\"\"QID20_3\"\"}                                                                      \n",
       "3 3                                                                                               \n",
       "4 1                                                                                               \n",
       "5 5                                                                                               \n",
       "6 5                                                                                               \n",
       "  action easy-non_4                                                                                                   \n",
       "1 action easy-non - How likely would you confront the cheating student at the end of the exam to suggest they confess?\n",
       "2 {\"\"ImportId\"\":\"\"QID20_4\"\"}                                                                                          \n",
       "3 2                                                                                                                   \n",
       "4 1                                                                                                                   \n",
       "5 5                                                                                                                   \n",
       "6 2                                                                                                                   \n",
       "  box easy-non                                                                                                   \n",
       "1 Are there other actions that you might take and are not listed above? If so, please elaborate in the box below.\n",
       "2 {\"\"ImportId\"\":\"\"QID23_TEXT\"\"}                                                                                  \n",
       "3 nO                                                                                                             \n",
       "4 n                                                                                                              \n",
       "5                                                                                                                \n",
       "6                                                                                                                "
      ]
     },
     "metadata": {},
     "output_type": "display_data"
    }
   ],
   "source": [
    "colnames(current_data)\n",
    "head(current_data)"
   ]
  },
  {
   "cell_type": "code",
   "execution_count": 195,
   "metadata": {
    "scrolled": true
   },
   "outputs": [],
   "source": [
    "date_info <- current_data[3:(nrow(current_data))] %>% \n",
    "select(StartDate) %>% \n",
    "mutate(subject = 1:n())"
   ]
  },
  {
   "cell_type": "code",
   "execution_count": 196,
   "metadata": {},
   "outputs": [
    {
     "name": "stderr",
     "output_type": "stream",
     "text": [
      "Warning message in lapply(X = X, FUN = FUN, ...):\n",
      "\"NAs introduced by coercion\"Warning message in lapply(X = X, FUN = FUN, ...):\n",
      "\"NAs introduced by coercion\"Warning message in lapply(X = X, FUN = FUN, ...):\n",
      "\"NAs introduced by coercion\""
     ]
    }
   ],
   "source": [
    "colnames(current_data) <- tolower(make.names(colnames(current_data), unique = TRUE))\n",
    "current_data <- current_data[3:(nrow(current_data))] %>% \n",
    "select(frustrate.diff.com_1:action.easy.non_4) %>% \n",
    "mutate(subject = 1:(nrow(.)))\n",
    "current_data <- data.frame(sapply(current_data, as.numeric))"
   ]
  },
  {
   "cell_type": "code",
   "execution_count": 197,
   "metadata": {},
   "outputs": [
    {
     "data": {
      "text/html": [
       "<table>\n",
       "<thead><tr><th scope=col>frustrate.diff.com_1</th><th scope=col>action.diff.com_1</th><th scope=col>action.diff.com_2</th><th scope=col>action.diff.com_3</th><th scope=col>action.diff.com_4</th><th scope=col>box.diff.com</th><th scope=col>frustrate.diff.non_1</th><th scope=col>action.diff.non_1</th><th scope=col>action.diff.non_2</th><th scope=col>action.diff.non_3</th><th scope=col>...</th><th scope=col>action.easy.com_2</th><th scope=col>action.easy.com_3</th><th scope=col>action.easy.com_4</th><th scope=col>box.easy.com</th><th scope=col>frustrate.easy.non_1</th><th scope=col>action.easy.non_1</th><th scope=col>action.easy.non_2</th><th scope=col>action.easy.non_3</th><th scope=col>action.easy.non_4</th><th scope=col>subject</th></tr></thead>\n",
       "<tbody>\n",
       "\t<tr><td>3  </td><td>2  </td><td>3  </td><td>3  </td><td>3  </td><td>NA </td><td>2  </td><td>3  </td><td>3  </td><td>3  </td><td>...</td><td>3  </td><td>3  </td><td>3  </td><td>NA </td><td>5  </td><td>3  </td><td>3  </td><td>3  </td><td>2  </td><td>1  </td></tr>\n",
       "\t<tr><td>1  </td><td>1  </td><td>1  </td><td>1  </td><td>1  </td><td>NA </td><td>1  </td><td>1  </td><td>1  </td><td>1  </td><td>...</td><td>1  </td><td>1  </td><td>1  </td><td>NA </td><td>1  </td><td>1  </td><td>1  </td><td>1  </td><td>1  </td><td>2  </td></tr>\n",
       "\t<tr><td>6  </td><td>6  </td><td>4  </td><td>5  </td><td>2  </td><td>NA </td><td>5  </td><td>5  </td><td>5  </td><td>5  </td><td>...</td><td>5  </td><td>5  </td><td>5  </td><td>NA </td><td>4  </td><td>5  </td><td>5  </td><td>5  </td><td>5  </td><td>3  </td></tr>\n",
       "\t<tr><td>6  </td><td>6  </td><td>6  </td><td>6  </td><td>4  </td><td>NA </td><td>4  </td><td>5  </td><td>3  </td><td>5  </td><td>...</td><td>4  </td><td>5  </td><td>4  </td><td>NA </td><td>4  </td><td>5  </td><td>3  </td><td>5  </td><td>2  </td><td>4  </td></tr>\n",
       "\t<tr><td>2  </td><td>1  </td><td>1  </td><td>1  </td><td>1  </td><td>NA </td><td>1  </td><td>1  </td><td>1  </td><td>1  </td><td>...</td><td>1  </td><td>1  </td><td>1  </td><td>NA </td><td>2  </td><td>1  </td><td>1  </td><td>1  </td><td>1  </td><td>5  </td></tr>\n",
       "\t<tr><td>7  </td><td>3  </td><td>3  </td><td>3  </td><td>2  </td><td>NA </td><td>6  </td><td>1  </td><td>1  </td><td>1  </td><td>...</td><td>1  </td><td>1  </td><td>1  </td><td>NA </td><td>6  </td><td>1  </td><td>1  </td><td>1  </td><td>1  </td><td>6  </td></tr>\n",
       "</tbody>\n",
       "</table>\n"
      ],
      "text/latex": [
       "\\begin{tabular}{r|llllllllllllllllllllllll}\n",
       " frustrate.diff.com\\_1 & action.diff.com\\_1 & action.diff.com\\_2 & action.diff.com\\_3 & action.diff.com\\_4 & box.diff.com & frustrate.diff.non\\_1 & action.diff.non\\_1 & action.diff.non\\_2 & action.diff.non\\_3 & ... & action.easy.com\\_2 & action.easy.com\\_3 & action.easy.com\\_4 & box.easy.com & frustrate.easy.non\\_1 & action.easy.non\\_1 & action.easy.non\\_2 & action.easy.non\\_3 & action.easy.non\\_4 & subject\\\\\n",
       "\\hline\n",
       "\t 3   & 2   & 3   & 3   & 3   & NA  & 2   & 3   & 3   & 3   & ... & 3   & 3   & 3   & NA  & 5   & 3   & 3   & 3   & 2   & 1  \\\\\n",
       "\t 1   & 1   & 1   & 1   & 1   & NA  & 1   & 1   & 1   & 1   & ... & 1   & 1   & 1   & NA  & 1   & 1   & 1   & 1   & 1   & 2  \\\\\n",
       "\t 6   & 6   & 4   & 5   & 2   & NA  & 5   & 5   & 5   & 5   & ... & 5   & 5   & 5   & NA  & 4   & 5   & 5   & 5   & 5   & 3  \\\\\n",
       "\t 6   & 6   & 6   & 6   & 4   & NA  & 4   & 5   & 3   & 5   & ... & 4   & 5   & 4   & NA  & 4   & 5   & 3   & 5   & 2   & 4  \\\\\n",
       "\t 2   & 1   & 1   & 1   & 1   & NA  & 1   & 1   & 1   & 1   & ... & 1   & 1   & 1   & NA  & 2   & 1   & 1   & 1   & 1   & 5  \\\\\n",
       "\t 7   & 3   & 3   & 3   & 2   & NA  & 6   & 1   & 1   & 1   & ... & 1   & 1   & 1   & NA  & 6   & 1   & 1   & 1   & 1   & 6  \\\\\n",
       "\\end{tabular}\n"
      ],
      "text/markdown": [
       "\n",
       "frustrate.diff.com_1 | action.diff.com_1 | action.diff.com_2 | action.diff.com_3 | action.diff.com_4 | box.diff.com | frustrate.diff.non_1 | action.diff.non_1 | action.diff.non_2 | action.diff.non_3 | ... | action.easy.com_2 | action.easy.com_3 | action.easy.com_4 | box.easy.com | frustrate.easy.non_1 | action.easy.non_1 | action.easy.non_2 | action.easy.non_3 | action.easy.non_4 | subject | \n",
       "|---|---|---|---|---|---|\n",
       "| 3   | 2   | 3   | 3   | 3   | NA  | 2   | 3   | 3   | 3   | ... | 3   | 3   | 3   | NA  | 5   | 3   | 3   | 3   | 2   | 1   | \n",
       "| 1   | 1   | 1   | 1   | 1   | NA  | 1   | 1   | 1   | 1   | ... | 1   | 1   | 1   | NA  | 1   | 1   | 1   | 1   | 1   | 2   | \n",
       "| 6   | 6   | 4   | 5   | 2   | NA  | 5   | 5   | 5   | 5   | ... | 5   | 5   | 5   | NA  | 4   | 5   | 5   | 5   | 5   | 3   | \n",
       "| 6   | 6   | 6   | 6   | 4   | NA  | 4   | 5   | 3   | 5   | ... | 4   | 5   | 4   | NA  | 4   | 5   | 3   | 5   | 2   | 4   | \n",
       "| 2   | 1   | 1   | 1   | 1   | NA  | 1   | 1   | 1   | 1   | ... | 1   | 1   | 1   | NA  | 2   | 1   | 1   | 1   | 1   | 5   | \n",
       "| 7   | 3   | 3   | 3   | 2   | NA  | 6   | 1   | 1   | 1   | ... | 1   | 1   | 1   | NA  | 6   | 1   | 1   | 1   | 1   | 6   | \n",
       "\n",
       "\n"
      ],
      "text/plain": [
       "  frustrate.diff.com_1 action.diff.com_1 action.diff.com_2 action.diff.com_3\n",
       "1 3                    2                 3                 3                \n",
       "2 1                    1                 1                 1                \n",
       "3 6                    6                 4                 5                \n",
       "4 6                    6                 6                 6                \n",
       "5 2                    1                 1                 1                \n",
       "6 7                    3                 3                 3                \n",
       "  action.diff.com_4 box.diff.com frustrate.diff.non_1 action.diff.non_1\n",
       "1 3                 NA           2                    3                \n",
       "2 1                 NA           1                    1                \n",
       "3 2                 NA           5                    5                \n",
       "4 4                 NA           4                    5                \n",
       "5 1                 NA           1                    1                \n",
       "6 2                 NA           6                    1                \n",
       "  action.diff.non_2 action.diff.non_3 ... action.easy.com_2 action.easy.com_3\n",
       "1 3                 3                 ... 3                 3                \n",
       "2 1                 1                 ... 1                 1                \n",
       "3 5                 5                 ... 5                 5                \n",
       "4 3                 5                 ... 4                 5                \n",
       "5 1                 1                 ... 1                 1                \n",
       "6 1                 1                 ... 1                 1                \n",
       "  action.easy.com_4 box.easy.com frustrate.easy.non_1 action.easy.non_1\n",
       "1 3                 NA           5                    3                \n",
       "2 1                 NA           1                    1                \n",
       "3 5                 NA           4                    5                \n",
       "4 4                 NA           4                    5                \n",
       "5 1                 NA           2                    1                \n",
       "6 1                 NA           6                    1                \n",
       "  action.easy.non_2 action.easy.non_3 action.easy.non_4 subject\n",
       "1 3                 3                 2                 1      \n",
       "2 1                 1                 1                 2      \n",
       "3 5                 5                 5                 3      \n",
       "4 3                 5                 2                 4      \n",
       "5 1                 1                 1                 5      \n",
       "6 1                 1                 1                 6      "
      ]
     },
     "metadata": {},
     "output_type": "display_data"
    }
   ],
   "source": [
    "head(current_data)"
   ]
  },
  {
   "cell_type": "code",
   "execution_count": 198,
   "metadata": {
    "scrolled": true
   },
   "outputs": [
    {
     "name": "stderr",
     "output_type": "stream",
     "text": [
      "Joining, by = \"subject\"\n"
     ]
    }
   ],
   "source": [
    "current_data <- current_data %>% \n",
    "select(-contains('box')) %>% \n",
    "gather(condition, outcome, frustrate.diff.com_1:action.easy.non_4) %>% \n",
    "arrange(subject) %>% \n",
    "inner_join(date_info)"
   ]
  },
  {
   "cell_type": "code",
   "execution_count": 199,
   "metadata": {},
   "outputs": [],
   "source": [
    "current_data <- current_data  %>% \n",
    "extract(condition, into = c('outcome_type', 'difficulty', 'curve', 'question_number'),\n",
    "       '^([^.]+)\\\\.([^.]*)\\\\.([^.]*)_(.*)')  %>% \n",
    "mutate(day = as.numeric(str_match(StartDate, '(\\\\d\\\\d)\\\\s')[,1])) %>% \n",
    "spread(outcome_type, outcome)  %>% \n",
    "filter(day != 3) %>% \n",
    "select(-day, -StartDate) %>% \n",
    "data.table()"
   ]
  },
  {
   "cell_type": "code",
   "execution_count": 200,
   "metadata": {
    "scrolled": true
   },
   "outputs": [
    {
     "data": {
      "text/html": [
       "<table>\n",
       "<thead><tr><th scope=col>subject</th><th scope=col>difficulty</th><th scope=col>curve</th><th scope=col>question_number</th><th scope=col>action</th><th scope=col>frustrate</th></tr></thead>\n",
       "<tbody>\n",
       "\t<tr><td>4   </td><td>diff</td><td>com </td><td>1   </td><td>6   </td><td> 6  </td></tr>\n",
       "\t<tr><td>4   </td><td>diff</td><td>com </td><td>2   </td><td>6   </td><td>NA  </td></tr>\n",
       "\t<tr><td>4   </td><td>diff</td><td>com </td><td>3   </td><td>6   </td><td>NA  </td></tr>\n",
       "\t<tr><td>4   </td><td>diff</td><td>com </td><td>4   </td><td>4   </td><td>NA  </td></tr>\n",
       "\t<tr><td>4   </td><td>diff</td><td>non </td><td>1   </td><td>5   </td><td> 4  </td></tr>\n",
       "\t<tr><td>4   </td><td>diff</td><td>non </td><td>2   </td><td>3   </td><td>NA  </td></tr>\n",
       "</tbody>\n",
       "</table>\n"
      ],
      "text/latex": [
       "\\begin{tabular}{r|llllll}\n",
       " subject & difficulty & curve & question\\_number & action & frustrate\\\\\n",
       "\\hline\n",
       "\t 4    & diff & com  & 1    & 6    &  6  \\\\\n",
       "\t 4    & diff & com  & 2    & 6    & NA  \\\\\n",
       "\t 4    & diff & com  & 3    & 6    & NA  \\\\\n",
       "\t 4    & diff & com  & 4    & 4    & NA  \\\\\n",
       "\t 4    & diff & non  & 1    & 5    &  4  \\\\\n",
       "\t 4    & diff & non  & 2    & 3    & NA  \\\\\n",
       "\\end{tabular}\n"
      ],
      "text/markdown": [
       "\n",
       "subject | difficulty | curve | question_number | action | frustrate | \n",
       "|---|---|---|---|---|---|\n",
       "| 4    | diff | com  | 1    | 6    |  6   | \n",
       "| 4    | diff | com  | 2    | 6    | NA   | \n",
       "| 4    | diff | com  | 3    | 6    | NA   | \n",
       "| 4    | diff | com  | 4    | 4    | NA   | \n",
       "| 4    | diff | non  | 1    | 5    |  4   | \n",
       "| 4    | diff | non  | 2    | 3    | NA   | \n",
       "\n",
       "\n"
      ],
      "text/plain": [
       "  subject difficulty curve question_number action frustrate\n",
       "1 4       diff       com   1               6       6       \n",
       "2 4       diff       com   2               6      NA       \n",
       "3 4       diff       com   3               6      NA       \n",
       "4 4       diff       com   4               4      NA       \n",
       "5 4       diff       non   1               5       4       \n",
       "6 4       diff       non   2               3      NA       "
      ]
     },
     "metadata": {},
     "output_type": "display_data"
    }
   ],
   "source": [
    "## remove NA subjects\n",
    "current_data <- current_data[!is.na(current_data$action),]\n",
    "head(current_data)\n",
    "write.csv(current_data, '../data/integrity_tidy.csv', row.names = FALSE)"
   ]
  }
 ],
 "metadata": {
  "kernelspec": {
   "display_name": "R",
   "language": "R",
   "name": "ir"
  },
  "language_info": {
   "codemirror_mode": "r",
   "file_extension": ".r",
   "mimetype": "text/x-r-source",
   "name": "R",
   "pygments_lexer": "r",
   "version": "3.4.3"
  }
 },
 "nbformat": 4,
 "nbformat_minor": 2
}
