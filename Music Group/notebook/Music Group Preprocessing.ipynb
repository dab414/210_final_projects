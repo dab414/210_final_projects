{
 "cells": [
  {
   "cell_type": "code",
   "execution_count": 2,
   "metadata": {},
   "outputs": [
    {
     "name": "stderr",
     "output_type": "stream",
     "text": [
      "-- Attaching packages --------------------------------------- tidyverse 1.2.1 --\n",
      "v ggplot2 2.2.1     v purrr   0.2.4\n",
      "v tibble  1.4.1     v dplyr   0.7.4\n",
      "v tidyr   0.7.2     v stringr 1.2.0\n",
      "v readr   1.1.1     v forcats 0.2.0\n",
      "-- Conflicts ------------------------------------------ tidyverse_conflicts() --\n",
      "x dplyr::filter() masks stats::filter()\n",
      "x dplyr::lag()    masks stats::lag()\n",
      "\n",
      "Attaching package: 'data.table'\n",
      "\n",
      "The following objects are masked from 'package:dplyr':\n",
      "\n",
      "    between, first, last\n",
      "\n",
      "The following object is masked from 'package:purrr':\n",
      "\n",
      "    transpose\n",
      "\n"
     ]
    }
   ],
   "source": [
    "library(tidyverse)\n",
    "library(data.table)"
   ]
  },
  {
   "cell_type": "code",
   "execution_count": 3,
   "metadata": {},
   "outputs": [],
   "source": [
    "current_data <- fread('../data/music_1-29.csv')\n",
    "\n",
    "keep <- t(matrix(c(\"Subject\", \"subject\",\n",
    "                    \"Procedure[SubTrial]\", \"procedure\",\n",
    "                    \"CuedBlock.Sample\", \"block\",\n",
    "                    \"SubTrial\", \"trial\",\n",
    "                    #\"rsi\",\"rsi\",\n",
    "                    \"stimulus.RESP\", \"key_press\",\n",
    "                    \"correct_key\", \"correct_key\",\n",
    "                    \"cue\", \"cue\",\n",
    "                    \"transition\",\"transition\",\n",
    "                    \"stimulus.RT\",\"rt\"\n",
    "                     ),nrow=2))\n",
    "current_data <- as.data.frame(current_data)\n",
    "current_data <- current_data[,keep[,1]]\n",
    "colnames(current_data) <- keep[,2]\n",
    "\n",
    "current_data <- current_data %>%\n",
    "  filter(procedure == 'cuedproc') %>%\n",
    "  mutate(switch = ifelse(transition == 'Switch',1,0),\n",
    "         error = ifelse(correct_key != key_press, 1, 0),\n",
    "         taskcode = ifelse(cue == 'thumbsUpDown.jpg','valence','life'),\n",
    "         #rsi = as.factor(rsi),\n",
    "         subject = as.factor(subject)) %>%\n",
    "  select(-one_of(c('procedure', 'cue', 'transition','key_press','correct_key'))) %>%\n",
    "  data.table()\n",
    "\n",
    "write.csv(current_data, '../data/music_clean.csv', row.names = FALSE)"
   ]
  }
 ],
 "metadata": {
  "kernelspec": {
   "display_name": "R",
   "language": "R",
   "name": "ir"
  },
  "language_info": {
   "codemirror_mode": "r",
   "file_extension": ".r",
   "mimetype": "text/x-r-source",
   "name": "R",
   "pygments_lexer": "r",
   "version": "3.4.3"
  }
 },
 "nbformat": 4,
 "nbformat_minor": 2
}
