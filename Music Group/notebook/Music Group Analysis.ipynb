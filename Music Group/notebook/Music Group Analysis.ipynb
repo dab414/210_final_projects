{
 "cells": [
  {
   "cell_type": "markdown",
   "metadata": {},
   "source": [
    "# The Impact of Music on Task Switching:\n",
    "## Will Lyrics Exacerbate the Switch Cost?"
   ]
  },
  {
   "cell_type": "markdown",
   "metadata": {},
   "source": [
    "The main analysis for this experiment is a 2 (transition: switch vs repeat) X 3 (music condition: vocal vs instrumental vs none) within-subjects ANOVA on response times.\n",
    "\n",
    "*Update*: We're also including block into the design, which is a 2 (block: early vs late) within-subjects factor. So I'll only be reporting the 2 (transition) X 3 (music condition) X 2 (block) ANOVA (not the simpler one without block).\n",
    "\n",
    "I'll try to direct your attention to the important things you'll need for your method and results as I go. Unless I say something is important, don't pay attention to it. In general, you can ignore the code (unless you're an aspiring data expert)."
   ]
  },
  {
   "cell_type": "markdown",
   "metadata": {},
   "source": [
    "### General Outline\n",
    "As per our general analysis philosophy, descriptive statistics and graphs will come before inferential analyses.\n",
    "* Trial and subject trimming\n",
    "* Descriptive analyses for:\n",
    "  * Error rates\n",
    "  * RTs\n",
    "* ANOVAs for:\n",
    "  * Error rates\n",
    "  * RTs\n",
    "* Summary of survey data"
   ]
  },
  {
   "cell_type": "code",
   "execution_count": 1,
   "metadata": {},
   "outputs": [
    {
     "name": "stderr",
     "output_type": "stream",
     "text": [
      "-- Attaching packages --------------------------------------- tidyverse 1.2.1 --\n",
      "v ggplot2 2.2.1     v purrr   0.2.4\n",
      "v tibble  1.4.1     v dplyr   0.7.4\n",
      "v tidyr   0.7.2     v stringr 1.2.0\n",
      "v readr   1.1.1     v forcats 0.2.0\n",
      "-- Conflicts ------------------------------------------ tidyverse_conflicts() --\n",
      "x dplyr::filter() masks stats::filter()\n",
      "x dplyr::lag()    masks stats::lag()\n",
      "\n",
      "Attaching package: 'data.table'\n",
      "\n",
      "The following objects are masked from 'package:dplyr':\n",
      "\n",
      "    between, first, last\n",
      "\n",
      "The following object is masked from 'package:purrr':\n",
      "\n",
      "    transpose\n",
      "\n",
      "Loading required package: rJava\n",
      "Loading required package: xlsxjars\n"
     ]
    }
   ],
   "source": [
    "options(scipen = 999)\n",
    "library(tidyverse)\n",
    "library(data.table)\n",
    "library(ez)\n",
    "library(xlsx)"
   ]
  },
  {
   "cell_type": "code",
   "execution_count": 2,
   "metadata": {},
   "outputs": [],
   "source": [
    "current_data <- fread('../data/music_clean.csv')\n",
    "subject_code <- fread('../data/subject_code.csv')[,1:2]\n",
    "condition_code <- fread('../data/condition_code.csv')"
   ]
  },
  {
   "cell_type": "code",
   "execution_count": 3,
   "metadata": {},
   "outputs": [
    {
     "data": {
      "text/html": [
       "<table>\n",
       "<thead><tr><th scope=col>group_id</th><th scope=col>block</th><th scope=col>condition</th></tr></thead>\n",
       "<tbody>\n",
       "\t<tr><td>a           </td><td>1           </td><td>instrumental</td></tr>\n",
       "\t<tr><td>a           </td><td>2           </td><td>lyrical     </td></tr>\n",
       "\t<tr><td>a           </td><td>3           </td><td>control     </td></tr>\n",
       "\t<tr><td>a           </td><td>4           </td><td>instrumental</td></tr>\n",
       "\t<tr><td>a           </td><td>5           </td><td>control     </td></tr>\n",
       "\t<tr><td>a           </td><td>6           </td><td>lyrical     </td></tr>\n",
       "\t<tr><td>b           </td><td>1           </td><td>lyrical     </td></tr>\n",
       "\t<tr><td>b           </td><td>2           </td><td>control     </td></tr>\n",
       "\t<tr><td>b           </td><td>3           </td><td>instrumental</td></tr>\n",
       "\t<tr><td>b           </td><td>4           </td><td>lyrical     </td></tr>\n",
       "\t<tr><td>b           </td><td>5           </td><td>instrumental</td></tr>\n",
       "\t<tr><td>b           </td><td>6           </td><td>control     </td></tr>\n",
       "\t<tr><td>c           </td><td>1           </td><td>control     </td></tr>\n",
       "\t<tr><td>c           </td><td>2           </td><td>instrumental</td></tr>\n",
       "\t<tr><td>c           </td><td>3           </td><td>lyrical     </td></tr>\n",
       "\t<tr><td>c           </td><td>4           </td><td>control     </td></tr>\n",
       "\t<tr><td>c           </td><td>5           </td><td>lyrical     </td></tr>\n",
       "\t<tr><td>c           </td><td>6           </td><td>instrumental</td></tr>\n",
       "</tbody>\n",
       "</table>\n"
      ],
      "text/latex": [
       "\\begin{tabular}{r|lll}\n",
       " group\\_id & block & condition\\\\\n",
       "\\hline\n",
       "\t a            & 1            & instrumental\\\\\n",
       "\t a            & 2            & lyrical     \\\\\n",
       "\t a            & 3            & control     \\\\\n",
       "\t a            & 4            & instrumental\\\\\n",
       "\t a            & 5            & control     \\\\\n",
       "\t a            & 6            & lyrical     \\\\\n",
       "\t b            & 1            & lyrical     \\\\\n",
       "\t b            & 2            & control     \\\\\n",
       "\t b            & 3            & instrumental\\\\\n",
       "\t b            & 4            & lyrical     \\\\\n",
       "\t b            & 5            & instrumental\\\\\n",
       "\t b            & 6            & control     \\\\\n",
       "\t c            & 1            & control     \\\\\n",
       "\t c            & 2            & instrumental\\\\\n",
       "\t c            & 3            & lyrical     \\\\\n",
       "\t c            & 4            & control     \\\\\n",
       "\t c            & 5            & lyrical     \\\\\n",
       "\t c            & 6            & instrumental\\\\\n",
       "\\end{tabular}\n"
      ],
      "text/markdown": [
       "\n",
       "group_id | block | condition | \n",
       "|---|---|---|---|---|---|---|---|---|---|---|---|---|---|---|---|---|---|\n",
       "| a            | 1            | instrumental | \n",
       "| a            | 2            | lyrical      | \n",
       "| a            | 3            | control      | \n",
       "| a            | 4            | instrumental | \n",
       "| a            | 5            | control      | \n",
       "| a            | 6            | lyrical      | \n",
       "| b            | 1            | lyrical      | \n",
       "| b            | 2            | control      | \n",
       "| b            | 3            | instrumental | \n",
       "| b            | 4            | lyrical      | \n",
       "| b            | 5            | instrumental | \n",
       "| b            | 6            | control      | \n",
       "| c            | 1            | control      | \n",
       "| c            | 2            | instrumental | \n",
       "| c            | 3            | lyrical      | \n",
       "| c            | 4            | control      | \n",
       "| c            | 5            | lyrical      | \n",
       "| c            | 6            | instrumental | \n",
       "\n",
       "\n"
      ],
      "text/plain": [
       "   group_id block condition   \n",
       "1  a        1     instrumental\n",
       "2  a        2     lyrical     \n",
       "3  a        3     control     \n",
       "4  a        4     instrumental\n",
       "5  a        5     control     \n",
       "6  a        6     lyrical     \n",
       "7  b        1     lyrical     \n",
       "8  b        2     control     \n",
       "9  b        3     instrumental\n",
       "10 b        4     lyrical     \n",
       "11 b        5     instrumental\n",
       "12 b        6     control     \n",
       "13 c        1     control     \n",
       "14 c        2     instrumental\n",
       "15 c        3     lyrical     \n",
       "16 c        4     control     \n",
       "17 c        5     lyrical     \n",
       "18 c        6     instrumental"
      ]
     },
     "metadata": {},
     "output_type": "display_data"
    }
   ],
   "source": [
    "condition_code"
   ]
  },
  {
   "cell_type": "code",
   "execution_count": 4,
   "metadata": {},
   "outputs": [
    {
     "name": "stderr",
     "output_type": "stream",
     "text": [
      "Joining, by = \"subject\"\n",
      "Warning message:\n",
      "\"Column `subject` joining character vector and factor, coercing into character vector\"Joining, by = c(\"block\", \"group\")\n"
     ]
    }
   ],
   "source": [
    "colnames(condition_code)[1] <- 'group'\n",
    "subject_code <- subject_code %>% \n",
    "mutate(subject = as.factor(subject))\n",
    "current_data <- current_data %>% \n",
    "inner_join(subject_code) %>% \n",
    "inner_join(condition_code) %>% \n",
    "mutate(condition = as.factor(condition),\n",
    "      transition = ifelse(switch == 1, 'switch', ifelse(switch == 0, 'repeat', ''))) %>% \n",
    "select(-group) "
   ]
  },
  {
   "cell_type": "markdown",
   "metadata": {},
   "source": [
    "### Trimming of trials and subjects"
   ]
  },
  {
   "cell_type": "markdown",
   "metadata": {},
   "source": [
    "We're going to make sure all subjects have error rates less than 15%\n",
    "* If they don't, we exclude from analysis\n",
    "\n",
    "We're going to trim some trials based on:\n",
    "* RT outliers (for RT analyses only)\n",
    "* Error trials and trials following error trials (for RT analyses only)\n",
    "* First trials in each block (no transition in first trial of block)"
   ]
  },
  {
   "cell_type": "code",
   "execution_count": 5,
   "metadata": {},
   "outputs": [
    {
     "data": {
      "text/html": [
       "<table>\n",
       "<thead><tr><th scope=col>subject</th><th scope=col>error</th></tr></thead>\n",
       "<tbody>\n",
       "\t<tr><td>10       </td><td>0.5021368</td></tr>\n",
       "\t<tr><td>11       </td><td>0.1944444</td></tr>\n",
       "\t<tr><td>12       </td><td>0.2200855</td></tr>\n",
       "\t<tr><td>13       </td><td>0.5149573</td></tr>\n",
       "\t<tr><td>14       </td><td>0.1581197</td></tr>\n",
       "\t<tr><td>16       </td><td>0.1816239</td></tr>\n",
       "\t<tr><td>20       </td><td>0.7200855</td></tr>\n",
       "\t<tr><td>21       </td><td>0.3461538</td></tr>\n",
       "\t<tr><td>29       </td><td>0.5256410</td></tr>\n",
       "\t<tr><td>3        </td><td>0.1965812</td></tr>\n",
       "\t<tr><td>4        </td><td>0.1623932</td></tr>\n",
       "\t<tr><td>5        </td><td>0.5106838</td></tr>\n",
       "\t<tr><td>7        </td><td>0.5299145</td></tr>\n",
       "\t<tr><td>8        </td><td>0.1709402</td></tr>\n",
       "</tbody>\n",
       "</table>\n"
      ],
      "text/latex": [
       "\\begin{tabular}{r|ll}\n",
       " subject & error\\\\\n",
       "\\hline\n",
       "\t 10        & 0.5021368\\\\\n",
       "\t 11        & 0.1944444\\\\\n",
       "\t 12        & 0.2200855\\\\\n",
       "\t 13        & 0.5149573\\\\\n",
       "\t 14        & 0.1581197\\\\\n",
       "\t 16        & 0.1816239\\\\\n",
       "\t 20        & 0.7200855\\\\\n",
       "\t 21        & 0.3461538\\\\\n",
       "\t 29        & 0.5256410\\\\\n",
       "\t 3         & 0.1965812\\\\\n",
       "\t 4         & 0.1623932\\\\\n",
       "\t 5         & 0.5106838\\\\\n",
       "\t 7         & 0.5299145\\\\\n",
       "\t 8         & 0.1709402\\\\\n",
       "\\end{tabular}\n"
      ],
      "text/markdown": [
       "\n",
       "subject | error | \n",
       "|---|---|---|---|---|---|---|---|---|---|---|---|---|---|\n",
       "| 10        | 0.5021368 | \n",
       "| 11        | 0.1944444 | \n",
       "| 12        | 0.2200855 | \n",
       "| 13        | 0.5149573 | \n",
       "| 14        | 0.1581197 | \n",
       "| 16        | 0.1816239 | \n",
       "| 20        | 0.7200855 | \n",
       "| 21        | 0.3461538 | \n",
       "| 29        | 0.5256410 | \n",
       "| 3         | 0.1965812 | \n",
       "| 4         | 0.1623932 | \n",
       "| 5         | 0.5106838 | \n",
       "| 7         | 0.5299145 | \n",
       "| 8         | 0.1709402 | \n",
       "\n",
       "\n"
      ],
      "text/plain": [
       "   subject error    \n",
       "1  10      0.5021368\n",
       "2  11      0.1944444\n",
       "3  12      0.2200855\n",
       "4  13      0.5149573\n",
       "5  14      0.1581197\n",
       "6  16      0.1816239\n",
       "7  20      0.7200855\n",
       "8  21      0.3461538\n",
       "9  29      0.5256410\n",
       "10 3       0.1965812\n",
       "11 4       0.1623932\n",
       "12 5       0.5106838\n",
       "13 7       0.5299145\n",
       "14 8       0.1709402"
      ]
     },
     "metadata": {},
     "output_type": "display_data"
    }
   ],
   "source": [
    "bad_subjects <- current_data %>% \n",
    "group_by(subject) %>% \n",
    "summarize(error = mean(error)) %>% \n",
    "filter(error > .15)\n",
    "bad_subjects"
   ]
  },
  {
   "cell_type": "markdown",
   "metadata": {},
   "source": [
    "Error rates this high are pretty uncommon. Let's stop to do a descriptive analysis on these error rates. I'm going to exclude everyone above 25%, because that's just ridiculous. Let's see if we can figure out why / when so many people are making errors."
   ]
  },
  {
   "cell_type": "markdown",
   "metadata": {},
   "source": [
    "### Impromptu Error Analysis\n",
    "We didn't plan on taking this close of a look at errors going into the analysis, but since errors seemed to be highly prevalent, we'll see what's going on. I'm dropping all subjects above 25% errors first, then looking at the descriptive statistics broken down by the full design. In the final analysis section is where I'll report the ANOVA for these error data.\n",
    "\n",
    "**Filter out the subjects with > 25% error rates:**"
   ]
  },
  {
   "cell_type": "code",
   "execution_count": 6,
   "metadata": {},
   "outputs": [
    {
     "data": {
      "text/html": [
       "<table>\n",
       "<thead><tr><th scope=col>subject</th><th scope=col>error</th></tr></thead>\n",
       "<tbody>\n",
       "\t<tr><td>10       </td><td>0.5021368</td></tr>\n",
       "\t<tr><td>13       </td><td>0.5149573</td></tr>\n",
       "\t<tr><td>20       </td><td>0.7200855</td></tr>\n",
       "\t<tr><td>21       </td><td>0.3461538</td></tr>\n",
       "\t<tr><td>29       </td><td>0.5256410</td></tr>\n",
       "\t<tr><td>5        </td><td>0.5106838</td></tr>\n",
       "\t<tr><td>7        </td><td>0.5299145</td></tr>\n",
       "</tbody>\n",
       "</table>\n"
      ],
      "text/latex": [
       "\\begin{tabular}{r|ll}\n",
       " subject & error\\\\\n",
       "\\hline\n",
       "\t 10        & 0.5021368\\\\\n",
       "\t 13        & 0.5149573\\\\\n",
       "\t 20        & 0.7200855\\\\\n",
       "\t 21        & 0.3461538\\\\\n",
       "\t 29        & 0.5256410\\\\\n",
       "\t 5         & 0.5106838\\\\\n",
       "\t 7         & 0.5299145\\\\\n",
       "\\end{tabular}\n"
      ],
      "text/markdown": [
       "\n",
       "subject | error | \n",
       "|---|---|---|---|---|---|---|\n",
       "| 10        | 0.5021368 | \n",
       "| 13        | 0.5149573 | \n",
       "| 20        | 0.7200855 | \n",
       "| 21        | 0.3461538 | \n",
       "| 29        | 0.5256410 | \n",
       "| 5         | 0.5106838 | \n",
       "| 7         | 0.5299145 | \n",
       "\n",
       "\n"
      ],
      "text/plain": [
       "  subject error    \n",
       "1 10      0.5021368\n",
       "2 13      0.5149573\n",
       "3 20      0.7200855\n",
       "4 21      0.3461538\n",
       "5 29      0.5256410\n",
       "6 5       0.5106838\n",
       "7 7       0.5299145"
      ]
     },
     "metadata": {},
     "output_type": "display_data"
    },
    {
     "data": {
      "text/html": [
       "'Total N is 28, number of subjects above error threshold is 7, 21 subjects retained for analysis.'"
      ],
      "text/latex": [
       "'Total N is 28, number of subjects above error threshold is 7, 21 subjects retained for analysis.'"
      ],
      "text/markdown": [
       "'Total N is 28, number of subjects above error threshold is 7, 21 subjects retained for analysis.'"
      ],
      "text/plain": [
       "[1] \"Total N is 28, number of subjects above error threshold is 7, 21 subjects retained for analysis.\""
      ]
     },
     "metadata": {},
     "output_type": "display_data"
    }
   ],
   "source": [
    "bad_subjects <- current_data %>% \n",
    "group_by(subject) %>% \n",
    "summarize(error = mean(error)) %>% \n",
    "filter(error > .25)\n",
    "bad_subjects\n",
    "\n",
    "N <- current_data %>% \n",
    "group_by(subject) %>% \n",
    "summarize(n()) %>% \n",
    "nrow()\n",
    "paste0('Total N is ',N,', number of subjects above error threshold is ', nrow(bad_subjects), ', ', \n",
    "       N - nrow(bad_subjects), ' subjects retained for analysis.')"
   ]
  },
  {
   "cell_type": "markdown",
   "metadata": {},
   "source": [
    "You'll want to report the error threshold (25%) and how many subjects were excluded because of it (7)."
   ]
  },
  {
   "cell_type": "code",
   "execution_count": 7,
   "metadata": {},
   "outputs": [],
   "source": [
    "## getting rid of error subjects\n",
    "current_data <- current_data[!(current_data$subject %in% bad_subjects$subject),]"
   ]
  },
  {
   "cell_type": "markdown",
   "metadata": {},
   "source": [
    "It's possible that subjects are either getting better with practice (making fewer errors as they go), or they're getting tired (making more errors as they go). We'll plot error rate as a function of subject, condition, and block."
   ]
  },
  {
   "cell_type": "code",
   "execution_count": 8,
   "metadata": {},
   "outputs": [
    {
     "data": {
      "text/html": [
       "<table>\n",
       "<thead><tr><th scope=col>Block</th><th scope=col>Condition</th><th scope=col>error_rate</th><th scope=col>se</th></tr></thead>\n",
       "<tbody>\n",
       "\t<tr><td>early       </td><td>control     </td><td>0.1288156   </td><td>0.01099579  </td></tr>\n",
       "\t<tr><td>early       </td><td>instrumental</td><td>0.1385836   </td><td>0.01444579  </td></tr>\n",
       "\t<tr><td>early       </td><td>lyrical     </td><td>0.1367521   </td><td>0.00962386  </td></tr>\n",
       "\t<tr><td>late        </td><td>control     </td><td>0.1196581   </td><td>0.01201151  </td></tr>\n",
       "\t<tr><td>late        </td><td>instrumental</td><td>0.1294261   </td><td>0.01193212  </td></tr>\n",
       "\t<tr><td>late        </td><td>lyrical     </td><td>0.1404151   </td><td>0.01249514  </td></tr>\n",
       "</tbody>\n",
       "</table>\n"
      ],
      "text/latex": [
       "\\begin{tabular}{r|llll}\n",
       " Block & Condition & error\\_rate & se\\\\\n",
       "\\hline\n",
       "\t early        & control      & 0.1288156    & 0.01099579  \\\\\n",
       "\t early        & instrumental & 0.1385836    & 0.01444579  \\\\\n",
       "\t early        & lyrical      & 0.1367521    & 0.00962386  \\\\\n",
       "\t late         & control      & 0.1196581    & 0.01201151  \\\\\n",
       "\t late         & instrumental & 0.1294261    & 0.01193212  \\\\\n",
       "\t late         & lyrical      & 0.1404151    & 0.01249514  \\\\\n",
       "\\end{tabular}\n"
      ],
      "text/markdown": [
       "\n",
       "Block | Condition | error_rate | se | \n",
       "|---|---|---|---|---|---|\n",
       "| early        | control      | 0.1288156    | 0.01099579   | \n",
       "| early        | instrumental | 0.1385836    | 0.01444579   | \n",
       "| early        | lyrical      | 0.1367521    | 0.00962386   | \n",
       "| late         | control      | 0.1196581    | 0.01201151   | \n",
       "| late         | instrumental | 0.1294261    | 0.01193212   | \n",
       "| late         | lyrical      | 0.1404151    | 0.01249514   | \n",
       "\n",
       "\n"
      ],
      "text/plain": [
       "  Block Condition    error_rate se        \n",
       "1 early control      0.1288156  0.01099579\n",
       "2 early instrumental 0.1385836  0.01444579\n",
       "3 early lyrical      0.1367521  0.00962386\n",
       "4 late  control      0.1196581  0.01201151\n",
       "5 late  instrumental 0.1294261  0.01193212\n",
       "6 late  lyrical      0.1404151  0.01249514"
      ]
     },
     "metadata": {},
     "output_type": "display_data"
    },
    {
     "data": {},
     "metadata": {},
     "output_type": "display_data"
    },
    {
     "data": {
      "image/png": "[encoded data removed]",
      "text/plain": [
       "plot without title"
      ]
     },
     "metadata": {},
     "output_type": "display_data"
    }
   ],
   "source": [
    "options(repr.plot.width = 5, repr.plot.height = 4)\n",
    "subject_means <- current_data %>% \n",
    "mutate(block_d = factor(ifelse(block < 4, 'early', 'late'))) %>% \n",
    "group_by(subject, block_d, condition) %>% \n",
    "summarize(error = mean(error))\n",
    "\n",
    "cell_means <- subject_means %>% \n",
    "group_by(Block = block_d, Condition = condition) %>% \n",
    "summarize(error_rate = mean(error), se = sd(error) / sqrt(n())) \n",
    "\n",
    "cell_means\n",
    "\n",
    "cell_means %>% \n",
    "rename(block_d = Block, condition = Condition) %>% \n",
    "ggplot(aes(x = block_d, y = error_rate, group = 1)) + \n",
    "geom_line(size = 2) + \n",
    "geom_ribbon(aes(ymin = error_rate - se, ymax = error_rate + se), alpha = .3) +\n",
    "geom_line(data = subject_means, aes(x = block_d, y = error, group = subject), alpha = .5) + \n",
    "facet_wrap(~condition) +\n",
    "theme(legend.position = 'none') + xlab('Block') + ylab('Error Rate (%)')"
   ]
  },
  {
   "cell_type": "markdown",
   "metadata": {},
   "source": [
    "Error rates seem to decrease slightly across blocks for the control and instrumental conditions, but for lyrical error rates increase slightly or remain the same. My sense is that some people just got the keys wrong at some points."
   ]
  },
  {
   "cell_type": "markdown",
   "metadata": {},
   "source": [
    "The graph above doesn't take transition into consideration, however. Below I'll output the means and graph for error rates broken down by the full design (including transition)."
   ]
  },
  {
   "cell_type": "code",
   "execution_count": 9,
   "metadata": {},
   "outputs": [
    {
     "data": {
      "text/html": [
       "<table>\n",
       "<thead><tr><th scope=col>condition</th><th scope=col>transition</th><th scope=col>Block</th><th scope=col>Error Rate (Mean)</th><th scope=col>Error Rate (SE)</th></tr></thead>\n",
       "<tbody>\n",
       "\t<tr><td>control     </td><td>repeat      </td><td>early       </td><td>0.1063509   </td><td>0.01282452  </td></tr>\n",
       "\t<tr><td>control     </td><td>repeat      </td><td>late        </td><td>0.1004741   </td><td>0.01310627  </td></tr>\n",
       "\t<tr><td>control     </td><td>switch      </td><td>early       </td><td>0.1500850   </td><td>0.01450746  </td></tr>\n",
       "\t<tr><td>control     </td><td>switch      </td><td>late        </td><td>0.1381907   </td><td>0.01765882  </td></tr>\n",
       "\t<tr><td>instrumental</td><td>repeat      </td><td>early       </td><td>0.1163953   </td><td>0.01317018  </td></tr>\n",
       "\t<tr><td>instrumental</td><td>repeat      </td><td>late        </td><td>0.1197273   </td><td>0.01436433  </td></tr>\n",
       "\t<tr><td>instrumental</td><td>switch      </td><td>early       </td><td>0.1589485   </td><td>0.02054473  </td></tr>\n",
       "\t<tr><td>instrumental</td><td>switch      </td><td>late        </td><td>0.1418177   </td><td>0.01653885  </td></tr>\n",
       "\t<tr><td>lyrical     </td><td>repeat      </td><td>early       </td><td>0.1237938   </td><td>0.01134526  </td></tr>\n",
       "\t<tr><td>lyrical     </td><td>repeat      </td><td>late        </td><td>0.1207749   </td><td>0.01304317  </td></tr>\n",
       "\t<tr><td>lyrical     </td><td>switch      </td><td>early       </td><td>0.1506573   </td><td>0.01454157  </td></tr>\n",
       "\t<tr><td>lyrical     </td><td>switch      </td><td>late        </td><td>0.1597965   </td><td>0.01627622  </td></tr>\n",
       "</tbody>\n",
       "</table>\n"
      ],
      "text/latex": [
       "\\begin{tabular}{r|lllll}\n",
       " condition & transition & Block & Error Rate (Mean) & Error Rate (SE)\\\\\n",
       "\\hline\n",
       "\t control      & repeat       & early        & 0.1063509    & 0.01282452  \\\\\n",
       "\t control      & repeat       & late         & 0.1004741    & 0.01310627  \\\\\n",
       "\t control      & switch       & early        & 0.1500850    & 0.01450746  \\\\\n",
       "\t control      & switch       & late         & 0.1381907    & 0.01765882  \\\\\n",
       "\t instrumental & repeat       & early        & 0.1163953    & 0.01317018  \\\\\n",
       "\t instrumental & repeat       & late         & 0.1197273    & 0.01436433  \\\\\n",
       "\t instrumental & switch       & early        & 0.1589485    & 0.02054473  \\\\\n",
       "\t instrumental & switch       & late         & 0.1418177    & 0.01653885  \\\\\n",
       "\t lyrical      & repeat       & early        & 0.1237938    & 0.01134526  \\\\\n",
       "\t lyrical      & repeat       & late         & 0.1207749    & 0.01304317  \\\\\n",
       "\t lyrical      & switch       & early        & 0.1506573    & 0.01454157  \\\\\n",
       "\t lyrical      & switch       & late         & 0.1597965    & 0.01627622  \\\\\n",
       "\\end{tabular}\n"
      ],
      "text/markdown": [
       "\n",
       "condition | transition | Block | Error Rate (Mean) | Error Rate (SE) | \n",
       "|---|---|---|---|---|---|---|---|---|---|---|---|\n",
       "| control      | repeat       | early        | 0.1063509    | 0.01282452   | \n",
       "| control      | repeat       | late         | 0.1004741    | 0.01310627   | \n",
       "| control      | switch       | early        | 0.1500850    | 0.01450746   | \n",
       "| control      | switch       | late         | 0.1381907    | 0.01765882   | \n",
       "| instrumental | repeat       | early        | 0.1163953    | 0.01317018   | \n",
       "| instrumental | repeat       | late         | 0.1197273    | 0.01436433   | \n",
       "| instrumental | switch       | early        | 0.1589485    | 0.02054473   | \n",
       "| instrumental | switch       | late         | 0.1418177    | 0.01653885   | \n",
       "| lyrical      | repeat       | early        | 0.1237938    | 0.01134526   | \n",
       "| lyrical      | repeat       | late         | 0.1207749    | 0.01304317   | \n",
       "| lyrical      | switch       | early        | 0.1506573    | 0.01454157   | \n",
       "| lyrical      | switch       | late         | 0.1597965    | 0.01627622   | \n",
       "\n",
       "\n"
      ],
      "text/plain": [
       "   condition    transition Block Error Rate (Mean) Error Rate (SE)\n",
       "1  control      repeat     early 0.1063509         0.01282452     \n",
       "2  control      repeat     late  0.1004741         0.01310627     \n",
       "3  control      switch     early 0.1500850         0.01450746     \n",
       "4  control      switch     late  0.1381907         0.01765882     \n",
       "5  instrumental repeat     early 0.1163953         0.01317018     \n",
       "6  instrumental repeat     late  0.1197273         0.01436433     \n",
       "7  instrumental switch     early 0.1589485         0.02054473     \n",
       "8  instrumental switch     late  0.1418177         0.01653885     \n",
       "9  lyrical      repeat     early 0.1237938         0.01134526     \n",
       "10 lyrical      repeat     late  0.1207749         0.01304317     \n",
       "11 lyrical      switch     early 0.1506573         0.01454157     \n",
       "12 lyrical      switch     late  0.1597965         0.01627622     "
      ]
     },
     "metadata": {},
     "output_type": "display_data"
    },
    {
     "data": {},
     "metadata": {},
     "output_type": "display_data"
    },
    {
     "data": {
      "image/png": "[encoded data removed]",
      "text/plain": [
       "plot without title"
      ]
     },
     "metadata": {},
     "output_type": "display_data"
    }
   ],
   "source": [
    "options(repr.plot.width = 6, repr.plot.height = 5)\n",
    "current_data <- current_data %>% \n",
    "mutate(block_d = factor(ifelse(block < 4, 'early', 'late')))\n",
    "\n",
    "error_summary <- current_data %>% \n",
    "group_by(subject, condition, transition, block_d) %>% \n",
    "summarize(error = mean(error)) %>% \n",
    "group_by(condition, transition, Block = block_d) %>% \n",
    "summarize('Error Rate (Mean)' = mean(error), 'Error Rate (SE)' = sd(error) / sqrt(n()))\n",
    "\n",
    "error_summary\n",
    "\n",
    "error_summary %>% \n",
    "rename(error = 'Error Rate (Mean)', se = 'Error Rate (SE)', block_d = Block) %>% \n",
    "ggplot(aes(x = condition, y = error, group = transition)) + \n",
    "geom_bar(stat = 'identity', aes(fill = transition), position = 'dodge') +\n",
    "geom_errorbar(aes(ymin = error - se, ymax = error + se), position = position_dodge(width = .9), width = .5) + \n",
    "ylab('Error Rate (%)') + xlab('Music Condition') + facet_wrap(~ block_d)\n"
   ]
  },
  {
   "cell_type": "markdown",
   "metadata": {},
   "source": [
    "Naively looking at these trends might lead one to believe there might be a main effect of condition.. ? Switch costs actually appear to be somewhat smaller in the musical conditions perhaps. Only inferential analyses will tell.\n",
    "\n",
    "Enough with my qualitative musings. "
   ]
  },
  {
   "cell_type": "markdown",
   "metadata": {},
   "source": [
    "## Response Time Data"
   ]
  },
  {
   "cell_type": "markdown",
   "metadata": {},
   "source": [
    "Let's look at the data broken down the same way but for RTs (after removing error trials and RT outliers). I'll run through the RT data similarly to how I did the error data:\n",
    "* Trimming\n",
    "* Means & Plots\n",
    "  * Only by block and condition\n",
    "  * By the full design"
   ]
  },
  {
   "cell_type": "code",
   "execution_count": 10,
   "metadata": {},
   "outputs": [
    {
     "name": "stderr",
     "output_type": "stream",
     "text": [
      "Joining, by = \"subject\"\n"
     ]
    },
    {
     "data": {
      "text/html": [
       "'Trimming trials according to errors and response times resulted in the loss of 27.58% of the data'"
      ],
      "text/latex": [
       "'Trimming trials according to errors and response times resulted in the loss of 27.58\\% of the data'"
      ],
      "text/markdown": [
       "'Trimming trials according to errors and response times resulted in the loss of 27.58% of the data'"
      ],
      "text/plain": [
       "[1] \"Trimming trials according to errors and response times resulted in the loss of 27.58% of the data\""
      ]
     },
     "metadata": {},
     "output_type": "display_data"
    }
   ],
   "source": [
    "error_data <- current_data\n",
    "\n",
    "before_trimming <- nrow(current_data)\n",
    "\n",
    "rt_stats <- current_data %>% \n",
    "group_by(subject) %>% \n",
    "summarize(rt_mean = mean(rt), rt_sd = sd(rt))\n",
    "\n",
    "current_data <- current_data %>% \n",
    "inner_join(rt_stats) %>% \n",
    "filter(error == 0 & shift(error) == 0,\n",
    "      rt < rt_mean + 2 * rt_sd & rt > rt_mean - 2 * rt_sd) %>% \n",
    "select(-rt_mean, -rt_sd)\n",
    "\n",
    "after_trimming <- nrow(current_data)\n",
    "paste0('Trimming trials according to errors and response times resulted in the loss of ',\n",
    "       round((1 - (after_trimming / before_trimming)) * 100, 2),\n",
    "      '% of the data')"
   ]
  },
  {
   "cell_type": "markdown",
   "metadata": {},
   "source": [
    "We trimmed RTs according to +/- 2 standard deviations from subject-wise RT means. Basically how this works is:\n",
    "* Compute, for each subject, the mean and SD for RT\n",
    "  * For example, maybe subject 1 has a mean RT of 800 ms with SD = 200 ms\n",
    "* Then, for each subject on each trial, we look and see whether the RT on that trial is more extreme than 2 SDs beyond *that* subject's mean for RTs.\n",
    "  * If subject 1 had a trial where it took him/her 1375 ms to respond, we would eliminate that trial because it's greater than `2 * 200 + 800`"
   ]
  },
  {
   "cell_type": "code",
   "execution_count": 11,
   "metadata": {},
   "outputs": [
    {
     "data": {
      "text/html": [
       "<table>\n",
       "<thead><tr><th scope=col>Block</th><th scope=col>Condition</th><th scope=col>RT (Mean)</th><th scope=col>RT (SE)</th></tr></thead>\n",
       "<tbody>\n",
       "\t<tr><td>early       </td><td>control     </td><td>1028.7511   </td><td>41.36138    </td></tr>\n",
       "\t<tr><td>early       </td><td>instrumental</td><td> 978.7655   </td><td>35.87344    </td></tr>\n",
       "\t<tr><td>early       </td><td>lyrical     </td><td>1008.6654   </td><td>41.43825    </td></tr>\n",
       "\t<tr><td>late        </td><td>control     </td><td> 833.4269   </td><td>28.44364    </td></tr>\n",
       "\t<tr><td>late        </td><td>instrumental</td><td> 853.3451   </td><td>26.75586    </td></tr>\n",
       "\t<tr><td>late        </td><td>lyrical     </td><td> 870.7443   </td><td>36.59959    </td></tr>\n",
       "</tbody>\n",
       "</table>\n"
      ],
      "text/latex": [
       "\\begin{tabular}{r|llll}\n",
       " Block & Condition & RT (Mean) & RT (SE)\\\\\n",
       "\\hline\n",
       "\t early        & control      & 1028.7511    & 41.36138    \\\\\n",
       "\t early        & instrumental &  978.7655    & 35.87344    \\\\\n",
       "\t early        & lyrical      & 1008.6654    & 41.43825    \\\\\n",
       "\t late         & control      &  833.4269    & 28.44364    \\\\\n",
       "\t late         & instrumental &  853.3451    & 26.75586    \\\\\n",
       "\t late         & lyrical      &  870.7443    & 36.59959    \\\\\n",
       "\\end{tabular}\n"
      ],
      "text/markdown": [
       "\n",
       "Block | Condition | RT (Mean) | RT (SE) | \n",
       "|---|---|---|---|---|---|\n",
       "| early        | control      | 1028.7511    | 41.36138     | \n",
       "| early        | instrumental |  978.7655    | 35.87344     | \n",
       "| early        | lyrical      | 1008.6654    | 41.43825     | \n",
       "| late         | control      |  833.4269    | 28.44364     | \n",
       "| late         | instrumental |  853.3451    | 26.75586     | \n",
       "| late         | lyrical      |  870.7443    | 36.59959     | \n",
       "\n",
       "\n"
      ],
      "text/plain": [
       "  Block Condition    RT (Mean) RT (SE) \n",
       "1 early control      1028.7511 41.36138\n",
       "2 early instrumental  978.7655 35.87344\n",
       "3 early lyrical      1008.6654 41.43825\n",
       "4 late  control       833.4269 28.44364\n",
       "5 late  instrumental  853.3451 26.75586\n",
       "6 late  lyrical       870.7443 36.59959"
      ]
     },
     "metadata": {},
     "output_type": "display_data"
    },
    {
     "data": {},
     "metadata": {},
     "output_type": "display_data"
    },
    {
     "data": {
      "image/png": "[encoded data removed]",
      "text/plain": [
       "plot without title"
      ]
     },
     "metadata": {},
     "output_type": "display_data"
    }
   ],
   "source": [
    "subject_means <- current_data %>% \n",
    "mutate(block_d = factor(ifelse(block < 4, 'early', 'late'))) %>% \n",
    "group_by(subject, block_d, condition) %>% \n",
    "summarize(rt = mean(rt))\n",
    "\n",
    "cell_means <- subject_means %>% \n",
    "group_by(Block = block_d, Condition = condition) %>% \n",
    "summarize(\"RT (Mean)\" = mean(rt), 'RT (SE)' = sd(rt) / sqrt(n())) \n",
    "\n",
    "cell_means\n",
    "\n",
    "cell_means %>% \n",
    "rename(r_time = \"RT (Mean)\", se = \"RT (SE)\", condition = Condition, block_d = Block) %>% \n",
    "ggplot(aes(x = block_d, y = r_time, group = 1)) + \n",
    "geom_line(size = 2) + \n",
    "geom_ribbon(aes(ymin = r_time - se, ymax = r_time + se), alpha = .3) +\n",
    "geom_line(data = subject_means, aes(x = block_d, y = rt, group = subject), alpha = .5) + \n",
    "facet_wrap(~condition) +\n",
    "theme(legend.position = 'none') + ylab('Response Time (ms)') + xlab('Block')"
   ]
  },
  {
   "cell_type": "markdown",
   "metadata": {},
   "source": [
    "Unlike error rates, RTs decrease dramatically over blocks, seemingly regardless of condition.  \n",
    "\n",
    "Let's start to look for the switch cost. We know RTs on switch trials should be longer than that for repeat trials:"
   ]
  },
  {
   "cell_type": "code",
   "execution_count": 12,
   "metadata": {},
   "outputs": [
    {
     "data": {},
     "metadata": {},
     "output_type": "display_data"
    },
    {
     "data": {
      "image/png": "[encoded data removed]",
      "text/plain": [
       "plot without title"
      ]
     },
     "metadata": {},
     "output_type": "display_data"
    }
   ],
   "source": [
    "ggplot(current_data, aes(x = rt)) + geom_density(aes(fill = transition), alpha = .2)"
   ]
  },
  {
   "cell_type": "markdown",
   "metadata": {},
   "source": [
    "What a truly beautiful graph. Now let's output the means and plot for the full design."
   ]
  },
  {
   "cell_type": "markdown",
   "metadata": {},
   "source": [
    "## Plotting the Design\n",
    "\n",
    "We'll plot the 2 (transition: repeat vs switch) X 2 (music condition: control vs lyrical vs instrumental) design predicting RTs."
   ]
  },
  {
   "cell_type": "code",
   "execution_count": 13,
   "metadata": {},
   "outputs": [
    {
     "data": {
      "text/html": [
       "<table>\n",
       "<thead><tr><th scope=col>Condition</th><th scope=col>Transition</th><th scope=col>Block</th><th scope=col>RT (Mean)</th><th scope=col>RT (SE)</th></tr></thead>\n",
       "<tbody>\n",
       "\t<tr><td>control     </td><td>repeat      </td><td>early       </td><td> 941.3095   </td><td>31.35632    </td></tr>\n",
       "\t<tr><td>control     </td><td>repeat      </td><td>late        </td><td> 796.9394   </td><td>22.93099    </td></tr>\n",
       "\t<tr><td>control     </td><td>switch      </td><td>early       </td><td>1125.8575   </td><td>41.70058    </td></tr>\n",
       "\t<tr><td>control     </td><td>switch      </td><td>late        </td><td> 873.5179   </td><td>28.27631    </td></tr>\n",
       "\t<tr><td>instrumental</td><td>repeat      </td><td>early       </td><td> 898.7964   </td><td>24.45280    </td></tr>\n",
       "\t<tr><td>instrumental</td><td>repeat      </td><td>late        </td><td> 797.8107   </td><td>22.89242    </td></tr>\n",
       "\t<tr><td>instrumental</td><td>switch      </td><td>early       </td><td>1068.0331   </td><td>39.11460    </td></tr>\n",
       "\t<tr><td>instrumental</td><td>switch      </td><td>late        </td><td> 906.7497   </td><td>27.56554    </td></tr>\n",
       "\t<tr><td>lyrical     </td><td>repeat      </td><td>early       </td><td> 913.0164   </td><td>31.37807    </td></tr>\n",
       "\t<tr><td>lyrical     </td><td>repeat      </td><td>late        </td><td> 807.0102   </td><td>27.34675    </td></tr>\n",
       "\t<tr><td>lyrical     </td><td>switch      </td><td>early       </td><td>1109.8368   </td><td>43.22293    </td></tr>\n",
       "\t<tr><td>lyrical     </td><td>switch      </td><td>late        </td><td> 927.6267   </td><td>37.64501    </td></tr>\n",
       "</tbody>\n",
       "</table>\n"
      ],
      "text/latex": [
       "\\begin{tabular}{r|lllll}\n",
       " Condition & Transition & Block & RT (Mean) & RT (SE)\\\\\n",
       "\\hline\n",
       "\t control      & repeat       & early        &  941.3095    & 31.35632    \\\\\n",
       "\t control      & repeat       & late         &  796.9394    & 22.93099    \\\\\n",
       "\t control      & switch       & early        & 1125.8575    & 41.70058    \\\\\n",
       "\t control      & switch       & late         &  873.5179    & 28.27631    \\\\\n",
       "\t instrumental & repeat       & early        &  898.7964    & 24.45280    \\\\\n",
       "\t instrumental & repeat       & late         &  797.8107    & 22.89242    \\\\\n",
       "\t instrumental & switch       & early        & 1068.0331    & 39.11460    \\\\\n",
       "\t instrumental & switch       & late         &  906.7497    & 27.56554    \\\\\n",
       "\t lyrical      & repeat       & early        &  913.0164    & 31.37807    \\\\\n",
       "\t lyrical      & repeat       & late         &  807.0102    & 27.34675    \\\\\n",
       "\t lyrical      & switch       & early        & 1109.8368    & 43.22293    \\\\\n",
       "\t lyrical      & switch       & late         &  927.6267    & 37.64501    \\\\\n",
       "\\end{tabular}\n"
      ],
      "text/markdown": [
       "\n",
       "Condition | Transition | Block | RT (Mean) | RT (SE) | \n",
       "|---|---|---|---|---|---|---|---|---|---|---|---|\n",
       "| control      | repeat       | early        |  941.3095    | 31.35632     | \n",
       "| control      | repeat       | late         |  796.9394    | 22.93099     | \n",
       "| control      | switch       | early        | 1125.8575    | 41.70058     | \n",
       "| control      | switch       | late         |  873.5179    | 28.27631     | \n",
       "| instrumental | repeat       | early        |  898.7964    | 24.45280     | \n",
       "| instrumental | repeat       | late         |  797.8107    | 22.89242     | \n",
       "| instrumental | switch       | early        | 1068.0331    | 39.11460     | \n",
       "| instrumental | switch       | late         |  906.7497    | 27.56554     | \n",
       "| lyrical      | repeat       | early        |  913.0164    | 31.37807     | \n",
       "| lyrical      | repeat       | late         |  807.0102    | 27.34675     | \n",
       "| lyrical      | switch       | early        | 1109.8368    | 43.22293     | \n",
       "| lyrical      | switch       | late         |  927.6267    | 37.64501     | \n",
       "\n",
       "\n"
      ],
      "text/plain": [
       "   Condition    Transition Block RT (Mean) RT (SE) \n",
       "1  control      repeat     early  941.3095 31.35632\n",
       "2  control      repeat     late   796.9394 22.93099\n",
       "3  control      switch     early 1125.8575 41.70058\n",
       "4  control      switch     late   873.5179 28.27631\n",
       "5  instrumental repeat     early  898.7964 24.45280\n",
       "6  instrumental repeat     late   797.8107 22.89242\n",
       "7  instrumental switch     early 1068.0331 39.11460\n",
       "8  instrumental switch     late   906.7497 27.56554\n",
       "9  lyrical      repeat     early  913.0164 31.37807\n",
       "10 lyrical      repeat     late   807.0102 27.34675\n",
       "11 lyrical      switch     early 1109.8368 43.22293\n",
       "12 lyrical      switch     late   927.6267 37.64501"
      ]
     },
     "metadata": {},
     "output_type": "display_data"
    },
    {
     "data": {},
     "metadata": {},
     "output_type": "display_data"
    },
    {
     "data": {
      "image/png": "[encoded data removed]",
      "text/plain": [
       "plot without title"
      ]
     },
     "metadata": {},
     "output_type": "display_data"
    }
   ],
   "source": [
    "cell_means <- current_data %>% \n",
    "group_by(subject, condition, transition, block_d) %>% \n",
    "summarize(rt = mean(rt)) %>% \n",
    "group_by(Condition = condition, Transition = transition, Block = block_d) %>% \n",
    "summarize('RT (Mean)' = mean(rt), 'RT (SE)' = sd(rt) / sqrt(N)) \n",
    "\n",
    "cell_means\n",
    "\n",
    "cell_means %>% \n",
    "rename(r_time = \"RT (Mean)\", se = \"RT (SE)\", condition = Condition, block_d = Block, transition = Transition) %>% \n",
    "ggplot(aes(x = condition, y = r_time, group = transition)) + \n",
    "geom_bar(stat = 'identity', aes(fill = transition), position = 'dodge') + \n",
    "geom_errorbar(stat = 'identity', aes(ymin = r_time - se, ymax = r_time + se), position = position_dodge(width = .9), width = .5) +\n",
    "xlab('Music Condition') + ylab('Response Time (ms)') + ylim(0, 1500) + facet_grid(~block_d)"
   ]
  },
  {
   "cell_type": "markdown",
   "metadata": {},
   "source": [
    "Here, it's easy to see how overall RTs and switch costs decrease over blocks. It really doesn't look like things are varying over blocks, however."
   ]
  },
  {
   "cell_type": "markdown",
   "metadata": {},
   "source": [
    "## The ANOVAs"
   ]
  },
  {
   "cell_type": "markdown",
   "metadata": {},
   "source": [
    "Just to keep the order consistent (and to adhere to what I said in the outline), I'm going to present the error rate ANOVA first. But remember, the RT analysis is the one you were most interested in, at least with respect to what your predictions were."
   ]
  },
  {
   "cell_type": "markdown",
   "metadata": {},
   "source": [
    "**ANOVA for error rates**"
   ]
  },
  {
   "cell_type": "code",
   "execution_count": 14,
   "metadata": {},
   "outputs": [
    {
     "data": {
      "text/html": [
       "<table>\n",
       "<thead><tr><th scope=col>subject</th><th scope=col>block</th><th scope=col>trial</th><th scope=col>rt</th><th scope=col>switch</th><th scope=col>error</th><th scope=col>taskcode</th><th scope=col>condition</th><th scope=col>transition</th><th scope=col>block_d</th></tr></thead>\n",
       "<tbody>\n",
       "\t<tr><td>1           </td><td>1           </td><td>1           </td><td>9889        </td><td>1           </td><td>1           </td><td>life        </td><td>instrumental</td><td>switch      </td><td>early       </td></tr>\n",
       "\t<tr><td>1           </td><td>1           </td><td>2           </td><td>1439        </td><td>0           </td><td>0           </td><td>life        </td><td>instrumental</td><td>repeat      </td><td>early       </td></tr>\n",
       "\t<tr><td>1           </td><td>1           </td><td>3           </td><td>1029        </td><td>0           </td><td>0           </td><td>life        </td><td>instrumental</td><td>repeat      </td><td>early       </td></tr>\n",
       "\t<tr><td>1           </td><td>1           </td><td>4           </td><td> 766        </td><td>0           </td><td>0           </td><td>life        </td><td>instrumental</td><td>repeat      </td><td>early       </td></tr>\n",
       "\t<tr><td>1           </td><td>1           </td><td>5           </td><td>1952        </td><td>1           </td><td>0           </td><td>valence     </td><td>instrumental</td><td>switch      </td><td>early       </td></tr>\n",
       "\t<tr><td>1           </td><td>1           </td><td>6           </td><td>1891        </td><td>1           </td><td>0           </td><td>life        </td><td>instrumental</td><td>switch      </td><td>early       </td></tr>\n",
       "</tbody>\n",
       "</table>\n"
      ],
      "text/latex": [
       "\\begin{tabular}{r|llllllllll}\n",
       " subject & block & trial & rt & switch & error & taskcode & condition & transition & block\\_d\\\\\n",
       "\\hline\n",
       "\t 1            & 1            & 1            & 9889         & 1            & 1            & life         & instrumental & switch       & early       \\\\\n",
       "\t 1            & 1            & 2            & 1439         & 0            & 0            & life         & instrumental & repeat       & early       \\\\\n",
       "\t 1            & 1            & 3            & 1029         & 0            & 0            & life         & instrumental & repeat       & early       \\\\\n",
       "\t 1            & 1            & 4            &  766         & 0            & 0            & life         & instrumental & repeat       & early       \\\\\n",
       "\t 1            & 1            & 5            & 1952         & 1            & 0            & valence      & instrumental & switch       & early       \\\\\n",
       "\t 1            & 1            & 6            & 1891         & 1            & 0            & life         & instrumental & switch       & early       \\\\\n",
       "\\end{tabular}\n"
      ],
      "text/markdown": [
       "\n",
       "subject | block | trial | rt | switch | error | taskcode | condition | transition | block_d | \n",
       "|---|---|---|---|---|---|\n",
       "| 1            | 1            | 1            | 9889         | 1            | 1            | life         | instrumental | switch       | early        | \n",
       "| 1            | 1            | 2            | 1439         | 0            | 0            | life         | instrumental | repeat       | early        | \n",
       "| 1            | 1            | 3            | 1029         | 0            | 0            | life         | instrumental | repeat       | early        | \n",
       "| 1            | 1            | 4            |  766         | 0            | 0            | life         | instrumental | repeat       | early        | \n",
       "| 1            | 1            | 5            | 1952         | 1            | 0            | valence      | instrumental | switch       | early        | \n",
       "| 1            | 1            | 6            | 1891         | 1            | 0            | life         | instrumental | switch       | early        | \n",
       "\n",
       "\n"
      ],
      "text/plain": [
       "  subject block trial rt   switch error taskcode condition    transition\n",
       "1 1       1     1     9889 1      1     life     instrumental switch    \n",
       "2 1       1     2     1439 0      0     life     instrumental repeat    \n",
       "3 1       1     3     1029 0      0     life     instrumental repeat    \n",
       "4 1       1     4      766 0      0     life     instrumental repeat    \n",
       "5 1       1     5     1952 1      0     valence  instrumental switch    \n",
       "6 1       1     6     1891 1      0     life     instrumental switch    \n",
       "  block_d\n",
       "1 early  \n",
       "2 early  \n",
       "3 early  \n",
       "4 early  \n",
       "5 early  \n",
       "6 early  "
      ]
     },
     "metadata": {},
     "output_type": "display_data"
    }
   ],
   "source": [
    "head(error_data)"
   ]
  },
  {
   "cell_type": "code",
   "execution_count": 27,
   "metadata": {},
   "outputs": [
    {
     "name": "stderr",
     "output_type": "stream",
     "text": [
      "Warning message:\n",
      "\"Converting \"subject\" to factor for ANOVA.\"Warning message:\n",
      "\"Converting \"transition\" to factor for ANOVA.\"Warning message:\n",
      "\"Collapsing data to cell means. *IF* the requested effects are a subset of the full design, you must use the \"within_full\" argument, else results may be inaccurate.\""
     ]
    },
    {
     "data": {
      "text/html": [
       "<table>\n",
       "<thead><tr><th scope=col>Effect</th><th scope=col>DFn</th><th scope=col>DFd</th><th scope=col>SSn</th><th scope=col>SSd</th><th scope=col>F</th><th scope=col>p</th><th scope=col>p&lt;.05</th><th scope=col>ges</th><th scope=col>n2p</th></tr></thead>\n",
       "<tbody>\n",
       "\t<tr><td>(Intercept)               </td><td>1                         </td><td>20                        </td><td>4.4075624872              </td><td>0.50237863                </td><td>175.4677528               </td><td>0.0000                    </td><td>*                         </td><td>0.7948126797              </td><td>0.897681333               </td></tr>\n",
       "\t<tr><td>condition                 </td><td>2                         </td><td>40                        </td><td>0.0099149947              </td><td>0.08580359                </td><td>  2.3110908               </td><td>0.1122                    </td><td>                          </td><td>0.0086385392              </td><td>0.103584840               </td></tr>\n",
       "\t<tr><td>transition                </td><td>1                         </td><td>20                        </td><td>0.0786367013              </td><td>0.12756463                </td><td> 12.3289196               </td><td>0.0022                    </td><td>*                         </td><td>0.0646425787              </td><td>0.381358850               </td></tr>\n",
       "\t<tr><td>block                     </td><td>1                         </td><td>20                        </td><td>0.0011334360              </td><td>0.04448642                </td><td>  0.5095650               </td><td>0.4836                    </td><td>                          </td><td>0.0009951313              </td><td>0.024845237               </td></tr>\n",
       "\t<tr><td>condition:transition      </td><td>2                         </td><td>40                        </td><td>0.0009210434              </td><td>0.12812387                </td><td>  0.1437739               </td><td>0.8665                    </td><td>                          </td><td>0.0008088062              </td><td>0.007137387               </td></tr>\n",
       "\t<tr><td>condition:block           </td><td>2                         </td><td>40                        </td><td>0.0017208461              </td><td>0.08679227                </td><td>  0.3965436               </td><td>0.6753                    </td><td>                          </td><td>0.0015100854              </td><td>0.019441708               </td></tr>\n",
       "\t<tr><td>transition:block          </td><td>1                         </td><td>20                        </td><td>0.0003589641              </td><td>0.05244087                </td><td>  0.1369024               </td><td>0.7153                    </td><td>                          </td><td>0.0003153768              </td><td>0.006798583               </td></tr>\n",
       "\t<tr><td>condition:transition:block</td><td>2                         </td><td>40                        </td><td>0.0028055331              </td><td>0.11025762                </td><td>  0.5089051               </td><td>0.6050                    </td><td>                          </td><td>0.0024595842              </td><td>0.024813859               </td></tr>\n",
       "</tbody>\n",
       "</table>\n"
      ],
      "text/latex": [
       "\\begin{tabular}{r|llllllllll}\n",
       " Effect & DFn & DFd & SSn & SSd & F & p & p<.05 & ges & n2p\\\\\n",
       "\\hline\n",
       "\t (Intercept)                & 1                          & 20                         & 4.4075624872               & 0.50237863                 & 175.4677528                & 0.0000                     & *                          & 0.7948126797               & 0.897681333               \\\\\n",
       "\t condition                  & 2                          & 40                         & 0.0099149947               & 0.08580359                 &   2.3110908                & 0.1122                     &                            & 0.0086385392               & 0.103584840               \\\\\n",
       "\t transition                 & 1                          & 20                         & 0.0786367013               & 0.12756463                 &  12.3289196                & 0.0022                     & *                          & 0.0646425787               & 0.381358850               \\\\\n",
       "\t block                      & 1                          & 20                         & 0.0011334360               & 0.04448642                 &   0.5095650                & 0.4836                     &                            & 0.0009951313               & 0.024845237               \\\\\n",
       "\t condition:transition       & 2                          & 40                         & 0.0009210434               & 0.12812387                 &   0.1437739                & 0.8665                     &                            & 0.0008088062               & 0.007137387               \\\\\n",
       "\t condition:block            & 2                          & 40                         & 0.0017208461               & 0.08679227                 &   0.3965436                & 0.6753                     &                            & 0.0015100854               & 0.019441708               \\\\\n",
       "\t transition:block           & 1                          & 20                         & 0.0003589641               & 0.05244087                 &   0.1369024                & 0.7153                     &                            & 0.0003153768               & 0.006798583               \\\\\n",
       "\t condition:transition:block & 2                          & 40                         & 0.0028055331               & 0.11025762                 &   0.5089051                & 0.6050                     &                            & 0.0024595842               & 0.024813859               \\\\\n",
       "\\end{tabular}\n"
      ],
      "text/markdown": [
       "\n",
       "Effect | DFn | DFd | SSn | SSd | F | p | p<.05 | ges | n2p | \n",
       "|---|---|---|---|---|---|---|---|\n",
       "| (Intercept)                | 1                          | 20                         | 4.4075624872               | 0.50237863                 | 175.4677528                | 0.0000                     | *                          | 0.7948126797               | 0.897681333                | \n",
       "| condition                  | 2                          | 40                         | 0.0099149947               | 0.08580359                 |   2.3110908                | 0.1122                     |                            | 0.0086385392               | 0.103584840                | \n",
       "| transition                 | 1                          | 20                         | 0.0786367013               | 0.12756463                 |  12.3289196                | 0.0022                     | *                          | 0.0646425787               | 0.381358850                | \n",
       "| block                      | 1                          | 20                         | 0.0011334360               | 0.04448642                 |   0.5095650                | 0.4836                     |                            | 0.0009951313               | 0.024845237                | \n",
       "| condition:transition       | 2                          | 40                         | 0.0009210434               | 0.12812387                 |   0.1437739                | 0.8665                     |                            | 0.0008088062               | 0.007137387                | \n",
       "| condition:block            | 2                          | 40                         | 0.0017208461               | 0.08679227                 |   0.3965436                | 0.6753                     |                            | 0.0015100854               | 0.019441708                | \n",
       "| transition:block           | 1                          | 20                         | 0.0003589641               | 0.05244087                 |   0.1369024                | 0.7153                     |                            | 0.0003153768               | 0.006798583                | \n",
       "| condition:transition:block | 2                          | 40                         | 0.0028055331               | 0.11025762                 |   0.5089051                | 0.6050                     |                            | 0.0024595842               | 0.024813859                | \n",
       "\n",
       "\n"
      ],
      "text/plain": [
       "  Effect                     DFn DFd SSn          SSd        F           p     \n",
       "1 (Intercept)                1   20  4.4075624872 0.50237863 175.4677528 0.0000\n",
       "2 condition                  2   40  0.0099149947 0.08580359   2.3110908 0.1122\n",
       "3 transition                 1   20  0.0786367013 0.12756463  12.3289196 0.0022\n",
       "4 block                      1   20  0.0011334360 0.04448642   0.5095650 0.4836\n",
       "5 condition:transition       2   40  0.0009210434 0.12812387   0.1437739 0.8665\n",
       "6 condition:block            2   40  0.0017208461 0.08679227   0.3965436 0.6753\n",
       "7 transition:block           1   20  0.0003589641 0.05244087   0.1369024 0.7153\n",
       "8 condition:transition:block 2   40  0.0028055331 0.11025762   0.5089051 0.6050\n",
       "  p<.05 ges          n2p        \n",
       "1 *     0.7948126797 0.897681333\n",
       "2       0.0086385392 0.103584840\n",
       "3 *     0.0646425787 0.381358850\n",
       "4       0.0009951313 0.024845237\n",
       "5       0.0008088062 0.007137387\n",
       "6       0.0015100854 0.019441708\n",
       "7       0.0003153768 0.006798583\n",
       "8       0.0024595842 0.024813859"
      ]
     },
     "metadata": {},
     "output_type": "display_data"
    }
   ],
   "source": [
    "m1 <- error_data %>% \n",
    "select(-block) %>% \n",
    "rename(block = block_d) %>% \n",
    "ezANOVA(data = ., wid = subject, within = .(condition, transition, block), dv = error, detailed = TRUE) \n",
    "cbind(m1$ANOVA, n2p = m1$ANOVA$SSn / (m1$ANOVA$SSn + m1$ANOVA$SSd)) %>% \n",
    "mutate(p = round(p, 4))"
   ]
  },
  {
   "cell_type": "markdown",
   "metadata": {},
   "source": [
    "Alright, so just a main effect of transition. Here are the marginal means for that effect."
   ]
  },
  {
   "cell_type": "code",
   "execution_count": 16,
   "metadata": {},
   "outputs": [
    {
     "data": {
      "text/html": [
       "<table>\n",
       "<thead><tr><th scope=col>transition</th><th scope=col>Error Rate (Mean)</th><th scope=col>Error Rate (SE)</th></tr></thead>\n",
       "<tbody>\n",
       "\t<tr><td>repeat    </td><td>0.1145861 </td><td>0.01114912</td></tr>\n",
       "\t<tr><td>switch    </td><td>0.1499159 </td><td>0.01433918</td></tr>\n",
       "</tbody>\n",
       "</table>\n"
      ],
      "text/latex": [
       "\\begin{tabular}{r|lll}\n",
       " transition & Error Rate (Mean) & Error Rate (SE)\\\\\n",
       "\\hline\n",
       "\t repeat     & 0.1145861  & 0.01114912\\\\\n",
       "\t switch     & 0.1499159  & 0.01433918\\\\\n",
       "\\end{tabular}\n"
      ],
      "text/markdown": [
       "\n",
       "transition | Error Rate (Mean) | Error Rate (SE) | \n",
       "|---|---|\n",
       "| repeat     | 0.1145861  | 0.01114912 | \n",
       "| switch     | 0.1499159  | 0.01433918 | \n",
       "\n",
       "\n"
      ],
      "text/plain": [
       "  transition Error Rate (Mean) Error Rate (SE)\n",
       "1 repeat     0.1145861         0.01114912     \n",
       "2 switch     0.1499159         0.01433918     "
      ]
     },
     "metadata": {},
     "output_type": "display_data"
    }
   ],
   "source": [
    "error_data %>% \n",
    "group_by(subject, block_d, condition, transition) %>% \n",
    "summarize(error = mean(error)) %>% \n",
    "group_by(transition) %>% \n",
    "summarize('Error Rate (Mean)' = mean(error), 'Error Rate (SE)' = sd(error) / sqrt(N)) "
   ]
  },
  {
   "cell_type": "markdown",
   "metadata": {},
   "source": [
    "**ANOVA for RTs**"
   ]
  },
  {
   "cell_type": "code",
   "execution_count": 26,
   "metadata": {
    "scrolled": false
   },
   "outputs": [
    {
     "name": "stderr",
     "output_type": "stream",
     "text": [
      "Warning message:\n",
      "\"Converting \"subject\" to factor for ANOVA.\"Warning message:\n",
      "\"Converting \"transition\" to factor for ANOVA.\"Warning message:\n",
      "\"Collapsing data to cell means. *IF* the requested effects are a subset of the full design, you must use the \"within_full\" argument, else results may be inaccurate.\""
     ]
    },
    {
     "data": {
      "text/html": [
       "<table>\n",
       "<thead><tr><th scope=col>Effect</th><th scope=col>DFn</th><th scope=col>DFd</th><th scope=col>SSn</th><th scope=col>SSd</th><th scope=col>F</th><th scope=col>p</th><th scope=col>p&lt;.05</th><th scope=col>ges</th><th scope=col>n2p</th></tr></thead>\n",
       "<tbody>\n",
       "\t<tr><td>(Intercept)               </td><td>1                         </td><td>20                        </td><td>218208926.693             </td><td>4366607.51                </td><td>999.4437386               </td><td>0.0000                    </td><td>*                         </td><td>0.9689728157              </td><td>0.98038146                </td></tr>\n",
       "\t<tr><td>condition                 </td><td>2                         </td><td>40                        </td><td>    21340.989             </td><td>1007548.77                </td><td>  0.4236220               </td><td>0.6576                    </td><td>                          </td><td>0.0030449966              </td><td>0.02074176                </td></tr>\n",
       "\t<tr><td>transition                </td><td>1                         </td><td>20                        </td><td>  1284503.374             </td><td> 162413.25                </td><td>158.1771628               </td><td>0.0000                    </td><td>*                         </td><td>0.1552888248              </td><td>0.88775217                </td></tr>\n",
       "\t<tr><td>block                     </td><td>1                         </td><td>20                        </td><td>  1570062.574             </td><td> 317524.71                </td><td> 98.8938831               </td><td>0.0000                    </td><td>*                         </td><td>0.1834771613              </td><td>0.83178277                </td></tr>\n",
       "\t<tr><td>condition:transition      </td><td>2                         </td><td>40                        </td><td>     8755.189             </td><td> 196312.41                </td><td>  0.8919649               </td><td>0.4178                    </td><td>                          </td><td>0.0012514641              </td><td>0.04269416                </td></tr>\n",
       "\t<tr><td>condition:block           </td><td>2                         </td><td>40                        </td><td>    53407.090             </td><td> 623942.22                </td><td>  1.7119242               </td><td>0.1935                    </td><td>                          </td><td>0.0075855783              </td><td>0.07884719                </td></tr>\n",
       "\t<tr><td>transition:block          </td><td>1                         </td><td>20                        </td><td>   104590.817             </td><td>  85638.26                </td><td> 24.4261878               </td><td>0.0001                    </td><td>*                         </td><td>0.0147481494              </td><td>0.54981508                </td></tr>\n",
       "\t<tr><td>condition:transition:block</td><td>2                         </td><td>40                        </td><td>     6185.649             </td><td> 227214.66                </td><td>  0.5444762               </td><td>0.5844                    </td><td>                          </td><td>0.0008844997              </td><td>0.02650232                </td></tr>\n",
       "</tbody>\n",
       "</table>\n"
      ],
      "text/latex": [
       "\\begin{tabular}{r|llllllllll}\n",
       " Effect & DFn & DFd & SSn & SSd & F & p & p<.05 & ges & n2p\\\\\n",
       "\\hline\n",
       "\t (Intercept)                & 1                          & 20                         & 218208926.693              & 4366607.51                 & 999.4437386                & 0.0000                     & *                          & 0.9689728157               & 0.98038146                \\\\\n",
       "\t condition                  & 2                          & 40                         &     21340.989              & 1007548.77                 &   0.4236220                & 0.6576                     &                            & 0.0030449966               & 0.02074176                \\\\\n",
       "\t transition                 & 1                          & 20                         &   1284503.374              &  162413.25                 & 158.1771628                & 0.0000                     & *                          & 0.1552888248               & 0.88775217                \\\\\n",
       "\t block                      & 1                          & 20                         &   1570062.574              &  317524.71                 &  98.8938831                & 0.0000                     & *                          & 0.1834771613               & 0.83178277                \\\\\n",
       "\t condition:transition       & 2                          & 40                         &      8755.189              &  196312.41                 &   0.8919649                & 0.4178                     &                            & 0.0012514641               & 0.04269416                \\\\\n",
       "\t condition:block            & 2                          & 40                         &     53407.090              &  623942.22                 &   1.7119242                & 0.1935                     &                            & 0.0075855783               & 0.07884719                \\\\\n",
       "\t transition:block           & 1                          & 20                         &    104590.817              &   85638.26                 &  24.4261878                & 0.0001                     & *                          & 0.0147481494               & 0.54981508                \\\\\n",
       "\t condition:transition:block & 2                          & 40                         &      6185.649              &  227214.66                 &   0.5444762                & 0.5844                     &                            & 0.0008844997               & 0.02650232                \\\\\n",
       "\\end{tabular}\n"
      ],
      "text/markdown": [
       "\n",
       "Effect | DFn | DFd | SSn | SSd | F | p | p<.05 | ges | n2p | \n",
       "|---|---|---|---|---|---|---|---|\n",
       "| (Intercept)                | 1                          | 20                         | 218208926.693              | 4366607.51                 | 999.4437386                | 0.0000                     | *                          | 0.9689728157               | 0.98038146                 | \n",
       "| condition                  | 2                          | 40                         |     21340.989              | 1007548.77                 |   0.4236220                | 0.6576                     |                            | 0.0030449966               | 0.02074176                 | \n",
       "| transition                 | 1                          | 20                         |   1284503.374              |  162413.25                 | 158.1771628                | 0.0000                     | *                          | 0.1552888248               | 0.88775217                 | \n",
       "| block                      | 1                          | 20                         |   1570062.574              |  317524.71                 |  98.8938831                | 0.0000                     | *                          | 0.1834771613               | 0.83178277                 | \n",
       "| condition:transition       | 2                          | 40                         |      8755.189              |  196312.41                 |   0.8919649                | 0.4178                     |                            | 0.0012514641               | 0.04269416                 | \n",
       "| condition:block            | 2                          | 40                         |     53407.090              |  623942.22                 |   1.7119242                | 0.1935                     |                            | 0.0075855783               | 0.07884719                 | \n",
       "| transition:block           | 1                          | 20                         |    104590.817              |   85638.26                 |  24.4261878                | 0.0001                     | *                          | 0.0147481494               | 0.54981508                 | \n",
       "| condition:transition:block | 2                          | 40                         |      6185.649              |  227214.66                 |   0.5444762                | 0.5844                     |                            | 0.0008844997               | 0.02650232                 | \n",
       "\n",
       "\n"
      ],
      "text/plain": [
       "  Effect                     DFn DFd SSn           SSd        F          \n",
       "1 (Intercept)                1   20  218208926.693 4366607.51 999.4437386\n",
       "2 condition                  2   40      21340.989 1007548.77   0.4236220\n",
       "3 transition                 1   20    1284503.374  162413.25 158.1771628\n",
       "4 block                      1   20    1570062.574  317524.71  98.8938831\n",
       "5 condition:transition       2   40       8755.189  196312.41   0.8919649\n",
       "6 condition:block            2   40      53407.090  623942.22   1.7119242\n",
       "7 transition:block           1   20     104590.817   85638.26  24.4261878\n",
       "8 condition:transition:block 2   40       6185.649  227214.66   0.5444762\n",
       "  p      p<.05 ges          n2p       \n",
       "1 0.0000 *     0.9689728157 0.98038146\n",
       "2 0.6576       0.0030449966 0.02074176\n",
       "3 0.0000 *     0.1552888248 0.88775217\n",
       "4 0.0000 *     0.1834771613 0.83178277\n",
       "5 0.4178       0.0012514641 0.04269416\n",
       "6 0.1935       0.0075855783 0.07884719\n",
       "7 0.0001 *     0.0147481494 0.54981508\n",
       "8 0.5844       0.0008844997 0.02650232"
      ]
     },
     "metadata": {},
     "output_type": "display_data"
    }
   ],
   "source": [
    "m2 <- current_data %>% \n",
    "select(-block) %>% \n",
    "rename(block = block_d) %>% \n",
    "ezANOVA(data = ., wid = subject, within = .(condition, transition, block), dv = rt, detailed = TRUE)\n",
    "cbind(m2$ANOVA, n2p = m2$ANOVA$SSn / (m2$ANOVA$SSn + m2$ANOVA$SSd)) %>% \n",
    "mutate(p = round(p,4))"
   ]
  },
  {
   "cell_type": "markdown",
   "metadata": {},
   "source": [
    "So two main effects (transition and block) and one interaction (transition and block). Here are the marginal means for those effects:"
   ]
  },
  {
   "cell_type": "code",
   "execution_count": 18,
   "metadata": {},
   "outputs": [
    {
     "data": {
      "text/html": [
       "<table>\n",
       "<thead><tr><th scope=col>Transition</th><th scope=col>RT (Mean)</th><th scope=col>RT (se)</th></tr></thead>\n",
       "<tbody>\n",
       "\t<tr><td>repeat   </td><td> 859.1471</td><td>28.76814 </td></tr>\n",
       "\t<tr><td>switch   </td><td>1001.9369</td><td>40.90031 </td></tr>\n",
       "</tbody>\n",
       "</table>\n"
      ],
      "text/latex": [
       "\\begin{tabular}{r|lll}\n",
       " Transition & RT (Mean) & RT (se)\\\\\n",
       "\\hline\n",
       "\t repeat    &  859.1471 & 28.76814 \\\\\n",
       "\t switch    & 1001.9369 & 40.90031 \\\\\n",
       "\\end{tabular}\n"
      ],
      "text/markdown": [
       "\n",
       "Transition | RT (Mean) | RT (se) | \n",
       "|---|---|\n",
       "| repeat    |  859.1471 | 28.76814  | \n",
       "| switch    | 1001.9369 | 40.90031  | \n",
       "\n",
       "\n"
      ],
      "text/plain": [
       "  Transition RT (Mean) RT (se) \n",
       "1 repeat      859.1471 28.76814\n",
       "2 switch     1001.9369 40.90031"
      ]
     },
     "metadata": {},
     "output_type": "display_data"
    },
    {
     "data": {
      "text/html": [
       "<table>\n",
       "<thead><tr><th scope=col>Block</th><th scope=col>RT (Mean)</th><th scope=col>RT (se)</th></tr></thead>\n",
       "<tbody>\n",
       "\t<tr><td>early    </td><td>1009.4749</td><td>39.39465 </td></tr>\n",
       "\t<tr><td>late     </td><td> 851.6091</td><td>29.44341 </td></tr>\n",
       "</tbody>\n",
       "</table>\n"
      ],
      "text/latex": [
       "\\begin{tabular}{r|lll}\n",
       " Block & RT (Mean) & RT (se)\\\\\n",
       "\\hline\n",
       "\t early     & 1009.4749 & 39.39465 \\\\\n",
       "\t late      &  851.6091 & 29.44341 \\\\\n",
       "\\end{tabular}\n"
      ],
      "text/markdown": [
       "\n",
       "Block | RT (Mean) | RT (se) | \n",
       "|---|---|\n",
       "| early     | 1009.4749 | 39.39465  | \n",
       "| late      |  851.6091 | 29.44341  | \n",
       "\n",
       "\n"
      ],
      "text/plain": [
       "  Block RT (Mean) RT (se) \n",
       "1 early 1009.4749 39.39465\n",
       "2 late   851.6091 29.44341"
      ]
     },
     "metadata": {},
     "output_type": "display_data"
    },
    {
     "data": {
      "text/html": [
       "<table>\n",
       "<thead><tr><th scope=col>Transition</th><th scope=col>Block</th><th scope=col>RT (Mean)</th><th scope=col>RT (se)</th></tr></thead>\n",
       "<tbody>\n",
       "\t<tr><td>repeat   </td><td>early    </td><td> 917.7074</td><td>28.96532 </td></tr>\n",
       "\t<tr><td>repeat   </td><td>late     </td><td> 800.5868</td><td>24.09707 </td></tr>\n",
       "\t<tr><td>switch   </td><td>early    </td><td>1101.2425</td><td>40.97190 </td></tr>\n",
       "\t<tr><td>switch   </td><td>late     </td><td> 902.6314</td><td>31.27611 </td></tr>\n",
       "</tbody>\n",
       "</table>\n"
      ],
      "text/latex": [
       "\\begin{tabular}{r|llll}\n",
       " Transition & Block & RT (Mean) & RT (se)\\\\\n",
       "\\hline\n",
       "\t repeat    & early     &  917.7074 & 28.96532 \\\\\n",
       "\t repeat    & late      &  800.5868 & 24.09707 \\\\\n",
       "\t switch    & early     & 1101.2425 & 40.97190 \\\\\n",
       "\t switch    & late      &  902.6314 & 31.27611 \\\\\n",
       "\\end{tabular}\n"
      ],
      "text/markdown": [
       "\n",
       "Transition | Block | RT (Mean) | RT (se) | \n",
       "|---|---|---|---|\n",
       "| repeat    | early     |  917.7074 | 28.96532  | \n",
       "| repeat    | late      |  800.5868 | 24.09707  | \n",
       "| switch    | early     | 1101.2425 | 40.97190  | \n",
       "| switch    | late      |  902.6314 | 31.27611  | \n",
       "\n",
       "\n"
      ],
      "text/plain": [
       "  Transition Block RT (Mean) RT (se) \n",
       "1 repeat     early  917.7074 28.96532\n",
       "2 repeat     late   800.5868 24.09707\n",
       "3 switch     early 1101.2425 40.97190\n",
       "4 switch     late   902.6314 31.27611"
      ]
     },
     "metadata": {},
     "output_type": "display_data"
    }
   ],
   "source": [
    "cell_means <- current_data %>% \n",
    "group_by(subject, block_d, condition, transition) %>% \n",
    "summarize(rt = mean(rt))\n",
    "\n",
    "cell_means %>% \n",
    "group_by(Transition = transition) %>% \n",
    "summarize('RT (Mean)' = mean(rt), 'RT (se)' = sd(rt) / sqrt(N))\n",
    "\n",
    "cell_means %>% \n",
    "group_by(Block = block_d) %>% \n",
    "summarize('RT (Mean)' = mean(rt), 'RT (se)' = sd(rt) / sqrt(N))\n",
    "\n",
    "cell_means %>% \n",
    "group_by(Transition = transition, Block = block_d) %>% \n",
    "summarize('RT (Mean)' = mean(rt), 'RT (se)' = sd(rt) / sqrt(N))"
   ]
  },
  {
   "cell_type": "markdown",
   "metadata": {},
   "source": [
    "Here's a plot for the two-way interaction."
   ]
  },
  {
   "cell_type": "code",
   "execution_count": 19,
   "metadata": {},
   "outputs": [
    {
     "data": {},
     "metadata": {},
     "output_type": "display_data"
    },
    {
     "data": {
      "image/png": "[encoded data removed]",
      "text/plain": [
       "plot without title"
      ]
     },
     "metadata": {},
     "output_type": "display_data"
    }
   ],
   "source": [
    "cell_means %>% \n",
    "group_by(transition, block_d) %>% \n",
    "summarize(r_time = mean(rt), se = sd(rt) / sqrt(N)) %>% \n",
    "ggplot(aes(x = block_d, y = r_time, group = transition)) + \n",
    "geom_bar(stat = 'identity', aes(fill = transition), position = 'dodge') + \n",
    "geom_errorbar(aes(ymin = r_time - se, ymax = r_time + se), position = position_dodge(width = .9), width = .5) + \n",
    "xlab('Block') + ylab('Response Time (ms)') + ylim(0, 1500)"
   ]
  },
  {
   "cell_type": "markdown",
   "metadata": {},
   "source": [
    "## Survey Data\n",
    "Doing a quick descriptive summary of the survey data. I'm dropping from these data those subjects that we dropped for the main analysis."
   ]
  },
  {
   "cell_type": "code",
   "execution_count": 20,
   "metadata": {},
   "outputs": [],
   "source": [
    "survey <- fread('../data/survey_results.csv')\n",
    "survey <- survey[complete.cases(survey)]\n",
    "survey <- survey[!(subject %in% bad_subjects$subject)]"
   ]
  },
  {
   "cell_type": "code",
   "execution_count": 21,
   "metadata": {},
   "outputs": [
    {
     "data": {
      "text/html": [
       "<table>\n",
       "<thead><tr><th scope=col>subject</th><th scope=col>personality</th><th scope=col>driving</th><th scope=col>studying</th></tr></thead>\n",
       "<tbody>\n",
       "\t<tr><td>1</td><td>6</td><td>7</td><td>3</td></tr>\n",
       "\t<tr><td>2</td><td>5</td><td>7</td><td>4</td></tr>\n",
       "\t<tr><td>3</td><td>5</td><td>7</td><td>2</td></tr>\n",
       "\t<tr><td>4</td><td>6</td><td>7</td><td>6</td></tr>\n",
       "\t<tr><td>6</td><td>3</td><td>6</td><td>5</td></tr>\n",
       "\t<tr><td>8</td><td>5</td><td>7</td><td>7</td></tr>\n",
       "</tbody>\n",
       "</table>\n"
      ],
      "text/latex": [
       "\\begin{tabular}{r|llll}\n",
       " subject & personality & driving & studying\\\\\n",
       "\\hline\n",
       "\t 1 & 6 & 7 & 3\\\\\n",
       "\t 2 & 5 & 7 & 4\\\\\n",
       "\t 3 & 5 & 7 & 2\\\\\n",
       "\t 4 & 6 & 7 & 6\\\\\n",
       "\t 6 & 3 & 6 & 5\\\\\n",
       "\t 8 & 5 & 7 & 7\\\\\n",
       "\\end{tabular}\n"
      ],
      "text/markdown": [
       "\n",
       "subject | personality | driving | studying | \n",
       "|---|---|---|---|---|---|\n",
       "| 1 | 6 | 7 | 3 | \n",
       "| 2 | 5 | 7 | 4 | \n",
       "| 3 | 5 | 7 | 2 | \n",
       "| 4 | 6 | 7 | 6 | \n",
       "| 6 | 3 | 6 | 5 | \n",
       "| 8 | 5 | 7 | 7 | \n",
       "\n",
       "\n"
      ],
      "text/plain": [
       "  subject personality driving studying\n",
       "1 1       6           7       3       \n",
       "2 2       5           7       4       \n",
       "3 3       5           7       2       \n",
       "4 4       6           7       6       \n",
       "5 6       3           6       5       \n",
       "6 8       5           7       7       "
      ]
     },
     "metadata": {},
     "output_type": "display_data"
    }
   ],
   "source": [
    "head(survey)"
   ]
  },
  {
   "cell_type": "code",
   "execution_count": 22,
   "metadata": {},
   "outputs": [
    {
     "data": {
      "text/html": [
       "<table>\n",
       "<thead><tr><th scope=col>question</th><th scope=col>1</th><th scope=col>2</th><th scope=col>3</th><th scope=col>4</th><th scope=col>5</th><th scope=col>6</th><th scope=col>7</th></tr></thead>\n",
       "<tbody>\n",
       "\t<tr><td>driving    </td><td>0          </td><td>0          </td><td>0          </td><td>1          </td><td>0          </td><td>5          </td><td>15         </td></tr>\n",
       "\t<tr><td>personality</td><td>0          </td><td>3          </td><td>5          </td><td>0          </td><td>8          </td><td>5          </td><td> 0         </td></tr>\n",
       "\t<tr><td>studying   </td><td>1          </td><td>2          </td><td>6          </td><td>2          </td><td>4          </td><td>3          </td><td> 3         </td></tr>\n",
       "</tbody>\n",
       "</table>\n"
      ],
      "text/latex": [
       "\\begin{tabular}{r|llllllll}\n",
       " question & 1 & 2 & 3 & 4 & 5 & 6 & 7\\\\\n",
       "\\hline\n",
       "\t driving     & 0           & 0           & 0           & 1           & 0           & 5           & 15         \\\\\n",
       "\t personality & 0           & 3           & 5           & 0           & 8           & 5           &  0         \\\\\n",
       "\t studying    & 1           & 2           & 6           & 2           & 4           & 3           &  3         \\\\\n",
       "\\end{tabular}\n"
      ],
      "text/markdown": [
       "\n",
       "question | 1 | 2 | 3 | 4 | 5 | 6 | 7 | \n",
       "|---|---|---|\n",
       "| driving     | 0           | 0           | 0           | 1           | 0           | 5           | 15          | \n",
       "| personality | 0           | 3           | 5           | 0           | 8           | 5           |  0          | \n",
       "| studying    | 1           | 2           | 6           | 2           | 4           | 3           |  3          | \n",
       "\n",
       "\n"
      ],
      "text/plain": [
       "  question    1 2 3 4 5 6 7 \n",
       "1 driving     0 0 0 1 0 5 15\n",
       "2 personality 0 3 5 0 8 5  0\n",
       "3 studying    1 2 6 2 4 3  3"
      ]
     },
     "metadata": {},
     "output_type": "display_data"
    }
   ],
   "source": [
    "survey_summary <- survey %>% \n",
    "gather(question, rating, personality:studying) %>% \n",
    "mutate(question = as.factor(question)) %>% \n",
    "group_by(question, rating) %>% \n",
    "summarize(density = n()) %>% \n",
    "arrange(question, rating) %>% \n",
    "spread(rating, density) %>% \n",
    "replace(., is.na(.), 0)\n",
    "\n",
    "survey_summary"
   ]
  },
  {
   "cell_type": "markdown",
   "metadata": {},
   "source": [
    "The table above shows how many reponses were given under each rating for each question.  \n",
    "I originally plotted these data in a density plot that looked like this:"
   ]
  },
  {
   "cell_type": "code",
   "execution_count": 23,
   "metadata": {},
   "outputs": [
    {
     "data": {},
     "metadata": {},
     "output_type": "display_data"
    },
    {
     "data": {
      "image/png": "[encoded data removed]",
      "text/plain": [
       "plot without title"
      ]
     },
     "metadata": {},
     "output_type": "display_data"
    }
   ],
   "source": [
    "survey %>% \n",
    "gather(question, rating, personality:studying) %>% \n",
    "ggplot(aes(x = rating)) + geom_density(aes(fill = question), alpha = .3) + xlab('Rating')"
   ]
  },
  {
   "cell_type": "markdown",
   "metadata": {},
   "source": [
    "But you'll notice the y-axis is different. The following graph more literally depicts the count of each observation of each rating, but (in my opinion) makes interpreting the distribution more difficult."
   ]
  },
  {
   "cell_type": "code",
   "execution_count": 24,
   "metadata": {},
   "outputs": [
    {
     "data": {},
     "metadata": {},
     "output_type": "display_data"
    },
    {
     "data": {
      "image/png": "[encoded data removed]",
      "text/plain": [
       "plot without title"
      ]
     },
     "metadata": {},
     "output_type": "display_data"
    }
   ],
   "source": [
    "survey %>% \n",
    "gather(question, rating, personality:studying) %>% \n",
    "ggplot(aes(x = factor(rating))) + geom_bar(aes(fill = question), position = 'dodge') + xlab('Rating')\n"
   ]
  },
  {
   "cell_type": "markdown",
   "metadata": {},
   "source": [
    "Scores tended to be pretty uniform for both personality and studying, but most people seem to listen to music while driving."
   ]
  },
  {
   "cell_type": "markdown",
   "metadata": {},
   "source": [
    "## Data Access\n",
    "If you guys want to access the data to do stuff to it yourselves, everything is in the `data` folder inside your guys' main folder on OSF. More specfically: `./Music Group/data/`\n",
    "* `survey_results.txt` -- the survey data that's plotted immediately above\n",
    "* `subject_means.xlsx` -- a cleaned dataset with the full design by subject in excel"
   ]
  },
  {
   "cell_type": "code",
   "execution_count": 25,
   "metadata": {},
   "outputs": [
    {
     "name": "stderr",
     "output_type": "stream",
     "text": [
      "\n",
      "Attaching package: 'reshape2'\n",
      "\n",
      "The following objects are masked from 'package:data.table':\n",
      "\n",
      "    dcast, melt\n",
      "\n",
      "The following object is masked from 'package:tidyr':\n",
      "\n",
      "    smiths\n",
      "\n"
     ]
    }
   ],
   "source": [
    "library(reshape2)\n",
    "current_data %>% \n",
    "group_by(subject, block_d, condition, transition) %>% \n",
    "summarize(rt = mean(rt)) %>% \n",
    "dcast(subject ~ block_d + condition + transition, value.var = 'rt') %>% \n",
    "mutate(subject = as.numeric(subject)) %>% \n",
    "arrange(subject) %>% \n",
    "write.xlsx('../data/subject_means.xlsx', row.names = FALSE) \n",
    "write.table(survey_summary, '../data/survey_results.txt', row.names = FALSE)"
   ]
  }
 ],
 "metadata": {
  "kernelspec": {
   "display_name": "R",
   "language": "R",
   "name": "ir"
  },
  "language_info": {
   "codemirror_mode": "r",
   "file_extension": ".r",
   "mimetype": "text/x-r-source",
   "name": "R",
   "pygments_lexer": "r",
   "version": "3.4.3"
  }
 },
 "nbformat": 4,
 "nbformat_minor": 2
}
